{
  "nbformat": 4,
  "nbformat_minor": 0,
  "metadata": {
    "colab": {
      "name": "password_geneeator.ipynb",
      "provenance": [],
      "authorship_tag": "ABX9TyPYIKk0H7YIuJzL791dUeqE"
    },
    "kernelspec": {
      "name": "python3",
      "display_name": "Python 3"
    },
    "accelerator": "GPU"
  },
  "cells": [
    {
      "cell_type": "code",
      "metadata": {
        "colab": {
          "base_uri": "https://localhost:8080/"
        },
        "id": "Bt28DwOC8Xnd",
        "outputId": "11871c50-70c1-4eb5-e5f6-9beb13f7bcc1"
      },
      "source": [
        "''' Write a Python program that can take a positive integer greater than 2 as input and write out\n",
        " the number of times one must repeatedly divide this number by 2 before getting a value less than 2. '''\n",
        " \n",
        "def divide(num):\n",
        "  if num <= 2:\n",
        "    return \"Enter an intger bigger than 2\"\n",
        "  i = 1\n",
        "  while pow(2,i) <= num:\n",
        "    i += 1\n",
        "  return i - 1\n",
        "\n",
        "divide(3)"
      ],
      "execution_count": 9,
      "outputs": [
        {
          "output_type": "execute_result",
          "data": {
            "text/plain": [
              "1"
            ]
          },
          "metadata": {
            "tags": []
          },
          "execution_count": 9
        }
      ]
    }
  ]
}