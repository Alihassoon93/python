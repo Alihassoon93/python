{
  "nbformat": 4,
  "nbformat_minor": 0,
  "metadata": {
    "colab": {
      "name": "password_geneeator.ipynb",
      "provenance": [],
      "authorship_tag": "ABX9TyNGhFSq55gSAvoA7ITNQ0FB"
    },
    "kernelspec": {
      "name": "python3",
      "display_name": "Python 3"
    },
    "accelerator": "GPU"
  },
  "cells": [
    {
      "cell_type": "code",
      "metadata": {
        "colab": {
          "base_uri": "https://localhost:8080/"
        },
        "id": "Bt28DwOC8Xnd",
        "outputId": "aeacaf06-2a1a-472a-b81d-364d310e7ea2"
      },
      "source": [
        "''' Write a Python program that can “make change.” Your program should take two numbers as input,\n",
        " one that is a monetary amount charged and the other that is a monetary amount given.\n",
        " It should then return the number of each kind of bill and coin to give back as change for the difference between the amount given and the amount charged.\n",
        "  The values assigned to the bills and coins can be based on the monetary system of any current or former government.\n",
        " Try to design your program so that it returns as few bills and coins as possible.'''\n",
        "\n",
        "\n",
        "\n",
        "\n",
        "amount_payed = int(input(\"Pay: \"))\n",
        "AMOUNT_CHARGED = 300\n",
        "\n",
        "def change(AMOUNT_CHARGED, amount_payed):\n",
        "  money_type=(100,50,20,10,5,1,0.5,0.1)\n",
        "\n",
        "  if AMOUNT_CHARGED < amount_payed:\n",
        "    return \"The amount you've is not enough\"\n",
        "  elif AMOUNT_CHARGED == amount_payed:\n",
        "    return \"The bill is payed successfully!, no change \"\n",
        "\n",
        "  result = {}\n",
        "  total = AMOUNT_CHARGED - amount_payed\n",
        "\n",
        "  for bill in money_type:\n",
        "    num = total // bill\n",
        "    result[str(bill) + '$'] = int(num)\n",
        "    total = total - num*bill\n",
        "\n",
        "  print(f'The change is {result}')\n",
        "\n",
        "change(AMOUNT_CHARGED, amount_payed)"
      ],
      "execution_count": 50,
      "outputs": [
        {
          "output_type": "stream",
          "text": [
            "Pay: 180\n",
            "The change is {'100$': 1, '50$': 0, '20$': 1, '10$': 0, '5$': 0, '1$': 0, '0.5$': 0, '0.1$': 0}\n"
          ],
          "name": "stdout"
        }
      ]
    }
  ]
}