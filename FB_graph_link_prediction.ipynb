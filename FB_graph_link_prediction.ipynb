{
  "nbformat": 4,
  "nbformat_minor": 0,
  "metadata": {
    "accelerator": "TPU",
    "colab": {
      "name": "FB_graph_link_prediction.ipynb",
      "provenance": [],
      "collapsed_sections": [
        "AG-i6gKjgjOw",
        "2e_3s3vERpFI",
        "dUwgDQ-sRpFd"
      ],
      "authorship_tag": "ABX9TyOxXm+2dU7l851SR71CLZ3p",
      "include_colab_link": true
    },
    "kernelspec": {
      "display_name": "Python 3",
      "name": "python3"
    },
    "language_info": {
      "name": "python"
    }
  },
  "cells": [
    {
      "cell_type": "markdown",
      "metadata": {
        "id": "view-in-github",
        "colab_type": "text"
      },
      "source": [
        "<a href=\"https://colab.research.google.com/github/Alihassoon93/python/blob/main/FB_graph_link_prediction.ipynb\" target=\"_parent\"><img src=\"https://colab.research.google.com/assets/colab-badge.svg\" alt=\"Open In Colab\"/></a>"
      ]
    },
    {
      "cell_type": "markdown",
      "metadata": {
        "id": "2VXhpDSrVzhf"
      },
      "source": [
        "# **Social network Graph Link Prediction - Facebook**\n",
        "\n"
      ]
    },
    {
      "cell_type": "markdown",
      "metadata": {
        "id": "TCDTBPFyRpEx"
      },
      "source": [
        "### Problem statement: \n",
        "Given a directed social graph, have to predict missing links to recommend users (Link Prediction in graph)"
      ]
    },
    {
      "cell_type": "markdown",
      "metadata": {
        "id": "KyjzRgBgRpEz"
      },
      "source": [
        "### Data Overview\n",
        "Taken data from facebook's recruting challenge on kaggle https://www.kaggle.com/c/FacebookRecruiting  \n",
        "data contains two columns source and destination eac edge in graph \n",
        "    - Data columns (total 2 columns):  \n",
        "    - source_node         int64  \n",
        "    - destination_node    int64  "
      ]
    },
    {
      "cell_type": "markdown",
      "metadata": {
        "id": "TMbNaGN1RpE0"
      },
      "source": [
        "### Mapping the problem into supervised learning problem:\n",
        "- Generated training samples of good and bad links from given directed graph and for each link got some features like NO. of followers, is he followed back, page rank, katz score, adar index, some svd fetures of adj matrix, some weight features etc. and trained ml model based on these features to predict link. \n",
        "- Some reference papers and videos :  \n",
        "    - https://www.cs.cornell.edu/home/kleinber/link-pred.pdf\n",
        "    - https://www3.nd.edu/~dial/publications/lichtenwalter2010new.pdf\n",
        "    - https://kaggle2.blob.core.windows.net/forum-message-attachments/2594/supervised_link_prediction.pdf\n",
        "    - https://www.youtube.com/watch?v=2M77Hgy17cg"
      ]
    },
    {
      "cell_type": "markdown",
      "metadata": {
        "id": "WUM3PpdURpE2"
      },
      "source": [
        "### Business objectives and constraints:  \n",
        "- No low-latency requirement.\n",
        "- Probability of prediction is useful to recommend ighest probability links"
      ]
    },
    {
      "cell_type": "markdown",
      "metadata": {
        "id": "EI60vqrVRpE3"
      },
      "source": [
        "### Performance metric for supervised learning:  \n",
        "- Both precision and recall is important so F1 score is good choice\n",
        "- Confusion matrix"
      ]
    },
    {
      "cell_type": "code",
      "metadata": {
        "colab": {
          "base_uri": "https://localhost:8080/"
        },
        "id": "6ZO4C7_qRwKv",
        "outputId": "5356a84d-43c6-4ff9-fbc7-9766278e34d9"
      },
      "source": [
        "from google.colab import drive\n",
        "drive.mount('/content/drive')"
      ],
      "execution_count": null,
      "outputs": [
        {
          "output_type": "stream",
          "name": "stdout",
          "text": [
            "Mounted at /content/drive\n"
          ]
        }
      ]
    },
    {
      "cell_type": "code",
      "metadata": {
        "id": "pVq1UeXJZCmp"
      },
      "source": [
        "#Importing Libraries\n",
        "import warnings\n",
        "warnings.filterwarnings(\"ignore\")\n",
        "\n",
        "import csv\n",
        "import pandas as pd#pandas to create small dataframes \n",
        "import datetime #Convert to unix time\n",
        "import time #Convert to unix time\n",
        "import numpy as np#Do aritmetic operations on arrays\n",
        "# matplotlib: used to plot graphs\n",
        "import matplotlib\n",
        "import matplotlib.pylab as plt\n",
        "import seaborn as sns#Plots\n",
        "from matplotlib import rcParams#Size of plots  \n",
        "from sklearn.cluster import MiniBatchKMeans, KMeans#Clustering\n",
        "import math\n",
        "import pickle\n",
        "import os\n",
        "import xgboost as xgb\n",
        "\n",
        "import warnings\n",
        "import networkx as nx\n",
        "import pdb"
      ],
      "execution_count": null,
      "outputs": []
    },
    {
      "cell_type": "markdown",
      "metadata": {
        "id": "AG-i6gKjgjOw"
      },
      "source": [
        "### NOTE: the if/else statement is used to to check if you have the file on your machine"
      ]
    },
    {
      "cell_type": "markdown",
      "metadata": {
        "id": "qRL1s5Wqfa9v"
      },
      "source": [
        "> Reading the Graph"
      ]
    },
    {
      "cell_type": "code",
      "metadata": {
        "colab": {
          "base_uri": "https://localhost:8080/"
        },
        "id": "1ZIdk_gGaPSJ",
        "outputId": "b2add148-9f4a-45ed-e358-78cb4242e4e7"
      },
      "source": [
        "if not os.path.isfile('/content/drive/MyDrive/data_raw/train_woheader.csv'):\n",
        "    traincsv = pd.read_csv('/content/drive/MyDrive/data_raw/train.csv')\n",
        "    print(traincsv[traincsv.isna().any(1)])\n",
        "    print(traincsv.info())\n",
        "    print(\"Number of diplicate entries: \",sum(traincsv.duplicated()))\n",
        "    traincsv.to_csv('/content/drive/MyDrive/data_raw/train_woheader.csv',header=False,index=False)\n",
        "    print(\"saved the graph into file\")\n",
        "else:\n",
        "    g=nx.read_edgelist('/content/drive/MyDrive/data_raw/train_woheader.csv',delimiter=',',create_using=nx.DiGraph(),nodetype=int)\n",
        "    print(nx.info(g))"
      ],
      "execution_count": null,
      "outputs": [
        {
          "name": "stdout",
          "output_type": "stream",
          "text": [
            "DiGraph with 1862220 nodes and 9437519 edges\n"
          ]
        }
      ]
    },
    {
      "cell_type": "markdown",
      "metadata": {
        "id": "qY5yFwyFRpFE"
      },
      "source": [
        "> Displaying a Sub Graph"
      ]
    },
    {
      "cell_type": "code",
      "metadata": {
        "colab": {
          "base_uri": "https://localhost:8080/",
          "height": 336
        },
        "id": "nS5R49OKd5Fn",
        "outputId": "4e0008e2-e9c9-4f32-bf5d-c7aa19d2db92"
      },
      "source": [
        "if not os.path.isfile('/content/drive/MyDrive/data_raw/train.csv/train_woheader_sample.csv'):\n",
        "    pd.read_csv('/content/drive/MyDrive/data_raw/train.csv', nrows=50).to_csv('/content/drive/MyDrive/data_raw/train_woheader_sample.csv',header=False,index=False)\n",
        "    \n",
        "subgraph=nx.read_edgelist('/content/drive/MyDrive/data_raw/train_woheader_sample.csv',delimiter=',',create_using=nx.DiGraph(),nodetype=int)\n",
        "# https://stackoverflow.com/questions/9402255/drawing-a-huge-graph-with-networkx-and-matplotlib\n",
        "\n",
        "pos=nx.spring_layout(subgraph)\n",
        "nx.draw(subgraph,pos,node_color='#A0CBE2',edge_color='#00bb5e',width=1,edge_cmap=plt.cm.Blues,with_labels=True)\n",
        "plt.savefig(\"graph_sample.pdf\")\n",
        "print(nx.info(subgraph))"
      ],
      "execution_count": null,
      "outputs": [
        {
          "name": "stdout",
          "output_type": "stream",
          "text": [
            "DiGraph with 66 nodes and 50 edges\n"
          ]
        },
        {
          "data": {
            "image/png": "[encoded data removed]",
            "text/plain": [
              "<Figure size 432x288 with 1 Axes>"
            ]
          },
          "metadata": {},
          "output_type": "display_data"
        }
      ]
    },
    {
      "cell_type": "markdown",
      "metadata": {
        "id": "2e_3s3vERpFI"
      },
      "source": [
        "# 1. Exploratory Data Analysis"
      ]
    },
    {
      "cell_type": "code",
      "metadata": {
        "colab": {
          "base_uri": "https://localhost:8080/"
        },
        "id": "qB-4LTSJ5tpY",
        "outputId": "8424f09a-50f7-4df9-da23-58ed67545ee4"
      },
      "source": [
        "# No of Unique persons \n",
        "print(\"The number of unique persons\",len(g.nodes()))"
      ],
      "execution_count": null,
      "outputs": [
        {
          "name": "stdout",
          "output_type": "stream",
          "text": [
            "The number of unique persons 1862220\n"
          ]
        }
      ]
    },
    {
      "cell_type": "markdown",
      "metadata": {
        "id": "aqCSWk08RpFK"
      },
      "source": [
        "## 1.1 No. of followers for each person"
      ]
    },
    {
      "cell_type": "code",
      "metadata": {
        "colab": {
          "base_uri": "https://localhost:8080/",
          "height": 388
        },
        "id": "wSyFbj_l6CtM",
        "outputId": "d5aa7e5e-82af-4c76-e186-0d37fa1fc008"
      },
      "source": [
        "# here we took all the points\n",
        "\n",
        "indegree_dist = list(dict(g.in_degree()).values())\n",
        "indegree_dist.sort()\n",
        "plt.figure(figsize=(10,6))\n",
        "plt.plot(indegree_dist)\n",
        "plt.xlabel('Index No')\n",
        "plt.ylabel('No Of Followers')\n",
        "plt.show()"
      ],
      "execution_count": null,
      "outputs": [
        {
          "data": {
            "image/png": "[encoded data removed]",
            "text/plain": [
              "<Figure size 720x432 with 1 Axes>"
            ]
          },
          "metadata": {},
          "output_type": "display_data"
        }
      ]
    },
    {
      "cell_type": "code",
      "metadata": {
        "colab": {
          "base_uri": "https://localhost:8080/",
          "height": 388
        },
        "id": "KDUwmJJk7fDV",
        "outputId": "c900f49a-e82e-463d-9bfe-faac81887be4"
      },
      "source": [
        "# here we take 1500000 points in order to zoom in and observe more details\n",
        "\n",
        "indegree_dist = list(dict(g.in_degree()).values())\n",
        "indegree_dist.sort()\n",
        "plt.figure(figsize=(10,6))\n",
        "plt.plot(indegree_dist[0:1500000])\n",
        "plt.xlabel('Index No')\n",
        "plt.ylabel('No Of Followers')\n",
        "plt.show()"
      ],
      "execution_count": null,
      "outputs": [
        {
          "data": {
            "image/png": "[encoded data removed]",
            "text/plain": [
              "<Figure size 720x432 with 1 Axes>"
            ]
          },
          "metadata": {},
          "output_type": "display_data"
        }
      ]
    },
    {
      "cell_type": "code",
      "metadata": {
        "colab": {
          "base_uri": "https://localhost:8080/"
        },
        "id": "i4Hx2WGe8cji",
        "outputId": "444749eb-4534-4dd8-8282-fe423a4663a7"
      },
      "source": [
        "### 90-100 percentile\n",
        "for i in range(0,11):\n",
        "    print(90+i,'percentile value is',np.percentile(indegree_dist,90+i))"
      ],
      "execution_count": null,
      "outputs": [
        {
          "name": "stdout",
          "output_type": "stream",
          "text": [
            "90 percentile value is 12.0\n",
            "91 percentile value is 13.0\n",
            "92 percentile value is 14.0\n",
            "93 percentile value is 15.0\n",
            "94 percentile value is 17.0\n",
            "95 percentile value is 19.0\n",
            "96 percentile value is 21.0\n",
            "97 percentile value is 24.0\n",
            "98 percentile value is 29.0\n",
            "99 percentile value is 40.0\n",
            "100 percentile value is 552.0\n"
          ]
        }
      ]
    },
    {
      "cell_type": "markdown",
      "metadata": {
        "id": "4BeVpt2zRpFO"
      },
      "source": [
        "99% of data having followers <= 40."
      ]
    },
    {
      "cell_type": "code",
      "metadata": {
        "colab": {
          "base_uri": "https://localhost:8080/"
        },
        "id": "cUXtKZQR9I34",
        "outputId": "27b091a1-2cc6-44e2-ecf6-d05e048598b5"
      },
      "source": [
        "# we zoom in for more insight\n",
        "### 99-100 percentile\n",
        "for i in range(10,110,10):\n",
        "    print(99+(i/100),'percentile value is',np.percentile(indegree_dist,99+(i/100)))"
      ],
      "execution_count": null,
      "outputs": [
        {
          "name": "stdout",
          "output_type": "stream",
          "text": [
            "99.1 percentile value is 42.0\n",
            "99.2 percentile value is 44.0\n",
            "99.3 percentile value is 47.0\n",
            "99.4 percentile value is 50.0\n",
            "99.5 percentile value is 55.0\n",
            "99.6 percentile value is 61.0\n",
            "99.7 percentile value is 70.0\n",
            "99.8 percentile value is 84.0\n",
            "99.9 percentile value is 112.0\n",
            "100.0 percentile value is 552.0\n"
          ]
        }
      ]
    },
    {
      "cell_type": "markdown",
      "metadata": {
        "id": "LshXYqKd9i_N"
      },
      "source": [
        "99.9% of data having followers <= 112."
      ]
    },
    {
      "cell_type": "code",
      "metadata": {
        "colab": {
          "base_uri": "https://localhost:8080/",
          "height": 511
        },
        "id": "wYtJLShf96xc",
        "outputId": "fed17ac4-9587-4435-ef9b-befdbce579f5"
      },
      "source": [
        "# plotting the PDF\n",
        "\n",
        "%matplotlib inline\n",
        "sns.set_style('ticks')\n",
        "fig, ax = plt.subplots()\n",
        "fig.set_size_inches(11.7, 8.27)\n",
        "sns.distplot(indegree_dist, color='#16A085')\n",
        "plt.xlabel('PDF of Indegree')\n",
        "sns.despine()\n",
        "#plt.show()"
      ],
      "execution_count": null,
      "outputs": [
        {
          "data": {
            "image/png": "[encoded data removed]",
            "text/plain": [
              "<Figure size 842.4x595.44 with 1 Axes>"
            ]
          },
          "metadata": {},
          "output_type": "display_data"
        }
      ]
    },
    {
      "cell_type": "markdown",
      "metadata": {
        "id": "_RdrjGa6RpFR"
      },
      "source": [
        "## 1.2 No. of people each person is following"
      ]
    },
    {
      "cell_type": "code",
      "metadata": {
        "colab": {
          "base_uri": "https://localhost:8080/",
          "height": 388
        },
        "id": "jOe_WrIq-Onv",
        "outputId": "0e81d6d2-6c16-4f36-c3f8-0ac7c5dc0ae1"
      },
      "source": [
        "# here we took all the points\n",
        "\n",
        "outdegree_dist = list(dict(g.out_degree()).values())\n",
        "outdegree_dist.sort()\n",
        "plt.figure(figsize=(10,6))\n",
        "plt.plot(outdegree_dist)\n",
        "plt.xlabel('Index No')\n",
        "plt.ylabel('No Of people each person is following')\n",
        "plt.show()"
      ],
      "execution_count": null,
      "outputs": [
        {
          "data": {
            "image/png": "[encoded data removed]",
            "text/plain": [
              "<Figure size 720x432 with 1 Axes>"
            ]
          },
          "metadata": {},
          "output_type": "display_data"
        }
      ]
    },
    {
      "cell_type": "code",
      "metadata": {
        "colab": {
          "base_uri": "https://localhost:8080/",
          "height": 388
        },
        "id": "oIn5syxi-bWY",
        "outputId": "f89223a0-adb5-452a-92ef-fc9edc982af0"
      },
      "source": [
        "# here we take 1500000 points in order to zoom in and observe more details\n",
        "\n",
        "indegree_dist = list(dict(g.in_degree()).values())\n",
        "indegree_dist.sort()\n",
        "plt.figure(figsize=(10,6))\n",
        "plt.plot(outdegree_dist[0:1500000])\n",
        "plt.xlabel('Index No')\n",
        "plt.ylabel('No Of people each person is following')\n",
        "plt.show()"
      ],
      "execution_count": null,
      "outputs": [
        {
          "data": {
            "image/png": "[encoded data removed]",
            "text/plain": [
              "<Figure size 720x432 with 1 Axes>"
            ]
          },
          "metadata": {},
          "output_type": "display_data"
        }
      ]
    },
    {
      "cell_type": "code",
      "metadata": {
        "colab": {
          "base_uri": "https://localhost:8080/"
        },
        "id": "LW_TwQ-B_FPs",
        "outputId": "91161367-16b8-41b8-b42b-94b2982c9630"
      },
      "source": [
        "### 90-100 percentile\n",
        "for i in range(0,11):\n",
        "    print(90+i,'percentile value is',np.percentile(outdegree_dist,90+i))"
      ],
      "execution_count": null,
      "outputs": [
        {
          "name": "stdout",
          "output_type": "stream",
          "text": [
            "90 percentile value is 12.0\n",
            "91 percentile value is 13.0\n",
            "92 percentile value is 14.0\n",
            "93 percentile value is 15.0\n",
            "94 percentile value is 17.0\n",
            "95 percentile value is 19.0\n",
            "96 percentile value is 21.0\n",
            "97 percentile value is 24.0\n",
            "98 percentile value is 29.0\n",
            "99 percentile value is 40.0\n",
            "100 percentile value is 1566.0\n"
          ]
        }
      ]
    },
    {
      "cell_type": "code",
      "metadata": {
        "colab": {
          "base_uri": "https://localhost:8080/"
        },
        "id": "Z-iaz8CO_I5n",
        "outputId": "19b74806-823c-4071-f0d4-2a1ca8ba27ad"
      },
      "source": [
        "### 99-100 percentile\n",
        "for i in range(10,110,10):\n",
        "    print(99+(i/100),'percentile value is',np.percentile(outdegree_dist,99+(i/100)))"
      ],
      "execution_count": null,
      "outputs": [
        {
          "name": "stdout",
          "output_type": "stream",
          "text": [
            "99.1 percentile value is 42.0\n",
            "99.2 percentile value is 45.0\n",
            "99.3 percentile value is 48.0\n",
            "99.4 percentile value is 52.0\n",
            "99.5 percentile value is 56.0\n",
            "99.6 percentile value is 63.0\n",
            "99.7 percentile value is 73.0\n",
            "99.8 percentile value is 90.0\n",
            "99.9 percentile value is 123.0\n",
            "100.0 percentile value is 1566.0\n"
          ]
        }
      ]
    },
    {
      "cell_type": "code",
      "metadata": {
        "colab": {
          "base_uri": "https://localhost:8080/",
          "height": 511
        },
        "id": "N2NZBqBW_PhJ",
        "outputId": "4e890988-ea11-4a3a-8303-ec699360a63d"
      },
      "source": [
        "sns.set_style('ticks')\n",
        "fig, ax = plt.subplots()\n",
        "fig.set_size_inches(11.7, 8.27)\n",
        "sns.distplot(outdegree_dist, color='#16A085')\n",
        "plt.xlabel('PDF of Outdegree')\n",
        "sns.despine()"
      ],
      "execution_count": null,
      "outputs": [
        {
          "data": {
            "image/png": "[encoded data removed]",
            "text/plain": [
              "<Figure size 842.4x595.44 with 1 Axes>"
            ]
          },
          "metadata": {},
          "output_type": "display_data"
        }
      ]
    },
    {
      "cell_type": "markdown",
      "metadata": {
        "id": "1-7m-SgxAaaB"
      },
      "source": [
        "**Observation**: \n",
        "\n",
        "*   Most of People have small No. of Followers, except for some outlier\n",
        "*   Most of People Follow small No. of People , except for some outlier\n",
        "\n"
      ]
    },
    {
      "cell_type": "code",
      "metadata": {
        "colab": {
          "base_uri": "https://localhost:8080/"
        },
        "id": "R5_AyXnQCvVW",
        "outputId": "be43de06-9055-4258-a079-67d9274279e9"
      },
      "source": [
        "print('No. of persons those are not following anyone are' ,sum(np.array(outdegree_dist)==0),'and % is',\n",
        "                                sum(np.array(outdegree_dist)==0)*100/len(outdegree_dist) )"
      ],
      "execution_count": null,
      "outputs": [
        {
          "name": "stdout",
          "output_type": "stream",
          "text": [
            "No. of persons those are not following anyone are 274512 and % is 14.741115442858524\n"
          ]
        }
      ]
    },
    {
      "cell_type": "code",
      "metadata": {
        "colab": {
          "base_uri": "https://localhost:8080/"
        },
        "id": "7qETWQ-jCydz",
        "outputId": "edc3bf9c-dc4a-4947-f206-7b7f4e7d82c1"
      },
      "source": [
        "print('No. of persons having zero followers are' ,sum(np.array(indegree_dist )==0 ),'and % is',\n",
        "                                sum(np.array(indegree_dist)==0 )*100/len(indegree_dist) )"
      ],
      "execution_count": null,
      "outputs": [
        {
          "name": "stdout",
          "output_type": "stream",
          "text": [
            "No. of persons having zero followers are 188043 and % is 10.097786512871734\n"
          ]
        }
      ]
    },
    {
      "cell_type": "code",
      "metadata": {
        "colab": {
          "base_uri": "https://localhost:8080/"
        },
        "id": "JYcCQ-MZC2GA",
        "outputId": "afb8757c-b4cc-494f-8cd8-7e994286849d"
      },
      "source": [
        "count=0\n",
        "for i in g.nodes():\n",
        "    if len(list(g.predecessors(i)))==0 :\n",
        "        if len(list(g.successors(i)))==0:\n",
        "            count+=1\n",
        "print('No. of persons those are not not following anyone and also not having any followers are',count)"
      ],
      "execution_count": null,
      "outputs": [
        {
          "name": "stdout",
          "output_type": "stream",
          "text": [
            "No. of persons those are not not following anyone and also not having any followers are 0\n"
          ]
        }
      ]
    },
    {
      "cell_type": "markdown",
      "metadata": {
        "id": "llfxMwMgRpFY"
      },
      "source": [
        "## 1.3 No. of both followers + following for each person"
      ]
    },
    {
      "cell_type": "code",
      "metadata": {
        "id": "UWrREg1-v6fV"
      },
      "source": [
        "from collections import Counter\n",
        "dict_in = dict(g.in_degree())\n",
        "dict_out = dict(g.out_degree())\n",
        "d = Counter(dict_in) + Counter(dict_out)\n",
        "in_out_degree = np.array(list(d.values()))"
      ],
      "execution_count": null,
      "outputs": []
    },
    {
      "cell_type": "code",
      "metadata": {
        "colab": {
          "base_uri": "https://localhost:8080/"
        },
        "id": "Ly66nxtBw_s1",
        "outputId": "e160b90f-3233-4d40-bde9-c0d160f21db3"
      },
      "source": [
        "in_out_degree_sort = sorted(in_out_degree)\n",
        "plt.figure(figsize=(10,6))\n",
        "plt.plot(in_out_degree_sort)\n",
        "plt.xlabel('Index No')\n",
        "plt.ylabel('No Of people each person is following + followers')\n",
        "plt.show()"
      ],
      "execution_count": null,
      "outputs": [
        {
          "data": {
            "image/png": "[encoded data removed]",
            "text/plain": [
              "<Figure size 720x432 with 1 Axes>"
            ]
          },
          "metadata": {},
          "output_type": "display_data"
        }
      ]
    },
    {
      "cell_type": "code",
      "metadata": {
        "colab": {
          "base_uri": "https://localhost:8080/"
        },
        "id": "HDHMrphsxWpI",
        "outputId": "f48ba664-d662-467f-d07d-52be90e9d157"
      },
      "source": [
        "in_out_degree_sort = sorted(in_out_degree)\n",
        "plt.figure(figsize=(10,6))\n",
        "plt.plot(in_out_degree_sort[0:1500000])\n",
        "plt.xlabel('Index No')\n",
        "plt.ylabel('No Of people each person is following + followers')\n",
        "plt.show()"
      ],
      "execution_count": null,
      "outputs": [
        {
          "data": {
            "image/png": "[encoded data removed]",
            "text/plain": [
              "<Figure size 720x432 with 1 Axes>"
            ]
          },
          "metadata": {},
          "output_type": "display_data"
        }
      ]
    },
    {
      "cell_type": "code",
      "metadata": {
        "colab": {
          "base_uri": "https://localhost:8080/"
        },
        "id": "tdNeN7ulxhAZ",
        "outputId": "ca9b7c3e-9b1d-4056-fca9-2c713c173b6e"
      },
      "source": [
        "### 90-100 percentile\n",
        "for i in range(0,11):\n",
        "    print(90+i,'percentile value is',np.percentile(in_out_degree_sort,90+i))"
      ],
      "execution_count": null,
      "outputs": [
        {
          "name": "stdout",
          "output_type": "stream",
          "text": [
            "90 percentile value is 24.0\n",
            "91 percentile value is 26.0\n",
            "92 percentile value is 28.0\n",
            "93 percentile value is 31.0\n",
            "94 percentile value is 33.0\n",
            "95 percentile value is 37.0\n",
            "96 percentile value is 41.0\n",
            "97 percentile value is 48.0\n",
            "98 percentile value is 58.0\n",
            "99 percentile value is 79.0\n",
            "100 percentile value is 1579.0\n"
          ]
        }
      ]
    },
    {
      "cell_type": "code",
      "metadata": {
        "colab": {
          "base_uri": "https://localhost:8080/"
        },
        "id": "Yi4n4M6jxzwE",
        "outputId": "3711512e-d285-4225-f35a-705e3207e877"
      },
      "source": [
        "### 99-100 percentile\n",
        "for i in range(10,110,10):\n",
        "    print(99+(i/100),'percentile value is',np.percentile(in_out_degree_sort,99+(i/100)))"
      ],
      "execution_count": null,
      "outputs": [
        {
          "name": "stdout",
          "output_type": "stream",
          "text": [
            "99.1 percentile value is 83.0\n",
            "99.2 percentile value is 87.0\n",
            "99.3 percentile value is 93.0\n",
            "99.4 percentile value is 99.0\n",
            "99.5 percentile value is 108.0\n",
            "99.6 percentile value is 120.0\n",
            "99.7 percentile value is 138.0\n",
            "99.8 percentile value is 168.0\n",
            "99.9 percentile value is 221.0\n",
            "100.0 percentile value is 1579.0\n"
          ]
        }
      ]
    },
    {
      "cell_type": "code",
      "metadata": {
        "colab": {
          "base_uri": "https://localhost:8080/"
        },
        "id": "20-TtTt4x2cu",
        "outputId": "ef720979-69f3-47c8-eac9-4012aa06cbac"
      },
      "source": [
        "print('Min of no of followers + following is',in_out_degree.min())\n",
        "print(np.sum(in_out_degree==in_out_degree.min()),' persons having minimum no of followers + following')\n",
        "print('% is ',np.sum(in_out_degree==in_out_degree.min())*100/len(in_out_degree) )"
      ],
      "execution_count": null,
      "outputs": [
        {
          "name": "stdout",
          "output_type": "stream",
          "text": [
            "Min of no of followers + following is 1\n",
            "334291  persons having minimum no of followers + following\n",
            "% is  17.951208772325504\n"
          ]
        }
      ]
    },
    {
      "cell_type": "code",
      "metadata": {
        "colab": {
          "base_uri": "https://localhost:8080/"
        },
        "id": "GGG-cPYFx9FW",
        "outputId": "1eeeb787-0787-4769-d116-d828add58167"
      },
      "source": [
        "print('Max of no of followers + following is',in_out_degree.max())\n",
        "print(np.sum(in_out_degree==in_out_degree.max()),' persons having maximum no of followers + following', )\n",
        "print('% is ',np.sum(in_out_degree==in_out_degree.max())*100/len(in_out_degree) )"
      ],
      "execution_count": null,
      "outputs": [
        {
          "name": "stdout",
          "output_type": "stream",
          "text": [
            "Max of no of followers + following is 1579\n",
            "1  persons having maximum no of followers + following\n",
            "% is  5.369934808991419e-05\n"
          ]
        }
      ]
    },
    {
      "cell_type": "code",
      "metadata": {
        "colab": {
          "base_uri": "https://localhost:8080/"
        },
        "id": "uq8qf0vy0NO5",
        "outputId": "b2d192ce-1383-4094-89b2-9e03499fd6db"
      },
      "source": [
        "print('No of persons having followers + following less than 10 are',np.sum(in_out_degree < 10))\n",
        "print( '% is', np.sum(in_out_degree < 10)*100/len(in_out_degree))"
      ],
      "execution_count": null,
      "outputs": [
        {
          "name": "stdout",
          "output_type": "stream",
          "text": [
            "No of persons having followers + following less than 10 are 1320326\n",
            "% is 70.90064546616404\n"
          ]
        }
      ]
    },
    {
      "cell_type": "code",
      "metadata": {
        "colab": {
          "base_uri": "https://localhost:8080/"
        },
        "id": "zaUJzQbQ1BLw",
        "outputId": "afc2256d-4aa5-4fba-f696-7490417999c3"
      },
      "source": [
        "print('No of weakly connected components',len(list(nx.weakly_connected_components(g))))\n",
        "count=0\n",
        "for i in list(nx.weakly_connected_components(g)):\n",
        "    if len(i)==2:\n",
        "        count+=1\n",
        "print('weakly connected components wit 2 nodes',count)"
      ],
      "execution_count": null,
      "outputs": [
        {
          "name": "stdout",
          "output_type": "stream",
          "text": [
            "No of weakly connected components 45558\n",
            "weakly connected components wit 2 nodes 32195\n"
          ]
        }
      ]
    },
    {
      "cell_type": "markdown",
      "metadata": {
        "id": "dUwgDQ-sRpFd"
      },
      "source": [
        "# 2. Posing a problem as classification problem "
      ]
    },
    {
      "cell_type": "markdown",
      "metadata": {
        "id": "JyWaFWFLRpFd"
      },
      "source": [
        "## 2.1 Generating some edges which are not present in graph for supervised learning  \n",
        "Generated Bad links(link not present in the data but its possbile to have a link in the future) from graph which are not in graph and **whose shortest path is greater than 2**. \n",
        "\n",
        "**Explanation:** \\\n",
        "since its a classification problem we need to make another colmun which represent yi's it should contain 1 if there a link(edge) between two nodes and 0 if there is no link(edge). but we only have thoes set nodes amongs which there is a link ( yi's = 1) we don't have yi's = 0( there is no zero labeled data points) **aka** nodes which does not have links so we have to generate them(we will call them bad edges(missing edges nodes)."
      ]
    },
    {
      "cell_type": "code",
      "metadata": {
        "colab": {
          "base_uri": "https://localhost:8080/"
        },
        "id": "oSwP01ND6M0F",
        "outputId": "fdd40b9e-a09c-4f02-9e6f-934447510fd4"
      },
      "source": [
        "%%time\n",
        "###generating bad edges from given graph (using random sampling cuz all the possplie edges NO. is quite big)\n",
        "import random\n",
        "if not os.path.isfile('/content/drive/MyDrive/data_raw/missing_edges_final.p'):\n",
        "    #getting all set of edges\n",
        "    r = csv.reader(open('/content/drive/MyDrive/data_raw/train_woheader.csv','r'))\n",
        "    edges = dict()\n",
        "    for edge in r:\n",
        "        edges[(edge[0], edge[1])] = 1\n",
        "        \n",
        "        \n",
        "    missing_edges = set([]) # missing_edges == zero labled two pairs of vertices(nodes)\n",
        "    while (len(missing_edges)<9437519):\n",
        "        a=random.randint(1, 1862220) # randomly sample two vertices(nodes) a and b\n",
        "        b=random.randint(1, 1862220)\n",
        "        tmp = edges.get((a,b),-1)\n",
        "        if tmp == -1 and a!=b: # check if there is no edge(link) between them and the shortest path is greater than 2\n",
        "            try:\n",
        "                if nx.shortest_path_length(g,source=a,target=b) > 2: \n",
        "\n",
        "                    missing_edges.add((a,b))\n",
        "                else:\n",
        "                    continue  \n",
        "            except:  \n",
        "                    missing_edges.add((a,b))              \n",
        "        else:\n",
        "            continue\n",
        "    pickle.dump(missing_edges,open('/content/drive/MyDrive/data_raw/missing_edges_final.p','wb'))\n",
        "else:\n",
        "    missing_edges = pickle.load(open('/content/drive/MyDrive/data_raw/missing_edges_final.p','rb'))\n",
        "\n"
      ],
      "execution_count": null,
      "outputs": [
        {
          "name": "stdout",
          "output_type": "stream",
          "text": [
            "CPU times: user 2.2 s, sys: 1.17 s, total: 3.38 s\n",
            "Wall time: 5.01 s\n"
          ]
        }
      ]
    },
    {
      "cell_type": "code",
      "metadata": {
        "colab": {
          "base_uri": "https://localhost:8080/"
        },
        "id": "l2kPnM6dH6sj",
        "outputId": "c02ca1b2-4e80-4c1a-8923-d99ce593f761"
      },
      "source": [
        "'''\n",
        "Bottom line we create a set of vertices(nodes)\n",
        "which size is the same size as our trian.csv size(the nodes which has links(edges)\n",
        "and which does not have a link(edge) 0 labled data(yi's = 0)\n",
        "'''\n",
        "len(missing_edges)"
      ],
      "execution_count": null,
      "outputs": [
        {
          "data": {
            "text/plain": [
              "9437519"
            ]
          },
          "execution_count": 5,
          "metadata": {},
          "output_type": "execute_result"
        }
      ]
    },
    {
      "cell_type": "markdown",
      "metadata": {
        "id": "IfQ2yTAYRpFf"
      },
      "source": [
        "## 2.2 Training and Test data split:  \n",
        "Removed edges from Graph and used as test data and after removing used that graph for creating features for Train and test data"
      ]
    },
    {
      "cell_type": "code",
      "metadata": {
        "id": "K9Qlrw-ZNyWD"
      },
      "source": [
        "from sklearn.model_selection import train_test_split\n",
        "if (not os.path.isfile('/content/drive/MyDrive/data_raw/train_pos_after_eda.csv')) and (not os.path.isfile('/content/drive/MyDrive/data_raw/test_pos_after_eda.csv')):\n",
        "    #reading total data df\n",
        "    df_pos = pd.read_csv('/content/drive/MyDrive/data_raw/train.csv') # postive df\n",
        "    df_neg = pd.DataFrame(list(missing_edges), columns=['source_node', 'destination_node']) # negative df\n",
        "    \n",
        "    print(\"Number of nodes in the graph with edges\", df_pos.shape[0])\n",
        "    print(\"Number of nodes in the graph without edges\", df_neg.shape[0])\n",
        "    \n",
        "    #Trian test split \n",
        "    #Spiltted data into 80-20 \n",
        "    '''\n",
        "    we slipt positive links and negative links seperatly because we need positive training data only for creating graph \n",
        "    and for feature generation\n",
        "    '''\n",
        "    X_train_pos, X_test_pos, y_train_pos, y_test_pos  = train_test_split(df_pos,np.ones(len(df_pos)),test_size=0.2, random_state=9)\n",
        "    X_train_neg, X_test_neg, y_train_neg, y_test_neg  = train_test_split(df_neg,np.zeros(len(df_neg)),test_size=0.2, random_state=9)\n",
        "    \n",
        "    print('='*60)\n",
        "    print(\"Number of nodes in the train data graph with edges\", X_train_pos.shape[0],\"=\",y_train_pos.shape[0])\n",
        "    print(\"Number of nodes in the train data graph without edges\", X_train_neg.shape[0],\"=\", y_train_neg.shape[0])\n",
        "    print('='*60)\n",
        "    print(\"Number of nodes in the test data graph with edges\", X_test_pos.shape[0],\"=\",y_test_pos.shape[0])\n",
        "    print(\"Number of nodes in the test data graph without edges\", X_test_neg.shape[0],\"=\",y_test_neg.shape[0])\n",
        "\n",
        "    #removing header and saving\n",
        "    X_train_pos.to_csv('/content/drive/MyDrive/data_raw/train_pos_after_eda.csv',header=False, index=False)\n",
        "    X_test_pos.to_csv('/content/drive/MyDrive/data_raw/test_pos_after_eda.csv',header=False, index=False)\n",
        "    X_train_neg.to_csv('/content/drive/MyDrive/data_raw/train_neg_after_eda.csv',header=False, index=False)\n",
        "    X_test_neg.to_csv('/content/drive/MyDrive/data_raw/test_neg_after_eda.csv',header=False, index=False)\n",
        "else:\n",
        "    #Graph from Traing data only \n",
        "    del missing_edges"
      ],
      "execution_count": null,
      "outputs": []
    },
    {
      "cell_type": "code",
      "metadata": {
        "colab": {
          "base_uri": "https://localhost:8080/"
        },
        "id": "XA4hIULiS7XG",
        "outputId": "4acae775-5ee6-422e-e37e-11bb3fbd8957"
      },
      "source": [
        "if (os.path.isfile('/content/drive/MyDrive/data_raw/train_pos_after_eda.csv')) and (os.path.isfile('/content/drive/MyDrive/data_raw/test_pos_after_eda.csv')):        \n",
        "    train_graph=nx.read_edgelist('/content/drive/MyDrive/data_raw/train_pos_after_eda.csv',delimiter=',',create_using=nx.DiGraph(),nodetype=int)\n",
        "    test_graph=nx.read_edgelist('/content/drive/MyDrive/data_raw/test_pos_after_eda.csv',delimiter=',',create_using=nx.DiGraph(),nodetype=int)\n",
        "    print('Train Graph')\n",
        "    print(nx.info(train_graph))\n",
        "    print('Test Graph')\n",
        "    print(nx.info(test_graph))\n",
        "\n",
        "    # finding the unique nodes in the both train and test graphs\n",
        "    train_nodes_pos = set(train_graph.nodes())\n",
        "    test_nodes_pos = set(test_graph.nodes())\n",
        "\n",
        "    trY_teY = len(train_nodes_pos.intersection(test_nodes_pos))\n",
        "    trY_teN = len(train_nodes_pos - test_nodes_pos)\n",
        "    teY_trN = len(test_nodes_pos - train_nodes_pos)\n",
        "\n",
        "    print('no of people common in train and test -- ',trY_teY)\n",
        "    print('no of people present in train but not present in test -- ',trY_teN)\n",
        "\n",
        "    print('no of people present in test but not present in train -- ',teY_trN)\n",
        "    print(' % of people not there in Train but exist in Test in total Test data are {} %'.format(teY_trN/len(test_nodes_pos)*100))"
      ],
      "execution_count": null,
      "outputs": [
        {
          "name": "stdout",
          "output_type": "stream",
          "text": [
            "Train Graph\n",
            "DiGraph with 1780722 nodes and 7550015 edges\n",
            "Test Graph\n",
            "DiGraph with 1144623 nodes and 1887504 edges\n",
            "no of people common in train and test --  1063125\n",
            "no of people present in train but not present in test --  717597\n",
            "no of people present in test but not present in train --  81498\n",
            " % of people not there in Train but exist in Test in total Test data are 7.1200735962845405 %\n"
          ]
        }
      ]
    },
    {
      "cell_type": "markdown",
      "metadata": {
        "id": "Vui7B1AlRpFk"
      },
      "source": [
        "> we have a cold start problem here(it means there is 7% of my points in my test data which i have no info about in my trian data (clueless)"
      ]
    },
    {
      "cell_type": "code",
      "metadata": {
        "colab": {
          "base_uri": "https://localhost:8080/"
        },
        "id": "kB3ljBSRcIpA",
        "outputId": "cc52a129-8d14-45c8-9b9f-ba537261684b"
      },
      "source": [
        "#final train and test data sets\n",
        "X_train_pos = pd.read_csv('/content/drive/MyDrive/data_raw/train_pos_after_eda.csv', names=['source_node', 'destination_node'])\n",
        "X_test_pos = pd.read_csv('/content/drive/MyDrive/data_raw/test_pos_after_eda.csv', names=['source_node', 'destination_node'])\n",
        "X_train_neg = pd.read_csv('/content/drive/MyDrive/data_raw/train_neg_after_eda.csv', names=['source_node', 'destination_node'])\n",
        "X_test_neg = pd.read_csv('/content/drive/MyDrive/data_raw/test_neg_after_eda.csv', names=['source_node', 'destination_node'])\n",
        "\n",
        "print('='*60)\n",
        "print(\"Number of nodes in the train data graph with edges\", X_train_pos.shape[0])\n",
        "print(\"Number of nodes in the train data graph without edges\", X_train_neg.shape[0])\n",
        "print('='*60)\n",
        "print(\"Number of nodes in the test data graph with edges\", X_test_pos.shape[0])\n",
        "print(\"Number of nodes in the test data graph without edges\", X_test_neg.shape[0])\n",
        "\n",
        "X_train = X_train_pos.append(X_train_neg,ignore_index=True)\n",
        "y_train = np.concatenate((y_train_pos,y_train_neg))\n",
        "X_test = X_test_pos.append(X_test_neg,ignore_index=True)\n",
        "y_test = np.concatenate((y_test_pos,y_test_neg)) \n",
        "\n",
        "X_train.to_csv('/content/drive/MyDrive/data_raw/train_after_eda.csv',header=False,index=False)\n",
        "X_test.to_csv('/content/drive/MyDrive/data_raw/test_after_eda.csv',header=False,index=False)\n",
        "pd.DataFrame(y_train.astype(int)).to_csv('/content/drive/MyDrive/data_raw/train_y.csv',header=False,index=False)\n",
        "pd.DataFrame(y_test.astype(int)).to_csv('/content/drive/MyDrive/data_raw/test_y.csv',header=False,index=False)"
      ],
      "execution_count": null,
      "outputs": [
        {
          "name": "stdout",
          "output_type": "stream",
          "text": [
            "============================================================\n",
            "Number of nodes in the train data graph with edges 7550015\n",
            "Number of nodes in the train data graph without edges 7550015\n",
            "============================================================\n",
            "Number of nodes in the test data graph with edges 1887504\n",
            "Number of nodes in the test data graph without edges 1887504\n"
          ]
        }
      ]
    },
    {
      "cell_type": "code",
      "metadata": {
        "colab": {
          "base_uri": "https://localhost:8080/"
        },
        "id": "PnFdIhjZeo2X",
        "outputId": "d0f5079a-ee7f-4c49-8f2b-4e597e88a9d2"
      },
      "source": [
        "print(\"Data points in train data\",X_train.shape)\n",
        "print(\"Data points in test data\",X_test.shape)\n",
        "print(\"Shape of traget variable in train\",y_train.shape)\n",
        "print(\"Shape of traget variable in test\", y_test.shape)"
      ],
      "execution_count": null,
      "outputs": [
        {
          "name": "stdout",
          "output_type": "stream",
          "text": [
            "Data points in train data (15100030, 2)\n",
            "Data points in test data (3775008, 2)\n",
            "Shape of traget variable in train (15100030,)\n",
            "Shape of traget variable in test (3775008,)\n"
          ]
        }
      ]
    },
    {
      "cell_type": "markdown",
      "metadata": {
        "id": "NNLwLAUDik27"
      },
      "source": [
        "# 3. Featurization (Feature Engineering)"
      ]
    },
    {
      "cell_type": "code",
      "metadata": {
        "id": "d9njUlF6i9kj"
      },
      "source": [
        "#Importing Libraries\n",
        "# please do go through this python notebook: \n",
        "import warnings\n",
        "warnings.filterwarnings(\"ignore\")\n",
        "\n",
        "import csv\n",
        "import pandas as pd#pandas to create small dataframes \n",
        "import datetime #Convert to unix time\n",
        "import time #Convert to unix time\n",
        "# if numpy is not installed already : pip3 install numpy\n",
        "import numpy as np#Do aritmetic operations on arrays\n",
        "# matplotlib: used to plot graphs\n",
        "import matplotlib\n",
        "import matplotlib.pylab as plt\n",
        "import seaborn as sns#Plots\n",
        "from matplotlib import rcParams#Size of plots  \n",
        "from sklearn.cluster import MiniBatchKMeans, KMeans#Clustering\n",
        "import math\n",
        "import pickle\n",
        "import os\n",
        "# to install xgboost: pip3 install xgboost\n",
        "import xgboost as xgb\n",
        "\n",
        "import warnings\n",
        "import networkx as nx\n",
        "\\\n",
        "import pdb\n",
        "import pickle\n",
        "from pandas import HDFStore,DataFrame\n",
        "from pandas import read_hdf\n",
        "from scipy.sparse.linalg import svds, eigs # svd(singular value decomposition), eigs(eigenvalues and eigenvectors)\n",
        "import gc\n",
        "from tqdm import tqdm"
      ],
      "execution_count": null,
      "outputs": []
    },
    {
      "cell_type": "markdown",
      "metadata": {
        "id": "6QN3KSrcp2O5"
      },
      "source": [
        "## 3.1 Reading Data"
      ]
    },
    {
      "cell_type": "code",
      "metadata": {
        "colab": {
          "base_uri": "https://localhost:8080/"
        },
        "id": "6EFw2-xfqCaA",
        "outputId": "5d6c1611-58e9-40e1-c583-0a007b0e8697"
      },
      "source": [
        "if os.path.isfile('/content/drive/MyDrive/data_raw/train_pos_after_eda.csv'):\n",
        "    train_graph=nx.read_edgelist('/content/drive/MyDrive/data_raw/train_pos_after_eda.csv',delimiter=',',create_using=nx.DiGraph(),nodetype=int)\n",
        "    print(nx.info(train_graph))\n",
        "else:\n",
        "    print(\"please run the FB_EDA.ipynb or download the files from drive\")"
      ],
      "execution_count": null,
      "outputs": [
        {
          "name": "stdout",
          "output_type": "stream",
          "text": [
            "DiGraph with 1780722 nodes and 7550015 edges\n"
          ]
        }
      ]
    },
    {
      "cell_type": "markdown",
      "metadata": {
        "id": "jIJOY5qYsPAi"
      },
      "source": [
        "## 3.2 Similarity measures"
      ]
    },
    {
      "cell_type": "markdown",
      "metadata": {
        "id": "ivVMUMiWVFF9"
      },
      "source": [
        "### 3.2.1 Jaccard Distance:\n",
        "http://www.statisticshowto.com/jaccard-index/"
      ]
    },
    {
      "cell_type": "markdown",
      "metadata": {
        "id": "zSdYm77Hxhb7"
      },
      "source": [
        "**the larger the jacard index the higher the probability that there is exist an edge between two nodes**"
      ]
    },
    {
      "cell_type": "markdown",
      "metadata": {
        "id": "NoWCYuRBVFF_"
      },
      "source": [
        "\\begin{equation}\n",
        "j = \\frac{|X\\cap Y|}{|X \\cup Y|} \n",
        "\\end{equation}"
      ]
    },
    {
      "cell_type": "code",
      "metadata": {
        "id": "6krbdmD_xm3Q"
      },
      "source": [
        "#for followees\n",
        "def jaccard_for_followees(a,b):\n",
        "    try:\n",
        "        if len(set(train_graph.successors(a))) == 0  | len(set(train_graph.successors(b))) == 0:\n",
        "            return 0\n",
        "        sim = (len(set(train_graph.successors(a)).intersection(set(train_graph.successors(b)))))/\\\n",
        "                                    (len(set(train_graph.successors(a)).union(set(train_graph.successors(b)))))\n",
        "    except:\n",
        "        return 0\n",
        "    return sim"
      ],
      "execution_count": null,
      "outputs": []
    },
    {
      "cell_type": "code",
      "metadata": {
        "colab": {
          "base_uri": "https://localhost:8080/"
        },
        "id": "ZH4znXIo2U4f",
        "outputId": "f4e93190-faeb-46fd-ff10-0eb581b2dc53"
      },
      "source": [
        "#one test case\n",
        "print(jaccard_for_followees(273084,1505602))"
      ],
      "execution_count": null,
      "outputs": [
        {
          "name": "stdout",
          "output_type": "stream",
          "text": [
            "0.0\n"
          ]
        }
      ]
    },
    {
      "cell_type": "code",
      "metadata": {
        "colab": {
          "base_uri": "https://localhost:8080/"
        },
        "id": "Gf8njOv6VFGK",
        "outputId": "e73b91a4-c30e-4b3a-92b8-b7dcaaf95e61"
      },
      "source": [
        "#node 1635354 not in graph \n",
        "print(jaccard_for_followees(273084,1505602))"
      ],
      "execution_count": null,
      "outputs": [
        {
          "name": "stdout",
          "output_type": "stream",
          "text": [
            "0.0\n"
          ]
        }
      ]
    },
    {
      "cell_type": "code",
      "metadata": {
        "id": "GRf80ybQ2XQO"
      },
      "source": [
        "#for followers\n",
        "def jaccard_for_followers(a,b):\n",
        "    try:\n",
        "        if len(set(train_graph.predecessors(a))) == 0  | len(set(g.predecessors(b))) == 0:\n",
        "            return 0\n",
        "        sim = (len(set(train_graph.predecessors(a)).intersection(set(train_graph.predecessors(b)))))/\\\n",
        "                                 (len(set(train_graph.predecessors(a)).union(set(train_graph.predecessors(b)))))\n",
        "        return sim\n",
        "    except:\n",
        "        return 0"
      ],
      "execution_count": null,
      "outputs": []
    },
    {
      "cell_type": "code",
      "metadata": {
        "colab": {
          "base_uri": "https://localhost:8080/"
        },
        "id": "wf2YfVlb2laX",
        "outputId": "f2043299-81f9-4a9e-d7f8-3c0e4e6c5607"
      },
      "source": [
        "#one test case\n",
        "print(jaccard_for_followers(263084,470294))"
      ],
      "execution_count": null,
      "outputs": [
        {
          "name": "stdout",
          "output_type": "stream",
          "text": [
            "0\n"
          ]
        }
      ]
    },
    {
      "cell_type": "code",
      "metadata": {
        "colab": {
          "base_uri": "https://localhost:8080/"
        },
        "id": "dimMY93Q2p9t",
        "outputId": "f5b167cc-f011-4ad8-eb1e-aaf4bcd97a6a"
      },
      "source": [
        "#node 1635354 not in graph \n",
        "print(jaccard_for_followees(669354,1635354))"
      ],
      "execution_count": null,
      "outputs": [
        {
          "name": "stdout",
          "output_type": "stream",
          "text": [
            "0\n"
          ]
        }
      ]
    },
    {
      "cell_type": "markdown",
      "metadata": {
        "id": "SbefGOux4ZS-"
      },
      "source": [
        "### 3.2.1 Cosine distance:"
      ]
    },
    {
      "cell_type": "markdown",
      "metadata": {
        "id": "XNvdBGS2VFGY"
      },
      "source": [
        "\\begin{equation}\n",
        "CosineDistance = \\frac{|X\\cap Y|}{|X|\\cdot|Y|} \n",
        "\\end{equation}"
      ]
    },
    {
      "cell_type": "code",
      "metadata": {
        "id": "JXXPjsBv0iur"
      },
      "source": [
        "#for followees\n",
        "def cosine_for_followees(a,b):\n",
        "    try:\n",
        "        if len(set(train_graph.successors(a))) == 0  | len(set(train_graph.successors(b))) == 0:\n",
        "            return 0\n",
        "        sim = (len(set(train_graph.successors(a)).intersection(set(train_graph.successors(b)))))/\\\n",
        "                                    (math.sqrt(len(set(train_graph.successors(a)))*len((set(train_graph.successors(b))))))\n",
        "        return sim\n",
        "    except:\n",
        "        return 0"
      ],
      "execution_count": null,
      "outputs": []
    },
    {
      "cell_type": "code",
      "metadata": {
        "colab": {
          "base_uri": "https://localhost:8080/"
        },
        "id": "XBHM3LFN0qRA",
        "outputId": "0cb767ab-9ccb-4b33-f042-27feedc5572d"
      },
      "source": [
        "print(cosine_for_followees(273084,1505602))"
      ],
      "execution_count": null,
      "outputs": [
        {
          "name": "stdout",
          "output_type": "stream",
          "text": [
            "0.0\n"
          ]
        }
      ]
    },
    {
      "cell_type": "code",
      "metadata": {
        "colab": {
          "base_uri": "https://localhost:8080/"
        },
        "id": "23Jpr5co0ro7",
        "outputId": "8bb04232-a4ca-41af-acc0-9fce4edbfac9"
      },
      "source": [
        "print(cosine_for_followees(273084,1635354))"
      ],
      "execution_count": null,
      "outputs": [
        {
          "name": "stdout",
          "output_type": "stream",
          "text": [
            "0\n"
          ]
        }
      ]
    },
    {
      "cell_type": "code",
      "metadata": {
        "id": "XwzPTozK0xKd"
      },
      "source": [
        "#for followers\n",
        "def cosine_for_followers(a,b):\n",
        "    try:\n",
        "        \n",
        "        if len(set(train_graph.predecessors(a))) == 0  | len(set(train_graph.predecessors(b))) == 0:\n",
        "            return 0\n",
        "        sim = (len(set(train_graph.predecessors(a)).intersection(set(train_graph.predecessors(b)))))/\\\n",
        "                                     (math.sqrt(len(set(train_graph.predecessors(a))))*(len(set(train_graph.predecessors(b)))))\n",
        "        return sim\n",
        "    except:\n",
        "        return 0"
      ],
      "execution_count": null,
      "outputs": []
    },
    {
      "cell_type": "code",
      "metadata": {
        "colab": {
          "base_uri": "https://localhost:8080/"
        },
        "id": "m2bkzD3905Zz",
        "outputId": "fa8c5843-e97f-4ac9-cdb2-716c74b3ace4"
      },
      "source": [
        "print(cosine_for_followers(2,470294))"
      ],
      "execution_count": null,
      "outputs": [
        {
          "name": "stdout",
          "output_type": "stream",
          "text": [
            "0.02886751345948129\n"
          ]
        }
      ]
    },
    {
      "cell_type": "code",
      "metadata": {
        "colab": {
          "base_uri": "https://localhost:8080/"
        },
        "id": "h14PvKsj1m3P",
        "outputId": "47118c9c-05b8-47c4-e8e4-aa5f6eae78f5"
      },
      "source": [
        "print(cosine_for_followers(669354,1635354))"
      ],
      "execution_count": null,
      "outputs": [
        {
          "name": "stdout",
          "output_type": "stream",
          "text": [
            "0\n"
          ]
        }
      ]
    },
    {
      "cell_type": "markdown",
      "metadata": {
        "id": "-c_dnLrm1trR"
      },
      "source": [
        "## 3.3 Ranking measures"
      ]
    },
    {
      "cell_type": "markdown",
      "metadata": {
        "id": "6nfV1SprVFGx"
      },
      "source": [
        "https://networkx.github.io/documentation/networkx-1.10/reference/generated/networkx.algorithms.link_analysis.pagerank_alg.pagerank.html\n",
        "\n",
        "PageRank computes a ranking of the nodes in the graph G based on the structure of the incoming links.\n",
        "\n",
        "<img src='https://upload.wikimedia.org/wikipedia/en/8/8b/PageRanks-Example.jpg'/>\n",
        "\n",
        "Mathematical PageRanks for a simple network, expressed as percentages. (Google uses a logarithmic scale.) Page C has a higher PageRank than Page E, even though there are fewer links to C; the one link to C comes from an important page and hence is of high value. If web surfers who start on a random page have an 85% likelihood of choosing a random link from the page they are currently visiting, and a 15% likelihood of jumping to a page chosen at random from the entire web, they will reach Page E 8.1% of the time. <b>(The 15% likelihood of jumping to an arbitrary page corresponds to a damping factor of 85%.) Without damping, all web surfers would eventually end up on Pages A, B, or C, and all other pages would have PageRank zero. In the presence of damping, Page A effectively links to all pages in the web, even though it has no outgoing links of its own.</b>"
      ]
    },
    {
      "cell_type": "markdown",
      "metadata": {
        "id": "AqlobO3G3jKo"
      },
      "source": [
        "### 3.3.1 Page Rank"
      ]
    },
    {
      "cell_type": "code",
      "metadata": {
        "id": "KMhnYlxl3ojM"
      },
      "source": [
        "if not os.path.isfile('/content/drive/MyDrive/data_raw/page_rank.p'):\n",
        "  pr = nx.pagerank(train_graph, alpha=0.85) # 0.85 defualt hyperparameter\n",
        "  pickle.dump(pr,open('/content/drive/MyDrive/data_raw/page_rank.p', 'wb'))\n",
        "else:\n",
        "  pr = pickle.load(open('/content/drive/MyDrive/data_raw/page_rank.p','rb'))"
      ],
      "execution_count": null,
      "outputs": []
    },
    {
      "cell_type": "code",
      "metadata": {
        "colab": {
          "base_uri": "https://localhost:8080/"
        },
        "id": "wDM5p00J9cKB",
        "outputId": "5561aaba-f718-46df-c5c2-95b3c0b46d98"
      },
      "source": [
        "print('min', pr[min(pr, key=pr.get)])\n",
        "print('max', pr[max(pr, key=pr.get)])\n",
        "print('mean', float(sum(pr.values())) / len(pr))"
      ],
      "execution_count": null,
      "outputs": [
        {
          "name": "stdout",
          "output_type": "stream",
          "text": [
            "min 1.6556497245737814e-07\n",
            "max 2.709825134193587e-05\n",
            "mean 5.615699699389075e-07\n"
          ]
        }
      ]
    },
    {
      "cell_type": "code",
      "metadata": {
        "colab": {
          "base_uri": "https://localhost:8080/"
        },
        "id": "o70wdv9T-kZB",
        "outputId": "db976c68-03ea-42c9-d3f2-45a3c7da8f61"
      },
      "source": [
        "# for imputing to nodes which are not there in Train data( in the cold problem cuz there is some data in test which not present in trian)\n",
        "mean_pr = float(sum(pr.values())) / len(pr)\n",
        "print(mean_pr)"
      ],
      "execution_count": null,
      "outputs": [
        {
          "name": "stdout",
          "output_type": "stream",
          "text": [
            "5.615699699389075e-07\n"
          ]
        }
      ]
    },
    {
      "cell_type": "markdown",
      "metadata": {
        "id": "eAiafRhW_17d"
      },
      "source": [
        "## 3.4 Other Graph Features"
      ]
    },
    {
      "cell_type": "markdown",
      "metadata": {
        "id": "xVZqMdBGnAdM"
      },
      "source": [
        "### 3.4.1 Shortest Path"
      ]
    },
    {
      "cell_type": "markdown",
      "metadata": {
        "id": "E7teH2LCVFG9"
      },
      "source": [
        "Getting Shortest path between twoo nodes, if nodes have direct path i.e directly connected then we are removing that edge and calculating path. "
      ]
    },
    {
      "cell_type": "code",
      "metadata": {
        "id": "HjRnD1hBpvAq"
      },
      "source": [
        "#if has direct edge then deleting that edge and calculating shortest path\n",
        "def compute_shortest_path_length(a,b):\n",
        "  p = -1 #no edge\n",
        "\n",
        "  try:\n",
        "    if train_graph.has_edge(a,b):\n",
        "      train_graph.remove_edge(a,b) #remove the edge\n",
        "      p = nx.shortest_path_length(train_graph, source=a, target=b) #get the shortest path\n",
        "      train_graph.add_edge(a,b) #add the egde again\n",
        "    else:\n",
        "      p= nx.shortest_path_length(train_graph,source=a,target=b)\n",
        "    return p\n",
        "  except:\n",
        "    return -1"
      ],
      "execution_count": null,
      "outputs": []
    },
    {
      "cell_type": "code",
      "metadata": {
        "colab": {
          "base_uri": "https://localhost:8080/"
        },
        "id": "iJlFlPsXrSZ-",
        "outputId": "073db391-0cf8-4524-bed5-0cdadd7b540f"
      },
      "source": [
        "#testing\n",
        "compute_shortest_path_length(77697, 826021)"
      ],
      "execution_count": null,
      "outputs": [
        {
          "data": {
            "text/plain": [
              "10"
            ]
          },
          "execution_count": 16,
          "metadata": {},
          "output_type": "execute_result"
        }
      ]
    },
    {
      "cell_type": "code",
      "metadata": {
        "colab": {
          "base_uri": "https://localhost:8080/"
        },
        "id": "-U2gy3kvr08a",
        "outputId": "99389baa-beec-492c-e9bf-fa04e2eee6b3"
      },
      "source": [
        "#testing\n",
        "compute_shortest_path_length(1,1635354)"
      ],
      "execution_count": null,
      "outputs": [
        {
          "data": {
            "text/plain": [
              "8"
            ]
          },
          "execution_count": 18,
          "metadata": {},
          "output_type": "execute_result"
        }
      ]
    },
    {
      "cell_type": "markdown",
      "metadata": {
        "id": "hnzG5LG1sdcJ"
      },
      "source": [
        "### 3.4.2 Checking for same community (Weekly Connected Component)"
      ]
    },
    {
      "cell_type": "markdown",
      "metadata": {
        "id": "DEGq6g77vlOG"
      },
      "source": [
        "**Strongly connected component(SCC):** is the portion of a directed graph in which there is a path from each vertex to another vertex. It is applicable only on a directed graph.\n",
        "\n",
        "**Weakly connected component(WCC):** is a subgraph of the original graph where all vertices are connected to each other by some path, ignoring the direction of edges. In case of an undirected graph, a weakly connected component is also a strongly connected component."
      ]
    },
    {
      "cell_type": "code",
      "metadata": {
        "id": "cPbAwJ-AsxNJ"
      },
      "source": [
        "#getting weekly connected edges from graph \n",
        "wcc=list(nx.weakly_connected_components(train_graph))\n",
        "\n",
        "def belongs_to_same_wcc(a,b): #determine if two nodes belong to the same WCC (return one if True 0 if False)\n",
        "    index = []\n",
        "    if train_graph.has_edge(b,a):\n",
        "        return 1\n",
        "    if train_graph.has_edge(a,b):\n",
        "            for i in wcc: # for the sets inside the list wcc\n",
        "                if a in i: \n",
        "                    index= i\n",
        "                    break\n",
        "            if (b in index):\n",
        "                train_graph.remove_edge(a,b)\n",
        "                if compute_shortest_path_length(a,b)==-1:\n",
        "                    train_graph.add_edge(a,b)\n",
        "                    return 0\n",
        "                else:\n",
        "                    train_graph.add_edge(a,b)\n",
        "                    return 1\n",
        "            else:\n",
        "                return 0\n",
        "    else:\n",
        "            for i in wcc:\n",
        "                if a in i:\n",
        "                    index= i\n",
        "                    break\n",
        "            if(b in index):\n",
        "                return 1\n",
        "            else:\n",
        "                return 0"
      ],
      "execution_count": null,
      "outputs": []
    },
    {
      "cell_type": "code",
      "metadata": {
        "colab": {
          "base_uri": "https://localhost:8080/"
        },
        "id": "PwVG74gC0Exx",
        "outputId": "35e16960-70a8-4885-cf81-2a02b27bce2a"
      },
      "source": [
        "#testing\n",
        "belongs_to_same_wcc(861, 1659750)"
      ],
      "execution_count": null,
      "outputs": [
        {
          "data": {
            "text/plain": [
              "0"
            ]
          },
          "execution_count": 21,
          "metadata": {},
          "output_type": "execute_result"
        }
      ]
    },
    {
      "cell_type": "markdown",
      "metadata": {
        "id": "DwYTOE9519_c"
      },
      "source": [
        "### 3.4.3 Adamic/Adar Index\n",
        "Adamic/Adar measures is defined as inverted sum of degrees of common neighbours for given two vertices.\n",
        "$$A(x,y)=\\sum_{u \\in N(x) \\cap N(y)}\\frac{1}{log(|N(u)|)}$$\n",
        "\n",
        "**in a nut shell:** The definition is based on the concept that common elements with very large neighbourhoods are less significant when predicting a connection between two nodes compared with elements shared between a small number of nodes."
      ]
    },
    {
      "cell_type": "code",
      "metadata": {
        "id": "pa1RcBzq5Ole"
      },
      "source": [
        "def calc_adar_in(a,b):\n",
        "    sum=0\n",
        "    try:\n",
        "        n=list(set(train_graph.successors(a)).intersection(set(train_graph.successors(b))))\n",
        "        if len(n)!=0:\n",
        "            for i in n:\n",
        "                sum=sum+(1/np.log10(len(list(train_graph.predecessors(i)))))\n",
        "            return sum\n",
        "        else:\n",
        "            return 0\n",
        "    except:\n",
        "        return 0"
      ],
      "execution_count": null,
      "outputs": []
    },
    {
      "cell_type": "code",
      "metadata": {
        "colab": {
          "base_uri": "https://localhost:8080/"
        },
        "id": "2OpktC5u5tyU",
        "outputId": "9ca7b73c-0eee-48af-ac04-6973b6c33b6c"
      },
      "source": [
        "#testing\n",
        "calc_adar_in(1,189226)"
      ],
      "execution_count": null,
      "outputs": [
        {
          "data": {
            "text/plain": [
              "0"
            ]
          },
          "execution_count": 24,
          "metadata": {},
          "output_type": "execute_result"
        }
      ]
    },
    {
      "cell_type": "markdown",
      "metadata": {
        "id": "C1Zp4HED6sqQ"
      },
      "source": [
        "### 3.4.4 Is persion was following back"
      ]
    },
    {
      "cell_type": "code",
      "metadata": {
        "id": "Eg9pmogc6xtW"
      },
      "source": [
        "def follows_back(a,b):\n",
        "  if train_graph.has_edge(b,a):\n",
        "    return 1\n",
        "  else:\n",
        "    return 0"
      ],
      "execution_count": null,
      "outputs": []
    },
    {
      "cell_type": "code",
      "metadata": {
        "colab": {
          "base_uri": "https://localhost:8080/"
        },
        "id": "08XndiFj7Fj1",
        "outputId": "0b5e6229-8be9-451e-9b72-1330c3677c76"
      },
      "source": [
        "#testing\n",
        "follows_back(1,189226)"
      ],
      "execution_count": null,
      "outputs": [
        {
          "data": {
            "text/plain": [
              "1"
            ]
          },
          "execution_count": 28,
          "metadata": {},
          "output_type": "execute_result"
        }
      ]
    },
    {
      "cell_type": "markdown",
      "metadata": {
        "id": "VCxbtCza7dVK"
      },
      "source": [
        "### 3.4.5 Katz Centrality\n",
        "\n",
        "https://en.wikipedia.org/wiki/Katz_centrality\n",
        "\n",
        "https://www.geeksforgeeks.org/katz-centrality-centrality-measure/\n",
        " Katz centrality computes the centrality for a node \n",
        "    based on the centrality of its neighbors. It is a \n",
        "    generalization of the eigenvector centrality. The\n",
        "    Katz centrality for node `i` is\n",
        " \n",
        "$$x_i = \\alpha \\sum_{j} A_{ij} x_j + \\beta,$$\n",
        "where `A` is the adjacency matrix of the graph G \n",
        "with eigenvalues $$\\lambda$$.\n",
        "\n",
        "The parameter $$\\beta$$ controls the initial centrality and \n",
        "\n",
        "$$\\alpha < \\frac{1}{\\lambda_{max}}.$$\n",
        "\n",
        "**NOTE: its very similar to pageRank algo**"
      ]
    },
    {
      "cell_type": "code",
      "metadata": {
        "id": "0_UJYAC-9bBN"
      },
      "source": [
        "if not os.path.isfile('/content/drive/MyDrive/data_raw/katz.p'):\n",
        "    katz = nx.katz.katz_centrality(train_graph,alpha=0.005,beta=1)\n",
        "    pickle.dump(katz,open('/content/drive/MyDrive/data_raw/katz.p','wb'))\n",
        "else:\n",
        "    katz = pickle.load(open('/content/drive/MyDrive/data_raw/katz.p','rb'))"
      ],
      "execution_count": null,
      "outputs": []
    },
    {
      "cell_type": "code",
      "metadata": {
        "colab": {
          "base_uri": "https://localhost:8080/"
        },
        "id": "T5z6mfcF9kLH",
        "outputId": "d8a173c1-fad2-4a64-a58e-6e7dea9a8c9e"
      },
      "source": [
        "print('min',katz[min(katz, key=katz.get)])\n",
        "print('max',katz[max(katz, key=katz.get)])\n",
        "print('mean',float(sum(katz.values())) / len(katz))"
      ],
      "execution_count": null,
      "outputs": [
        {
          "name": "stdout",
          "output_type": "stream",
          "text": [
            "min 0.0007313532484065916\n",
            "max 0.003394554981699122\n",
            "mean 0.0007483800935562018\n"
          ]
        }
      ]
    },
    {
      "cell_type": "code",
      "metadata": {
        "colab": {
          "base_uri": "https://localhost:8080/"
        },
        "id": "eFy62v819lS2",
        "outputId": "a26e40d8-f2cb-49bb-9130-7ed403de469f"
      },
      "source": [
        "mean_katz = float(sum(katz.values())) / len(katz)\n",
        "print(mean_katz)"
      ],
      "execution_count": null,
      "outputs": [
        {
          "name": "stdout",
          "output_type": "stream",
          "text": [
            "0.0007483800935562018\n"
          ]
        }
      ]
    },
    {
      "cell_type": "markdown",
      "metadata": {
        "id": "a54n_b0gCav2"
      },
      "source": [
        "### 3.4.6 Hits Score\n",
        "The HITS algorithm computes two numbers for a node. Authorities estimates the node value based on the incoming links. Hubs estimates the node value based on outgoing links.\n",
        "\n",
        "https://en.wikipedia.org/wiki/HITS_algorithm"
      ]
    },
    {
      "cell_type": "code",
      "metadata": {
        "id": "uyK6_-DhCnRb"
      },
      "source": [
        "if not os.path.isfile('/content/drive/MyDrive/data_raw/hits.p'):\n",
        "    hits = nx.hits(train_graph, max_iter=100, tol=1e-08, nstart=None, normalized=True)\n",
        "    pickle.dump(hits,open('/content/drive/MyDrive/data_raw/hits.p','wb'))\n",
        "else:\n",
        "    hits = pickle.load(open('/content/drive/MyDrive/data_raw/hits.p','rb'))"
      ],
      "execution_count": null,
      "outputs": []
    },
    {
      "cell_type": "code",
      "metadata": {
        "colab": {
          "base_uri": "https://localhost:8080/"
        },
        "id": "gaS2EbahC3wV",
        "outputId": "09f03075-d8e7-4cbb-cd24-43156059184e"
      },
      "source": [
        "print('min',hits[0][min(hits[0], key=hits[0].get)])\n",
        "print('max',hits[0][max(hits[0], key=hits[0].get)])\n",
        "print('mean',float(sum(hits[0].values())) / len(hits[0]))"
      ],
      "execution_count": null,
      "outputs": [
        {
          "name": "stdout",
          "output_type": "stream",
          "text": [
            "min -1.0879811303501434e-20\n",
            "max 0.004868653379538981\n",
            "mean 5.615699699308681e-07\n"
          ]
        }
      ]
    },
    {
      "cell_type": "markdown",
      "metadata": {
        "id": "e56zhqtd06BJ"
      },
      "source": [
        "# 4. Featurization 2 (**Apply Featurization for test and trian data**)"
      ]
    },
    {
      "cell_type": "markdown",
      "metadata": {
        "id": "PKDUpqqV5IOw"
      },
      "source": [
        "## 4. 1 Reading a sample of Data from both train and test"
      ]
    },
    {
      "cell_type": "markdown",
      "metadata": {
        "id": "lNAysL175a68"
      },
      "source": [
        "### 4.1.1 Sampling"
      ]
    },
    {
      "cell_type": "code",
      "metadata": {
        "id": "QQBcJY8V1SAV"
      },
      "source": [
        "import random\n",
        "if os.path.isfile('/content/drive/MyDrive/data_raw/train_after_eda.csv'):\n",
        "    filename = \"/content/drive/MyDrive/data_raw/train_after_eda.csv\"\n",
        "    # you uncomment this line, if you dont know the lentgh of the file name\n",
        "    # here we have hardcoded the number of lines as 15100030\n",
        "    n_train = sum(1 for line in open(filename)) #number of records in file (excludes header)\n",
        "    # n_train =  15100028\n",
        "    s = 100000 #desired sample size\n",
        "    skip_train = sorted(random.sample(range(1,n_train+1),n_train-s))\n",
        "    #https://stackoverflow.com/a/22259008/4084039"
      ],
      "execution_count": null,
      "outputs": []
    },
    {
      "cell_type": "code",
      "metadata": {
        "id": "3w-7pXV314Wx"
      },
      "source": [
        "if os.path.isfile('/content/drive/MyDrive/data_raw/train_after_eda.csv'):\n",
        "    filename = \"/content/drive/MyDrive/data_raw/test_after_eda.csv\"\n",
        "    # you uncomment this line, if you dont know the lentgh of the file name\n",
        "    # here we have hardcoded the number of lines as 3775008\n",
        "    n_test = sum(1 for line in open(filename)) #number of records in file (excludes header)\n",
        "    # n_test = 3775006\n",
        "    s = 50000 #desired sample size\n",
        "    skip_test = sorted(random.sample(range(1,n_test+1),n_test-s))\n",
        "    #https://stackoverflow.com/a/22259008/4084039"
      ],
      "execution_count": null,
      "outputs": []
    },
    {
      "cell_type": "code",
      "metadata": {
        "colab": {
          "base_uri": "https://localhost:8080/"
        },
        "id": "gZfTZPp-2BRc",
        "outputId": "b461fe54-2996-42fd-fd7e-4ab2d0265dad"
      },
      "source": [
        "print(\"Number of rows in the train data file:\",n_train)\n",
        "print(\"Number of rows we are going to elimiate in train data are\",len(skip_train))\n",
        "print(\"Number of rows in the test data file:\", n_test)\n",
        "print(\"Number of rows we are going to elimiate in test data are\",len(skip_test))"
      ],
      "execution_count": null,
      "outputs": [
        {
          "name": "stdout",
          "output_type": "stream",
          "text": [
            "Number of rows in the train data file: 15100030\n",
            "Number of rows we are going to elimiate in train data are 15000030\n",
            "Number of rows in the test data file: 3775008\n",
            "Number of rows we are going to elimiate in test data are 3725008\n"
          ]
        }
      ]
    },
    {
      "cell_type": "markdown",
      "metadata": {
        "id": "QfZPjEEZ5hzV"
      },
      "source": [
        "### 4.1.2 Creating data frame from trian and test"
      ]
    },
    {
      "cell_type": "code",
      "metadata": {
        "colab": {
          "base_uri": "https://localhost:8080/"
        },
        "id": "BczcylF-3fSS",
        "outputId": "9d966df3-4833-4967-b285-8773157f2589"
      },
      "source": [
        "# for trian data\n",
        "df_final_train = pd.read_csv('/content/drive/MyDrive/data_raw/train_after_eda.csv', skiprows=skip_train, names=['source_node', 'destination_node'])\n",
        "df_final_train['indicator_link'] = pd.read_csv('/content/drive/MyDrive/data_raw/train_y.csv', skiprows=skip_train, names=['indicator_link'])\n",
        "print(\"Our train matrix size \",df_final_train.shape)\n",
        "df_final_train.head(5)"
      ],
      "execution_count": null,
      "outputs": [
        {
          "name": "stdout",
          "output_type": "stream",
          "text": [
            "Our train matrix size  (100001, 3)\n"
          ]
        },
        {
          "data": {
            "text/html": [
              "<div>\n",
              "<style scoped>\n",
              "    .dataframe tbody tr th:only-of-type {\n",
              "        vertical-align: middle;\n",
              "    }\n",
              "\n",
              "    .dataframe tbody tr th {\n",
              "        vertical-align: top;\n",
              "    }\n",
              "\n",
              "    .dataframe thead th {\n",
              "        text-align: right;\n",
              "    }\n",
              "</style>\n",
              "<table border=\"1\" class=\"dataframe\">\n",
              "  <thead>\n",
              "    <tr style=\"text-align: right;\">\n",
              "      <th></th>\n",
              "      <th>source_node</th>\n",
              "      <th>destination_node</th>\n",
              "      <th>indicator_link</th>\n",
              "    </tr>\n",
              "  </thead>\n",
              "  <tbody>\n",
              "    <tr>\n",
              "      <th>0</th>\n",
              "      <td>273084</td>\n",
              "      <td>1505602</td>\n",
              "      <td>1</td>\n",
              "    </tr>\n",
              "    <tr>\n",
              "      <th>1</th>\n",
              "      <td>1814022</td>\n",
              "      <td>1791177</td>\n",
              "      <td>1</td>\n",
              "    </tr>\n",
              "    <tr>\n",
              "      <th>2</th>\n",
              "      <td>826445</td>\n",
              "      <td>1364513</td>\n",
              "      <td>1</td>\n",
              "    </tr>\n",
              "    <tr>\n",
              "      <th>3</th>\n",
              "      <td>944692</td>\n",
              "      <td>559417</td>\n",
              "      <td>1</td>\n",
              "    </tr>\n",
              "    <tr>\n",
              "      <th>4</th>\n",
              "      <td>1814537</td>\n",
              "      <td>613441</td>\n",
              "      <td>1</td>\n",
              "    </tr>\n",
              "  </tbody>\n",
              "</table>\n",
              "</div>"
            ],
            "text/plain": [
              "   source_node  destination_node  indicator_link\n",
              "0       273084           1505602               1\n",
              "1      1814022           1791177               1\n",
              "2       826445           1364513               1\n",
              "3       944692            559417               1\n",
              "4      1814537            613441               1"
            ]
          },
          "execution_count": 22,
          "metadata": {},
          "output_type": "execute_result"
        }
      ]
    },
    {
      "cell_type": "code",
      "metadata": {
        "colab": {
          "base_uri": "https://localhost:8080/"
        },
        "id": "ziXEKTIh4Gzt",
        "outputId": "a7455185-df92-41aa-8ac3-1f27dcd507ed"
      },
      "source": [
        "# for test data\n",
        "df_final_test = pd.read_csv('/content/drive/MyDrive/data_raw/test_after_eda.csv', skiprows=skip_train, names=['source_node', 'destination_node'])\n",
        "df_final_test['indicator_link'] = pd.read_csv('/content/drive/MyDrive/data_raw/test_y.csv', skiprows=skip_train, names=['indicator_link'])\n",
        "print(\"Our train matrix size \",df_final_test.shape)\n",
        "df_final_test.head(5)"
      ],
      "execution_count": null,
      "outputs": [
        {
          "name": "stdout",
          "output_type": "stream",
          "text": [
            "Our train matrix size  (24937, 3)\n"
          ]
        },
        {
          "data": {
            "text/html": [
              "<div>\n",
              "<style scoped>\n",
              "    .dataframe tbody tr th:only-of-type {\n",
              "        vertical-align: middle;\n",
              "    }\n",
              "\n",
              "    .dataframe tbody tr th {\n",
              "        vertical-align: top;\n",
              "    }\n",
              "\n",
              "    .dataframe thead th {\n",
              "        text-align: right;\n",
              "    }\n",
              "</style>\n",
              "<table border=\"1\" class=\"dataframe\">\n",
              "  <thead>\n",
              "    <tr style=\"text-align: right;\">\n",
              "      <th></th>\n",
              "      <th>source_node</th>\n",
              "      <th>destination_node</th>\n",
              "      <th>indicator_link</th>\n",
              "    </tr>\n",
              "  </thead>\n",
              "  <tbody>\n",
              "    <tr>\n",
              "      <th>0</th>\n",
              "      <td>848424</td>\n",
              "      <td>784690</td>\n",
              "      <td>1</td>\n",
              "    </tr>\n",
              "    <tr>\n",
              "      <th>1</th>\n",
              "      <td>1562045</td>\n",
              "      <td>1824397</td>\n",
              "      <td>1</td>\n",
              "    </tr>\n",
              "    <tr>\n",
              "      <th>2</th>\n",
              "      <td>1425191</td>\n",
              "      <td>1817922</td>\n",
              "      <td>1</td>\n",
              "    </tr>\n",
              "    <tr>\n",
              "      <th>3</th>\n",
              "      <td>502690</td>\n",
              "      <td>550442</td>\n",
              "      <td>1</td>\n",
              "    </tr>\n",
              "    <tr>\n",
              "      <th>4</th>\n",
              "      <td>1199100</td>\n",
              "      <td>991335</td>\n",
              "      <td>1</td>\n",
              "    </tr>\n",
              "  </tbody>\n",
              "</table>\n",
              "</div>"
            ],
            "text/plain": [
              "   source_node  destination_node  indicator_link\n",
              "0       848424            784690               1\n",
              "1      1562045           1824397               1\n",
              "2      1425191           1817922               1\n",
              "3       502690            550442               1\n",
              "4      1199100            991335               1"
            ]
          },
          "execution_count": 28,
          "metadata": {},
          "output_type": "execute_result"
        }
      ]
    },
    {
      "cell_type": "markdown",
      "metadata": {
        "id": "gIaOWDaDVFIJ"
      },
      "source": [
        "## 4.2 Adding a set of features\n",
        "\n",
        "__we will create each of these features for both train and test data points__\n",
        "<ol>\n",
        "<li>jaccard_followers</li>\n",
        "<li>jaccard_followees</li>\n",
        "<li>cosine_followers</li>\n",
        "<li>cosine_followees</li>\n",
        "<li>num_followers_s (num of followers for source</li>\n",
        "<li>num_followees_s (num of followees for source)</li>\n",
        "<li>num_followers_d (num of followers for destination)</li>\n",
        "<li>num_followees_d (num of followees for destination)</li>\n",
        "<li>inter_followers (intersection of followers)</li>\n",
        "<li>inter_followees(intersection of followees)</li>\n",
        "</ol>"
      ]
    },
    {
      "cell_type": "code",
      "metadata": {
        "id": "bGBG5mvDFy1v"
      },
      "source": [
        "# if not os.path.isfile('/content/drive/MyDrive/data_raw/storage_sample_stage1.h5'):\n",
        "\n",
        "# mapping jaccard followers for trian and test data\n",
        "df_final_train['jaccard_followers'] = df_final_train.apply(lambda row: jaccard_for_followers(row['source_node'],row['destination_node']), axis=1)\n",
        "df_final_test['jaccard_followers'] = df_final_test.apply(lambda row: jaccard_for_followers(row['source_node'],row['destination_node']), axis=1)\n",
        "\n",
        "# mapping jaccard followees for trian and test data\n",
        "df_final_train['jaccard_followees'] = df_final_train.apply(lambda row: jaccard_for_followees(row['source_node'],row['destination_node']), axis=1)\n",
        "df_final_test['jaccard_followees'] = df_final_test.apply(lambda row: jaccard_for_followees(row['source_node'],row['destination_node']), axis=1)\n",
        "\n",
        "# mapping cosine followers for trian and test data\n",
        "df_final_train['cosine_followers'] = df_final_train.apply(lambda row: cosine_for_followers(row['source_node'],row['destination_node']), axis=1)\n",
        "df_final_test['cosine_followers'] = df_final_test.apply(lambda row: cosine_for_followers(row['source_node'],row['destination_node']), axis=1)\n",
        "\n",
        "# mapping cosine followees for trian and test data\n",
        "df_final_train['cosine_followees'] = df_final_train.apply(lambda row: cosine_for_followees(row['source_node'],row['destination_node']), axis=1)\n",
        "df_final_test['cosine_followees'] = df_final_test.apply(lambda row: cosine_for_followees(row['source_node'],row['destination_node']), axis=1)\n",
        "\n"
      ],
      "execution_count": null,
      "outputs": []
    },
    {
      "cell_type": "code",
      "metadata": {
        "id": "aqnKpEYj8dkV"
      },
      "source": [
        "def compute_features_stage1(df_final):\n",
        "    #calculating no. of followers and followees for source and destination\n",
        "    #calculating intersection of followers and followees for source and destination\n",
        "    num_followers_s=[]\n",
        "    num_followees_s=[]\n",
        "    num_followers_d=[]\n",
        "    num_followees_d=[]\n",
        "    inter_followers=[]\n",
        "    inter_followees=[]\n",
        "\n",
        "    # for each node\n",
        "    for i,row in df_final.iterrows():\n",
        "        try:\n",
        "            s1=set(train_graph.predecessors(row['source_node'])) # for each node \n",
        "            s2=set(train_graph.successors(row['source_node']))\n",
        "        except:\n",
        "            s1 = set()\n",
        "            s2 = set()\n",
        "        try:\n",
        "            d1=set(train_graph.predecessors(row['destination_node']))\n",
        "            d2=set(train_graph.successors(row['destination_node']))\n",
        "        except:\n",
        "            d1 = set()\n",
        "            d2 = set()\n",
        "        num_followers_s.append(len(s1))\n",
        "        num_followees_s.append(len(s2))\n",
        "\n",
        "        num_followers_d.append(len(d1))\n",
        "        num_followees_d.append(len(d2))\n",
        "\n",
        "        inter_followers.append(len(s1.intersection(d1)))\n",
        "        inter_followees.append(len(s2.intersection(d2)))\n",
        "    \n",
        "    return num_followers_s,num_followees_s,num_followers_d,num_followees_d,inter_followers,inter_followees"
      ],
      "execution_count": null,
      "outputs": []
    },
    {
      "cell_type": "code",
      "metadata": {
        "id": "6E9EdjOH_XIr"
      },
      "source": [
        "if not os.path.isfile('/content/drive/MyDrive/data_raw/storage_sample_stage1.h5'):\n",
        "    df_final_train['num_followers_s'], df_final_train['num_followers_d'], \\\n",
        "    df_final_train['num_followees_s'], df_final_train['num_followees_d'], \\\n",
        "    df_final_train['inter_followers'], df_final_train['inter_followees']= compute_features_stage1(df_final_train) # unpacking the values to its corresponding colmuns for train \n",
        "    \n",
        "    df_final_test['num_followers_s'], df_final_test['num_followers_d'], \\\n",
        "    df_final_test['num_followees_s'], df_final_test['num_followees_d'], \\\n",
        "    df_final_test['inter_followers'], df_final_test['inter_followees']= compute_features_stage1(df_final_test) # unpacking the values to its corresponding colmuns for test\n",
        "    \n",
        "    # strore the data frame for trian and test\n",
        "    hdf = HDFStore('/content/drive/MyDrive/data_raw/storage_sample_stage1.h5')\n",
        "    hdf.put('/content/drive/MyDrive/data_raw/train_df',df_final_train, format='table', data_columns=True)\n",
        "    hdf.put('/content/drive/MyDrive/data_raw/test_df',df_final_test, format='table', data_columns=True)\n",
        "    hdf.close()\n",
        "else:\n",
        "    df_final_train = read_hdf('/content/drive/MyDrive/data_raw/storage_sample_stage1.h5', '/content/drive/MyDrive/data_raw/train_df',mode='r')\n",
        "    df_final_test = read_hdf('/content/drive/MyDrive/data_raw/storage_sample_stage1.h5', '/content/drive/MyDrive/data_raw/test_df',mode='r')"
      ],
      "execution_count": null,
      "outputs": []
    },
    {
      "cell_type": "code",
      "metadata": {
        "colab": {
          "base_uri": "https://localhost:8080/"
        },
        "id": "xzN4kOPuAO7I",
        "outputId": "3daf3556-31dd-4cec-c312-d0b8d89409d4"
      },
      "source": [
        "df_final_train.head(5)"
      ],
      "execution_count": null,
      "outputs": [
        {
          "data": {
            "text/html": [
              "<div>\n",
              "<style scoped>\n",
              "    .dataframe tbody tr th:only-of-type {\n",
              "        vertical-align: middle;\n",
              "    }\n",
              "\n",
              "    .dataframe tbody tr th {\n",
              "        vertical-align: top;\n",
              "    }\n",
              "\n",
              "    .dataframe thead th {\n",
              "        text-align: right;\n",
              "    }\n",
              "</style>\n",
              "<table border=\"1\" class=\"dataframe\">\n",
              "  <thead>\n",
              "    <tr style=\"text-align: right;\">\n",
              "      <th></th>\n",
              "      <th>source_node</th>\n",
              "      <th>destination_node</th>\n",
              "      <th>indicator_link</th>\n",
              "      <th>num_followers_s</th>\n",
              "      <th>num_followers_d</th>\n",
              "      <th>num_followees_s</th>\n",
              "      <th>num_followees_d</th>\n",
              "      <th>inter_followers</th>\n",
              "      <th>inter_followees</th>\n",
              "      <th>jaccard_followers</th>\n",
              "      <th>jaccard_followees</th>\n",
              "      <th>cosine_followers</th>\n",
              "      <th>cosine_followees</th>\n",
              "    </tr>\n",
              "  </thead>\n",
              "  <tbody>\n",
              "    <tr>\n",
              "      <th>0</th>\n",
              "      <td>273084</td>\n",
              "      <td>1505602</td>\n",
              "      <td>1</td>\n",
              "      <td>11</td>\n",
              "      <td>15</td>\n",
              "      <td>6</td>\n",
              "      <td>8</td>\n",
              "      <td>0</td>\n",
              "      <td>0</td>\n",
              "      <td>0</td>\n",
              "      <td>0.000000</td>\n",
              "      <td>0.000000</td>\n",
              "      <td>0.000000</td>\n",
              "    </tr>\n",
              "    <tr>\n",
              "      <th>1</th>\n",
              "      <td>1814022</td>\n",
              "      <td>1791177</td>\n",
              "      <td>1</td>\n",
              "      <td>1</td>\n",
              "      <td>1</td>\n",
              "      <td>2</td>\n",
              "      <td>4</td>\n",
              "      <td>0</td>\n",
              "      <td>0</td>\n",
              "      <td>0</td>\n",
              "      <td>0.000000</td>\n",
              "      <td>0.000000</td>\n",
              "      <td>0.000000</td>\n",
              "    </tr>\n",
              "    <tr>\n",
              "      <th>2</th>\n",
              "      <td>826445</td>\n",
              "      <td>1364513</td>\n",
              "      <td>1</td>\n",
              "      <td>9</td>\n",
              "      <td>11</td>\n",
              "      <td>7</td>\n",
              "      <td>12</td>\n",
              "      <td>5</td>\n",
              "      <td>8</td>\n",
              "      <td>0</td>\n",
              "      <td>0.533333</td>\n",
              "      <td>0.238095</td>\n",
              "      <td>0.696311</td>\n",
              "    </tr>\n",
              "    <tr>\n",
              "      <th>3</th>\n",
              "      <td>944692</td>\n",
              "      <td>559417</td>\n",
              "      <td>1</td>\n",
              "      <td>8</td>\n",
              "      <td>4</td>\n",
              "      <td>4</td>\n",
              "      <td>0</td>\n",
              "      <td>0</td>\n",
              "      <td>0</td>\n",
              "      <td>0</td>\n",
              "      <td>0.000000</td>\n",
              "      <td>0.000000</td>\n",
              "      <td>0.000000</td>\n",
              "    </tr>\n",
              "    <tr>\n",
              "      <th>4</th>\n",
              "      <td>1814537</td>\n",
              "      <td>613441</td>\n",
              "      <td>1</td>\n",
              "      <td>9</td>\n",
              "      <td>24</td>\n",
              "      <td>18</td>\n",
              "      <td>21</td>\n",
              "      <td>0</td>\n",
              "      <td>0</td>\n",
              "      <td>0</td>\n",
              "      <td>0.000000</td>\n",
              "      <td>0.000000</td>\n",
              "      <td>0.000000</td>\n",
              "    </tr>\n",
              "  </tbody>\n",
              "</table>\n",
              "</div>"
            ],
            "text/plain": [
              "   source_node  destination_node  ...  cosine_followers  cosine_followees\n",
              "0       273084           1505602  ...          0.000000          0.000000\n",
              "1      1814022           1791177  ...          0.000000          0.000000\n",
              "2       826445           1364513  ...          0.238095          0.696311\n",
              "3       944692            559417  ...          0.000000          0.000000\n",
              "4      1814537            613441  ...          0.000000          0.000000\n",
              "\n",
              "[5 rows x 13 columns]"
            ]
          },
          "execution_count": 62,
          "metadata": {},
          "output_type": "execute_result"
        }
      ]
    },
    {
      "cell_type": "markdown",
      "metadata": {
        "id": "uaO7rffIK6UY"
      },
      "source": [
        "## 4.3 Adding new set of features\n",
        "\n",
        "__we will create each of these features for both train and test data points__\n",
        "<ol>\n",
        "<li>adar index</li>\n",
        "<li>is following back</li>\n",
        "<li>belongs to same weakly connect components</li>\n",
        "<li>shortest path between source and destination</li>\n",
        "</ol>"
      ]
    },
    {
      "cell_type": "code",
      "metadata": {
        "id": "qkNUW2ivLJyR"
      },
      "source": [
        "if not os.path.isfile('/content/drive/MyDrive/data_raw/storage_sample_stage2.h5'): \n",
        "    #mapping adar index on train\n",
        "    df_final_train['adar_index'] = df_final_train.apply(lambda row: calc_adar_in(row['source_node'],row['destination_node']),axis=1)\n",
        "    #mapping adar index on test\n",
        "    df_final_test['adar_index'] = df_final_test.apply(lambda row: calc_adar_in(row['source_node'],row['destination_node']),axis=1)\n",
        "\n",
        "    #--------------------------------------------------------------------------------------------------------\n",
        "    #mapping followback or not on train\n",
        "    df_final_train['follows_back'] = df_final_train.apply(lambda row: follows_back(row['source_node'],row['destination_node']),axis=1)\n",
        "\n",
        "    #mapping followback or not on test\n",
        "    df_final_test['follows_back'] = df_final_test.apply(lambda row: follows_back(row['source_node'],row['destination_node']),axis=1)\n",
        "\n",
        "    #--------------------------------------------------------------------------------------------------------\n",
        "    #mapping same component of wcc or not on train\n",
        "    df_final_train['same_comp'] = df_final_train.apply(lambda row: belongs_to_same_wcc(row['source_node'],row['destination_node']),axis=1)\n",
        "\n",
        "    ##mapping same component of wcc or not on test\n",
        "    df_final_test['same_comp'] = df_final_test.apply(lambda row: belongs_to_same_wcc(row['source_node'],row['destination_node']),axis=1)\n",
        "\n",
        "    #--------------------------------------------------------------------------------------------------------\n",
        "    #mapping shortest path on train \n",
        "    df_final_train['shortest_path'] = df_final_train.apply(lambda row: compute_shortest_path_length(row['source_node'],row['destination_node']),axis=1)\n",
        "    #mapping shortest path on test\n",
        "    df_final_test['shortest_path'] = df_final_test.apply(lambda row: compute_shortest_path_length(row['source_node'],row['destination_node']),axis=1)\n",
        "\n",
        "    hdf = HDFStore('/content/drive/MyDrive/data_raw/storage_sample_stage2.h5')\n",
        "    hdf.put('/content/drive/MyDrive/data_raw/train_df',df_final_train, format='table', data_columns=True)\n",
        "    hdf.put('/content/drive/MyDrive/data_raw/test_df',df_final_test, format='table', data_columns=True)\n",
        "    hdf.close()\n",
        "else:\n",
        "    df_final_train = read_hdf('/content/drive/MyDrive/data_raw/storage_sample_stage2.h5', '/content/drive/MyDrive/data_raw/train_df',mode='r')\n",
        "    df_final_test = read_hdf('/content/drive/MyDrive/data_raw/storage_sample_stage2.h5', '/content/drive/MyDrive/data_raw/test_df',mode='r')"
      ],
      "execution_count": null,
      "outputs": []
    },
    {
      "cell_type": "code",
      "metadata": {
        "colab": {
          "base_uri": "https://localhost:8080/"
        },
        "id": "ocDhGbYRNWLj",
        "outputId": "ec18a1cf-a5f6-4734-c0b1-0c437c62ac7d"
      },
      "source": [
        "df_final_train.head(5)"
      ],
      "execution_count": null,
      "outputs": [
        {
          "data": {
            "text/html": [
              "<div>\n",
              "<style scoped>\n",
              "    .dataframe tbody tr th:only-of-type {\n",
              "        vertical-align: middle;\n",
              "    }\n",
              "\n",
              "    .dataframe tbody tr th {\n",
              "        vertical-align: top;\n",
              "    }\n",
              "\n",
              "    .dataframe thead th {\n",
              "        text-align: right;\n",
              "    }\n",
              "</style>\n",
              "<table border=\"1\" class=\"dataframe\">\n",
              "  <thead>\n",
              "    <tr style=\"text-align: right;\">\n",
              "      <th></th>\n",
              "      <th>source_node</th>\n",
              "      <th>destination_node</th>\n",
              "      <th>indicator_link</th>\n",
              "      <th>num_followers_s</th>\n",
              "      <th>num_followers_d</th>\n",
              "      <th>num_followees_s</th>\n",
              "      <th>num_followees_d</th>\n",
              "      <th>inter_followers</th>\n",
              "      <th>inter_followees</th>\n",
              "      <th>jaccard_followers</th>\n",
              "      <th>jaccard_followees</th>\n",
              "      <th>cosine_followers</th>\n",
              "      <th>cosine_followees</th>\n",
              "      <th>adar_index</th>\n",
              "      <th>follows_back</th>\n",
              "      <th>same_comp</th>\n",
              "      <th>shortest_path</th>\n",
              "    </tr>\n",
              "  </thead>\n",
              "  <tbody>\n",
              "    <tr>\n",
              "      <th>0</th>\n",
              "      <td>273084</td>\n",
              "      <td>1505602</td>\n",
              "      <td>1</td>\n",
              "      <td>11</td>\n",
              "      <td>15</td>\n",
              "      <td>6</td>\n",
              "      <td>8</td>\n",
              "      <td>0</td>\n",
              "      <td>0</td>\n",
              "      <td>0</td>\n",
              "      <td>0.000000</td>\n",
              "      <td>0.000000</td>\n",
              "      <td>0.000000</td>\n",
              "      <td>0.000000</td>\n",
              "      <td>0</td>\n",
              "      <td>1</td>\n",
              "      <td>4</td>\n",
              "    </tr>\n",
              "    <tr>\n",
              "      <th>1</th>\n",
              "      <td>1814022</td>\n",
              "      <td>1791177</td>\n",
              "      <td>1</td>\n",
              "      <td>1</td>\n",
              "      <td>1</td>\n",
              "      <td>2</td>\n",
              "      <td>4</td>\n",
              "      <td>0</td>\n",
              "      <td>0</td>\n",
              "      <td>0</td>\n",
              "      <td>0.000000</td>\n",
              "      <td>0.000000</td>\n",
              "      <td>0.000000</td>\n",
              "      <td>0.000000</td>\n",
              "      <td>1</td>\n",
              "      <td>1</td>\n",
              "      <td>-1</td>\n",
              "    </tr>\n",
              "    <tr>\n",
              "      <th>2</th>\n",
              "      <td>826445</td>\n",
              "      <td>1364513</td>\n",
              "      <td>1</td>\n",
              "      <td>9</td>\n",
              "      <td>11</td>\n",
              "      <td>7</td>\n",
              "      <td>12</td>\n",
              "      <td>5</td>\n",
              "      <td>8</td>\n",
              "      <td>0</td>\n",
              "      <td>0.533333</td>\n",
              "      <td>0.238095</td>\n",
              "      <td>0.696311</td>\n",
              "      <td>6.349752</td>\n",
              "      <td>1</td>\n",
              "      <td>1</td>\n",
              "      <td>2</td>\n",
              "    </tr>\n",
              "    <tr>\n",
              "      <th>3</th>\n",
              "      <td>944692</td>\n",
              "      <td>559417</td>\n",
              "      <td>1</td>\n",
              "      <td>8</td>\n",
              "      <td>4</td>\n",
              "      <td>4</td>\n",
              "      <td>0</td>\n",
              "      <td>0</td>\n",
              "      <td>0</td>\n",
              "      <td>0</td>\n",
              "      <td>0.000000</td>\n",
              "      <td>0.000000</td>\n",
              "      <td>0.000000</td>\n",
              "      <td>0.000000</td>\n",
              "      <td>0</td>\n",
              "      <td>1</td>\n",
              "      <td>7</td>\n",
              "    </tr>\n",
              "    <tr>\n",
              "      <th>4</th>\n",
              "      <td>1814537</td>\n",
              "      <td>613441</td>\n",
              "      <td>1</td>\n",
              "      <td>9</td>\n",
              "      <td>24</td>\n",
              "      <td>18</td>\n",
              "      <td>21</td>\n",
              "      <td>0</td>\n",
              "      <td>0</td>\n",
              "      <td>0</td>\n",
              "      <td>0.000000</td>\n",
              "      <td>0.000000</td>\n",
              "      <td>0.000000</td>\n",
              "      <td>0.000000</td>\n",
              "      <td>1</td>\n",
              "      <td>1</td>\n",
              "      <td>5</td>\n",
              "    </tr>\n",
              "  </tbody>\n",
              "</table>\n",
              "</div>"
            ],
            "text/plain": [
              "   source_node  destination_node  ...  same_comp  shortest_path\n",
              "0       273084           1505602  ...          1              4\n",
              "1      1814022           1791177  ...          1             -1\n",
              "2       826445           1364513  ...          1              2\n",
              "3       944692            559417  ...          1              7\n",
              "4      1814537            613441  ...          1              5\n",
              "\n",
              "[5 rows x 17 columns]"
            ]
          },
          "execution_count": 76,
          "metadata": {},
          "output_type": "execute_result"
        }
      ]
    },
    {
      "cell_type": "markdown",
      "metadata": {
        "id": "oi6PnppbTTEe"
      },
      "source": [
        "## 4.3 Adding new set of features\n",
        "\n",
        "__we will create these each of these features for both train and test data points__\n",
        "<ol>\n",
        "<li>Weight Features\n",
        "    <ul>\n",
        "        <li>weight of incoming edges</li>\n",
        "        <li>weight of outgoing edges</li>\n",
        "        <li>weight of incoming edges + weight of outgoing edges</li>\n",
        "        <li>weight of incoming edges * weight of outgoing edges</li>\n",
        "        <li>2*weight of incoming edges + weight of outgoing edges</li>\n",
        "        <li>weight of incoming edges + 2*weight of outgoing edges</li>\n",
        "    </ul>\n",
        "</li>\n",
        "<li>Page Ranking of source</li>\n",
        "<li>Page Ranking of dest</li>\n",
        "<li>katz of source</li>\n",
        "<li>katz of dest</li>\n",
        "<li>hubs of source</li>\n",
        "<li>hubs of dest</li>\n",
        "<li>authorities_s of source</li>\n",
        "<li>authorities_s of dest</li>\n",
        "</ol>"
      ]
    },
    {
      "cell_type": "markdown",
      "metadata": {
        "id": "r2Eq03TxTmM6"
      },
      "source": [
        "#### Weight Features"
      ]
    },
    {
      "cell_type": "markdown",
      "metadata": {
        "id": "rXmUYF9FVFIT"
      },
      "source": [
        "In order to determine the similarity of nodes, an edge weight value was calculated between nodes. Edge weight decreases as the neighbor count goes up. Intuitively, consider one million people following a celebrity on a social network then chances are most of them never met each other or the celebrity. On the other hand, if a user has 30 contacts in his/her social network, the chances are higher that many of them know each other. \n",
        "`credit` - Graph-based Features for Supervised Link Prediction\n",
        "William Cukierski, Benjamin Hamner, Bo Yang"
      ]
    },
    {
      "cell_type": "markdown",
      "metadata": {
        "id": "Qzbs2no7VFIV"
      },
      "source": [
        "\\begin{equation}\n",
        "W = \\frac{1}{\\sqrt{1+|X|}}\n",
        "\\end{equation}"
      ]
    },
    {
      "cell_type": "markdown",
      "metadata": {
        "id": "kkzUPrWaVFIV"
      },
      "source": [
        "it is directed graph so calculated Weighted in and Weighted out differently"
      ]
    },
    {
      "cell_type": "code",
      "metadata": {
        "colab": {
          "base_uri": "https://localhost:8080/"
        },
        "id": "1ZT0kculUPrT",
        "outputId": "f476f0fa-57c2-4817-ed83-656d0a58ae99"
      },
      "source": [
        "#weight for source and destination of each link\n",
        "Weight_in = {}\n",
        "Weight_out = {}\n",
        "for i in  tqdm(train_graph.nodes()):\n",
        "    s1=set(train_graph.predecessors(i))\n",
        "    w_in = 1.0/(np.sqrt(1+len(s1)))\n",
        "    Weight_in[i]=w_in\n",
        "    \n",
        "    s2=set(train_graph.successors(i))\n",
        "    w_out = 1.0/(np.sqrt(1+len(s2)))\n",
        "    Weight_out[i]=w_out\n",
        "    \n",
        "#for imputing with mean\n",
        "mean_weight_in = np.mean(list(Weight_in.values()))\n",
        "mean_weight_out = np.mean(list(Weight_out.values()))"
      ],
      "execution_count": null,
      "outputs": [
        {
          "name": "stderr",
          "output_type": "stream",
          "text": [
            "100%|██████████| 1780722/1780722 [00:17<00:00, 103871.92it/s]\n"
          ]
        }
      ]
    },
    {
      "cell_type": "code",
      "metadata": {
        "id": "D-P4VqRQWg3q"
      },
      "source": [
        "if not os.path.isfile('/content/drive/MyDrive/data_raw/storage_sample_stage3.h5'):\n",
        "\n",
        "    #mapping to pandas train for source & destination nodes\n",
        "    df_final_train['weight_in'] = df_final_train.destination_node.apply(lambda x: Weight_in.get(x,mean_weight_in))\n",
        "    df_final_train['weight_out'] = df_final_train.source_node.apply(lambda x: Weight_out.get(x,mean_weight_out))\n",
        "\n",
        "    #mapping to pandas test source & destination nodes\n",
        "    df_final_test['weight_in'] = df_final_test.destination_node.apply(lambda x: Weight_in.get(x,mean_weight_in))\n",
        "    df_final_test['weight_out'] = df_final_test.source_node.apply(lambda x: Weight_out.get(x,mean_weight_out))\n",
        "\n",
        "\n",
        "    #some features engineerings on the in and out weights for trian data\n",
        "    df_final_train['weight_f1'] = df_final_train.weight_in + df_final_train.weight_out\n",
        "    df_final_train['weight_f2'] = df_final_train.weight_in * df_final_train.weight_out\n",
        "    df_final_train['weight_f3'] = (2*df_final_train.weight_in + 1*df_final_train.weight_out)\n",
        "    df_final_train['weight_f4'] = (1*df_final_train.weight_in + 2*df_final_train.weight_out)\n",
        "\n",
        "    #some features engineerings on the in and out weights for test data\n",
        "    df_final_test['weight_f1'] = df_final_test.weight_in + df_final_test.weight_out\n",
        "    df_final_test['weight_f2'] = df_final_test.weight_in * df_final_test.weight_out\n",
        "    df_final_test['weight_f3'] = (2*df_final_test.weight_in + 1*df_final_test.weight_out)\n",
        "    df_final_test['weight_f4'] = (1*df_final_test.weight_in + 2*df_final_test.weight_out)"
      ],
      "execution_count": null,
      "outputs": []
    },
    {
      "cell_type": "code",
      "metadata": {
        "colab": {
          "base_uri": "https://localhost:8080/"
        },
        "id": "ewl3d9GkW2St",
        "outputId": "1c229deb-62b8-4b67-b8a2-01bf620bec9d"
      },
      "source": [
        "df_final_train.head(5)"
      ],
      "execution_count": null,
      "outputs": [
        {
          "data": {
            "text/html": [
              "<div>\n",
              "<style scoped>\n",
              "    .dataframe tbody tr th:only-of-type {\n",
              "        vertical-align: middle;\n",
              "    }\n",
              "\n",
              "    .dataframe tbody tr th {\n",
              "        vertical-align: top;\n",
              "    }\n",
              "\n",
              "    .dataframe thead th {\n",
              "        text-align: right;\n",
              "    }\n",
              "</style>\n",
              "<table border=\"1\" class=\"dataframe\">\n",
              "  <thead>\n",
              "    <tr style=\"text-align: right;\">\n",
              "      <th></th>\n",
              "      <th>source_node</th>\n",
              "      <th>destination_node</th>\n",
              "      <th>indicator_link</th>\n",
              "      <th>num_followers_s</th>\n",
              "      <th>num_followers_d</th>\n",
              "      <th>num_followees_s</th>\n",
              "      <th>num_followees_d</th>\n",
              "      <th>inter_followers</th>\n",
              "      <th>inter_followees</th>\n",
              "      <th>jaccard_followers</th>\n",
              "      <th>jaccard_followees</th>\n",
              "      <th>cosine_followers</th>\n",
              "      <th>cosine_followees</th>\n",
              "      <th>adar_index</th>\n",
              "      <th>follows_back</th>\n",
              "      <th>same_comp</th>\n",
              "      <th>shortest_path</th>\n",
              "      <th>weight_in</th>\n",
              "      <th>weight_out</th>\n",
              "      <th>weight_f1</th>\n",
              "      <th>weight_f2</th>\n",
              "      <th>weight_f3</th>\n",
              "      <th>weight_f4</th>\n",
              "    </tr>\n",
              "  </thead>\n",
              "  <tbody>\n",
              "    <tr>\n",
              "      <th>0</th>\n",
              "      <td>273084</td>\n",
              "      <td>1505602</td>\n",
              "      <td>1</td>\n",
              "      <td>11</td>\n",
              "      <td>15</td>\n",
              "      <td>6</td>\n",
              "      <td>8</td>\n",
              "      <td>0</td>\n",
              "      <td>0</td>\n",
              "      <td>0</td>\n",
              "      <td>0.000000</td>\n",
              "      <td>0.000000</td>\n",
              "      <td>0.000000</td>\n",
              "      <td>0.000000</td>\n",
              "      <td>0</td>\n",
              "      <td>1</td>\n",
              "      <td>4</td>\n",
              "      <td>0.377964</td>\n",
              "      <td>0.250000</td>\n",
              "      <td>0.627964</td>\n",
              "      <td>0.094491</td>\n",
              "      <td>1.005929</td>\n",
              "      <td>0.877964</td>\n",
              "    </tr>\n",
              "    <tr>\n",
              "      <th>1</th>\n",
              "      <td>1814022</td>\n",
              "      <td>1791177</td>\n",
              "      <td>1</td>\n",
              "      <td>1</td>\n",
              "      <td>1</td>\n",
              "      <td>2</td>\n",
              "      <td>4</td>\n",
              "      <td>0</td>\n",
              "      <td>0</td>\n",
              "      <td>0</td>\n",
              "      <td>0.000000</td>\n",
              "      <td>0.000000</td>\n",
              "      <td>0.000000</td>\n",
              "      <td>0.000000</td>\n",
              "      <td>1</td>\n",
              "      <td>1</td>\n",
              "      <td>-1</td>\n",
              "      <td>0.707107</td>\n",
              "      <td>1.000000</td>\n",
              "      <td>1.707107</td>\n",
              "      <td>0.707107</td>\n",
              "      <td>2.414214</td>\n",
              "      <td>2.707107</td>\n",
              "    </tr>\n",
              "    <tr>\n",
              "      <th>2</th>\n",
              "      <td>826445</td>\n",
              "      <td>1364513</td>\n",
              "      <td>1</td>\n",
              "      <td>9</td>\n",
              "      <td>11</td>\n",
              "      <td>7</td>\n",
              "      <td>12</td>\n",
              "      <td>5</td>\n",
              "      <td>8</td>\n",
              "      <td>0</td>\n",
              "      <td>0.533333</td>\n",
              "      <td>0.238095</td>\n",
              "      <td>0.696311</td>\n",
              "      <td>6.349752</td>\n",
              "      <td>1</td>\n",
              "      <td>1</td>\n",
              "      <td>2</td>\n",
              "      <td>0.353553</td>\n",
              "      <td>0.288675</td>\n",
              "      <td>0.642229</td>\n",
              "      <td>0.102062</td>\n",
              "      <td>0.995782</td>\n",
              "      <td>0.930904</td>\n",
              "    </tr>\n",
              "    <tr>\n",
              "      <th>3</th>\n",
              "      <td>944692</td>\n",
              "      <td>559417</td>\n",
              "      <td>1</td>\n",
              "      <td>8</td>\n",
              "      <td>4</td>\n",
              "      <td>4</td>\n",
              "      <td>0</td>\n",
              "      <td>0</td>\n",
              "      <td>0</td>\n",
              "      <td>0</td>\n",
              "      <td>0.000000</td>\n",
              "      <td>0.000000</td>\n",
              "      <td>0.000000</td>\n",
              "      <td>0.000000</td>\n",
              "      <td>0</td>\n",
              "      <td>1</td>\n",
              "      <td>7</td>\n",
              "      <td>0.447214</td>\n",
              "      <td>0.447214</td>\n",
              "      <td>0.894427</td>\n",
              "      <td>0.200000</td>\n",
              "      <td>1.341641</td>\n",
              "      <td>1.341641</td>\n",
              "    </tr>\n",
              "    <tr>\n",
              "      <th>4</th>\n",
              "      <td>1814537</td>\n",
              "      <td>613441</td>\n",
              "      <td>1</td>\n",
              "      <td>9</td>\n",
              "      <td>24</td>\n",
              "      <td>18</td>\n",
              "      <td>21</td>\n",
              "      <td>0</td>\n",
              "      <td>0</td>\n",
              "      <td>0</td>\n",
              "      <td>0.000000</td>\n",
              "      <td>0.000000</td>\n",
              "      <td>0.000000</td>\n",
              "      <td>0.000000</td>\n",
              "      <td>1</td>\n",
              "      <td>1</td>\n",
              "      <td>5</td>\n",
              "      <td>0.229416</td>\n",
              "      <td>0.200000</td>\n",
              "      <td>0.429416</td>\n",
              "      <td>0.045883</td>\n",
              "      <td>0.658831</td>\n",
              "      <td>0.629416</td>\n",
              "    </tr>\n",
              "  </tbody>\n",
              "</table>\n",
              "</div>"
            ],
            "text/plain": [
              "   source_node  destination_node  ...  weight_f3  weight_f4\n",
              "0       273084           1505602  ...   1.005929   0.877964\n",
              "1      1814022           1791177  ...   2.414214   2.707107\n",
              "2       826445           1364513  ...   0.995782   0.930904\n",
              "3       944692            559417  ...   1.341641   1.341641\n",
              "4      1814537            613441  ...   0.658831   0.629416\n",
              "\n",
              "[5 rows x 23 columns]"
            ]
          },
          "execution_count": 80,
          "metadata": {},
          "output_type": "execute_result"
        }
      ]
    },
    {
      "cell_type": "code",
      "metadata": {
        "id": "B3xUeq7sYHOQ"
      },
      "source": [
        "if not os.path.isfile('/content/drive/MyDrive/data_raw/storage_sample_stage3.h5'):\n",
        "\n",
        "    #page rank for source and destination in Train and Test\n",
        "    #if anything not there in train graph then adding mean page rank \n",
        "    df_final_train['page_rank_s'] = df_final_train.source_node.apply(lambda x:pr.get(x,mean_pr))\n",
        "    df_final_train['page_rank_d'] = df_final_train.destination_node.apply(lambda x:pr.get(x,mean_pr))\n",
        "\n",
        "    df_final_test['page_rank_s'] = df_final_test.source_node.apply(lambda x:pr.get(x,mean_pr))\n",
        "    df_final_test['page_rank_d'] = df_final_test.destination_node.apply(lambda x:pr.get(x,mean_pr))\n",
        "    #================================================================================\n",
        "\n",
        "    #Katz centrality score for source and destination in Train and test\n",
        "    #if anything not there in train graph then adding mean katz score\n",
        "    df_final_train['katz_s'] = df_final_train.source_node.apply(lambda x: katz.get(x,mean_katz))\n",
        "    df_final_train['katz_d'] = df_final_train.destination_node.apply(lambda x: katz.get(x,mean_katz))\n",
        "\n",
        "    df_final_test['katz_s'] = df_final_test.source_node.apply(lambda x: katz.get(x,mean_katz))\n",
        "    df_final_test['katz_d'] = df_final_test.destination_node.apply(lambda x: katz.get(x,mean_katz))\n",
        "    #================================================================================\n",
        "\n",
        "    #Hits algorithm score for source and destination in Train and test \n",
        "    #if anything not there in train graph then adding 0\n",
        "    # hits[0] means calculating for hubs\n",
        "    df_final_train['hubs_s'] = df_final_train.source_node.apply(lambda x: hits[0].get(x,0))\n",
        "    df_final_train['hubs_d'] = df_final_train.destination_node.apply(lambda x: hits[0].get(x,0))\n",
        "\n",
        "    df_final_test['hubs_s'] = df_final_test.source_node.apply(lambda x: hits[0].get(x,0))\n",
        "    df_final_test['hubs_d'] = df_final_test.destination_node.apply(lambda x: hits[0].get(x,0))\n",
        "    #================================================================================\n",
        "\n",
        "    #Hits algorithm score for source and destination in Train and Test\n",
        "    #if anything not there in train graph then adding 0\n",
        "    # hits[1] means calculating for authorities\n",
        "    df_final_train['authorities_s'] = df_final_train.source_node.apply(lambda x: hits[1].get(x,0))\n",
        "    df_final_train['authorities_d'] = df_final_train.destination_node.apply(lambda x: hits[1].get(x,0))\n",
        "\n",
        "    df_final_test['authorities_s'] = df_final_test.source_node.apply(lambda x: hits[1].get(x,0))\n",
        "    df_final_test['authorities_d'] = df_final_test.destination_node.apply(lambda x: hits[1].get(x,0))\n",
        "    #================================================================================\n",
        "\n",
        "    hdf = HDFStore('/content/drive/MyDrive/data_raw/storage_sample_stage3.h5')\n",
        "    hdf.put('/content/drive/MyDrive/data_raw/train_df',df_final_train, format='table', data_columns=True)\n",
        "    hdf.put('/content/drive/MyDrive/data_raw/test_df',df_final_test, format='table', data_columns=True)\n",
        "    hdf.close()\n",
        "\n",
        "else:\n",
        "    df_final_train = read_hdf('/content/drive/MyDrive/data_raw/storage_sample_stage3.h5', '/content/drive/MyDrive/data_raw/train_df',mode='r')\n",
        "    df_final_test = read_hdf('/content/drive/MyDrive/data_raw/storage_sample_stage3.h5', '/content/drive/MyDrive/data_raw/test_df',mode='r')"
      ],
      "execution_count": null,
      "outputs": []
    },
    {
      "cell_type": "code",
      "metadata": {
        "colab": {
          "base_uri": "https://localhost:8080/"
        },
        "id": "QCbJHrtYY_cM",
        "outputId": "c21af070-fef5-41c4-f1ed-e20e48b2d435"
      },
      "source": [
        "df_final_train.head(5)"
      ],
      "execution_count": null,
      "outputs": [
        {
          "data": {
            "text/html": [
              "<div>\n",
              "<style scoped>\n",
              "    .dataframe tbody tr th:only-of-type {\n",
              "        vertical-align: middle;\n",
              "    }\n",
              "\n",
              "    .dataframe tbody tr th {\n",
              "        vertical-align: top;\n",
              "    }\n",
              "\n",
              "    .dataframe thead th {\n",
              "        text-align: right;\n",
              "    }\n",
              "</style>\n",
              "<table border=\"1\" class=\"dataframe\">\n",
              "  <thead>\n",
              "    <tr style=\"text-align: right;\">\n",
              "      <th></th>\n",
              "      <th>source_node</th>\n",
              "      <th>destination_node</th>\n",
              "      <th>indicator_link</th>\n",
              "      <th>num_followers_s</th>\n",
              "      <th>num_followers_d</th>\n",
              "      <th>num_followees_s</th>\n",
              "      <th>num_followees_d</th>\n",
              "      <th>inter_followers</th>\n",
              "      <th>inter_followees</th>\n",
              "      <th>jaccard_followers</th>\n",
              "      <th>jaccard_followees</th>\n",
              "      <th>cosine_followers</th>\n",
              "      <th>cosine_followees</th>\n",
              "      <th>adar_index</th>\n",
              "      <th>follows_back</th>\n",
              "      <th>same_comp</th>\n",
              "      <th>shortest_path</th>\n",
              "      <th>weight_in</th>\n",
              "      <th>weight_out</th>\n",
              "      <th>weight_f1</th>\n",
              "      <th>weight_f2</th>\n",
              "      <th>weight_f3</th>\n",
              "      <th>weight_f4</th>\n",
              "      <th>page_rank_s</th>\n",
              "      <th>page_rank_d</th>\n",
              "      <th>katz_s</th>\n",
              "      <th>katz_d</th>\n",
              "      <th>hubs_s</th>\n",
              "      <th>hubs_d</th>\n",
              "      <th>authorities_s</th>\n",
              "      <th>authorities_d</th>\n",
              "    </tr>\n",
              "  </thead>\n",
              "  <tbody>\n",
              "    <tr>\n",
              "      <th>0</th>\n",
              "      <td>273084</td>\n",
              "      <td>1505602</td>\n",
              "      <td>1</td>\n",
              "      <td>11</td>\n",
              "      <td>15</td>\n",
              "      <td>6</td>\n",
              "      <td>8</td>\n",
              "      <td>0</td>\n",
              "      <td>0</td>\n",
              "      <td>0</td>\n",
              "      <td>0.000000</td>\n",
              "      <td>0.000000</td>\n",
              "      <td>0.000000</td>\n",
              "      <td>0.000000</td>\n",
              "      <td>0</td>\n",
              "      <td>1</td>\n",
              "      <td>4</td>\n",
              "      <td>0.377964</td>\n",
              "      <td>0.250000</td>\n",
              "      <td>0.627964</td>\n",
              "      <td>0.094491</td>\n",
              "      <td>1.005929</td>\n",
              "      <td>0.877964</td>\n",
              "      <td>2.045290e-06</td>\n",
              "      <td>3.459963e-07</td>\n",
              "      <td>0.000773</td>\n",
              "      <td>0.000756</td>\n",
              "      <td>1.943132e-13</td>\n",
              "      <td>1.941103e-13</td>\n",
              "      <td>9.226338e-16</td>\n",
              "      <td>2.231877e-15</td>\n",
              "    </tr>\n",
              "    <tr>\n",
              "      <th>1</th>\n",
              "      <td>1814022</td>\n",
              "      <td>1791177</td>\n",
              "      <td>1</td>\n",
              "      <td>1</td>\n",
              "      <td>1</td>\n",
              "      <td>2</td>\n",
              "      <td>4</td>\n",
              "      <td>0</td>\n",
              "      <td>0</td>\n",
              "      <td>0</td>\n",
              "      <td>0.000000</td>\n",
              "      <td>0.000000</td>\n",
              "      <td>0.000000</td>\n",
              "      <td>0.000000</td>\n",
              "      <td>1</td>\n",
              "      <td>1</td>\n",
              "      <td>-1</td>\n",
              "      <td>0.707107</td>\n",
              "      <td>1.000000</td>\n",
              "      <td>1.707107</td>\n",
              "      <td>0.707107</td>\n",
              "      <td>2.414214</td>\n",
              "      <td>2.707107</td>\n",
              "      <td>2.848986e-07</td>\n",
              "      <td>8.815667e-07</td>\n",
              "      <td>0.000735</td>\n",
              "      <td>0.000739</td>\n",
              "      <td>1.269882e-25</td>\n",
              "      <td>5.132992e-22</td>\n",
              "      <td>-4.228372e-25</td>\n",
              "      <td>1.769218e-23</td>\n",
              "    </tr>\n",
              "    <tr>\n",
              "      <th>2</th>\n",
              "      <td>826445</td>\n",
              "      <td>1364513</td>\n",
              "      <td>1</td>\n",
              "      <td>9</td>\n",
              "      <td>11</td>\n",
              "      <td>7</td>\n",
              "      <td>12</td>\n",
              "      <td>5</td>\n",
              "      <td>8</td>\n",
              "      <td>0</td>\n",
              "      <td>0.533333</td>\n",
              "      <td>0.238095</td>\n",
              "      <td>0.696311</td>\n",
              "      <td>6.349752</td>\n",
              "      <td>1</td>\n",
              "      <td>1</td>\n",
              "      <td>2</td>\n",
              "      <td>0.353553</td>\n",
              "      <td>0.288675</td>\n",
              "      <td>0.642229</td>\n",
              "      <td>0.102062</td>\n",
              "      <td>0.995782</td>\n",
              "      <td>0.930904</td>\n",
              "      <td>4.125339e-07</td>\n",
              "      <td>3.670567e-07</td>\n",
              "      <td>0.000767</td>\n",
              "      <td>0.000759</td>\n",
              "      <td>5.111827e-18</td>\n",
              "      <td>4.366027e-17</td>\n",
              "      <td>1.470239e-18</td>\n",
              "      <td>7.401076e-19</td>\n",
              "    </tr>\n",
              "    <tr>\n",
              "      <th>3</th>\n",
              "      <td>944692</td>\n",
              "      <td>559417</td>\n",
              "      <td>1</td>\n",
              "      <td>8</td>\n",
              "      <td>4</td>\n",
              "      <td>4</td>\n",
              "      <td>0</td>\n",
              "      <td>0</td>\n",
              "      <td>0</td>\n",
              "      <td>0</td>\n",
              "      <td>0.000000</td>\n",
              "      <td>0.000000</td>\n",
              "      <td>0.000000</td>\n",
              "      <td>0.000000</td>\n",
              "      <td>0</td>\n",
              "      <td>1</td>\n",
              "      <td>7</td>\n",
              "      <td>0.447214</td>\n",
              "      <td>0.447214</td>\n",
              "      <td>0.894427</td>\n",
              "      <td>0.200000</td>\n",
              "      <td>1.341641</td>\n",
              "      <td>1.341641</td>\n",
              "      <td>4.157247e-07</td>\n",
              "      <td>4.305786e-07</td>\n",
              "      <td>0.000765</td>\n",
              "      <td>0.000747</td>\n",
              "      <td>4.139790e-17</td>\n",
              "      <td>-0.000000e+00</td>\n",
              "      <td>1.300593e-11</td>\n",
              "      <td>2.189555e-15</td>\n",
              "    </tr>\n",
              "    <tr>\n",
              "      <th>4</th>\n",
              "      <td>1814537</td>\n",
              "      <td>613441</td>\n",
              "      <td>1</td>\n",
              "      <td>9</td>\n",
              "      <td>24</td>\n",
              "      <td>18</td>\n",
              "      <td>21</td>\n",
              "      <td>0</td>\n",
              "      <td>0</td>\n",
              "      <td>0</td>\n",
              "      <td>0.000000</td>\n",
              "      <td>0.000000</td>\n",
              "      <td>0.000000</td>\n",
              "      <td>0.000000</td>\n",
              "      <td>1</td>\n",
              "      <td>1</td>\n",
              "      <td>5</td>\n",
              "      <td>0.229416</td>\n",
              "      <td>0.200000</td>\n",
              "      <td>0.429416</td>\n",
              "      <td>0.045883</td>\n",
              "      <td>0.658831</td>\n",
              "      <td>0.629416</td>\n",
              "      <td>6.228469e-07</td>\n",
              "      <td>2.121543e-06</td>\n",
              "      <td>0.000766</td>\n",
              "      <td>0.000804</td>\n",
              "      <td>4.023255e-15</td>\n",
              "      <td>4.931377e-14</td>\n",
              "      <td>1.272032e-15</td>\n",
              "      <td>7.589346e-15</td>\n",
              "    </tr>\n",
              "  </tbody>\n",
              "</table>\n",
              "</div>"
            ],
            "text/plain": [
              "   source_node  destination_node  ...  authorities_s  authorities_d\n",
              "0       273084           1505602  ...   9.226338e-16   2.231877e-15\n",
              "1      1814022           1791177  ...  -4.228372e-25   1.769218e-23\n",
              "2       826445           1364513  ...   1.470239e-18   7.401076e-19\n",
              "3       944692            559417  ...   1.300593e-11   2.189555e-15\n",
              "4      1814537            613441  ...   1.272032e-15   7.589346e-15\n",
              "\n",
              "[5 rows x 31 columns]"
            ]
          },
          "execution_count": 14,
          "metadata": {},
          "output_type": "execute_result"
        }
      ]
    },
    {
      "cell_type": "markdown",
      "metadata": {
        "id": "nQfX6DINaYUg"
      },
      "source": [
        "## 4.4 Adding new set of features\n",
        "\n",
        "__we will create each of these features for both train and test data points__\n"
      ]
    },
    {
      "cell_type": "markdown",
      "metadata": {
        "id": "EeY5ccBlR1nS"
      },
      "source": [
        "### 4.4.1 SVD features for both source and destination\n"
      ]
    },
    {
      "cell_type": "code",
      "metadata": {
        "id": "j4N3T64ol-TU"
      },
      "source": [
        "def svd(x, S):\n",
        "    try:\n",
        "        z = sadj_dict[x]\n",
        "        return S[z]\n",
        "    except:\n",
        "        return [0,0,0,0,0,0]"
      ],
      "execution_count": null,
      "outputs": []
    },
    {
      "cell_type": "code",
      "metadata": {
        "id": "-Ig1W3o65Sjz"
      },
      "source": [
        "#for svd features to get feature vector creating a dict node val and inedx in svd vector\n",
        "sadj_col = sorted(train_graph.nodes())\n",
        "sadj_dict = { val:idx for idx,val in enumerate(sadj_col)}"
      ],
      "execution_count": null,
      "outputs": []
    },
    {
      "cell_type": "code",
      "metadata": {
        "id": "61afu7Ij6GPg"
      },
      "source": [
        "# creating the adjacency matrix\n",
        "Adj = nx.adjacency_matrix(train_graph,nodelist=sorted(train_graph.nodes())).asfptype()"
      ],
      "execution_count": null,
      "outputs": []
    },
    {
      "cell_type": "code",
      "metadata": {
        "colab": {
          "base_uri": "https://localhost:8080/"
        },
        "id": "6g40EUA36esO",
        "outputId": "d0cd4173-f719-4de2-ba46-c145adea9286"
      },
      "source": [
        "U, s, V = svds(Adj, k = 6)\n",
        "print('Adjacency matrix Shape',Adj.shape)\n",
        "print('U Shape',U.shape)\n",
        "print('V Shape',V.shape)\n",
        "print('s Shape',s.shape)"
      ],
      "execution_count": null,
      "outputs": [
        {
          "name": "stdout",
          "output_type": "stream",
          "text": [
            "Adjacency matrix Shape (1780722, 1780722)\n",
            "U Shape (1780722, 6)\n",
            "V Shape (6, 1780722)\n",
            "s Shape (6,)\n"
          ]
        }
      ]
    },
    {
      "cell_type": "code",
      "metadata": {
        "id": "0kuAU0pu66uF"
      },
      "source": [
        "if not os.path.isfile('/content/drive/MyDrive/data_raw/storage_sample_stage4.h5'):\n",
        "    df_final_train[['svd_u_s_1', 'svd_u_s_2','svd_u_s_3', 'svd_u_s_4', 'svd_u_s_5', 'svd_u_s_6']] = \\\n",
        "    df_final_train.source_node.apply(lambda x: svd(x, U)).apply(pd.Series)\n",
        "\n",
        "    df_final_train[['svd_u_d_1', 'svd_u_d_2', 'svd_u_d_3', 'svd_u_d_4', 'svd_u_d_5','svd_u_d_6']] = \\\n",
        "    df_final_train.destination_node.apply(lambda x: svd(x, U)).apply(pd.Series)\n",
        "    #===================================================================================================\n",
        "\n",
        "    df_final_train[['svd_v_s_1','svd_v_s_2', 'svd_v_s_3', 'svd_v_s_4', 'svd_v_s_5', 'svd_v_s_6',]] = \\\n",
        "    df_final_train.source_node.apply(lambda x: svd(x, V.T)).apply(pd.Series)\n",
        "\n",
        "    df_final_train[['svd_v_d_1', 'svd_v_d_2', 'svd_v_d_3', 'svd_v_d_4', 'svd_v_d_5','svd_v_d_6']] = \\\n",
        "    df_final_train.destination_node.apply(lambda x: svd(x, V.T)).apply(pd.Series)\n",
        "    #===================================================================================================\n",
        "\n",
        "    df_final_test[['svd_u_s_1', 'svd_u_s_2','svd_u_s_3', 'svd_u_s_4', 'svd_u_s_5', 'svd_u_s_6']] = \\\n",
        "    df_final_test.source_node.apply(lambda x: svd(x, U)).apply(pd.Series)\n",
        "\n",
        "    df_final_test[['svd_u_d_1', 'svd_u_d_2', 'svd_u_d_3', 'svd_u_d_4', 'svd_u_d_5','svd_u_d_6']] = \\\n",
        "    df_final_test.destination_node.apply(lambda x: svd(x, U)).apply(pd.Series)\n",
        "\n",
        "    #===================================================================================================\n",
        "\n",
        "    df_final_test[['svd_v_s_1','svd_v_s_2', 'svd_v_s_3', 'svd_v_s_4', 'svd_v_s_5', 'svd_v_s_6',]] = \\\n",
        "    df_final_test.source_node.apply(lambda x: svd(x, V.T)).apply(pd.Series)\n",
        "\n",
        "    df_final_test[['svd_v_d_1', 'svd_v_d_2', 'svd_v_d_3', 'svd_v_d_4', 'svd_v_d_5','svd_v_d_6']] = \\\n",
        "    df_final_test.destination_node.apply(lambda x: svd(x, V.T)).apply(pd.Series)\n",
        "    #===================================================================================================\n",
        "\n",
        "    hdf = HDFStore('/content/drive/MyDrive/data_raw/storage_sample_stage4.h5')\n",
        "    hdf.put('/content/drive/MyDrive/data_raw/train_df',df_final_train, format='table', data_columns=True)\n",
        "    hdf.put('/content/drive/MyDrive/data_raw/test_df',df_final_test, format='table', data_columns=True)\n",
        "    hdf.close()"
      ],
      "execution_count": null,
      "outputs": []
    },
    {
      "cell_type": "code",
      "metadata": {
        "colab": {
          "base_uri": "https://localhost:8080/",
          "height": 307
        },
        "id": "3nRZTDXp8aQU",
        "outputId": "cfa414de-ac93-481c-9562-3fff1ff02184"
      },
      "source": [
        "df_final_train.head(5)"
      ],
      "execution_count": null,
      "outputs": [
        {
          "data": {
            "text/html": [
              "<div>\n",
              "<style scoped>\n",
              "    .dataframe tbody tr th:only-of-type {\n",
              "        vertical-align: middle;\n",
              "    }\n",
              "\n",
              "    .dataframe tbody tr th {\n",
              "        vertical-align: top;\n",
              "    }\n",
              "\n",
              "    .dataframe thead th {\n",
              "        text-align: right;\n",
              "    }\n",
              "</style>\n",
              "<table border=\"1\" class=\"dataframe\">\n",
              "  <thead>\n",
              "    <tr style=\"text-align: right;\">\n",
              "      <th></th>\n",
              "      <th>source_node</th>\n",
              "      <th>destination_node</th>\n",
              "      <th>indicator_link</th>\n",
              "      <th>num_followers_s</th>\n",
              "      <th>num_followers_d</th>\n",
              "      <th>num_followees_s</th>\n",
              "      <th>num_followees_d</th>\n",
              "      <th>inter_followers</th>\n",
              "      <th>inter_followees</th>\n",
              "      <th>jaccard_followers</th>\n",
              "      <th>jaccard_followees</th>\n",
              "      <th>cosine_followers</th>\n",
              "      <th>cosine_followees</th>\n",
              "      <th>adar_index</th>\n",
              "      <th>follows_back</th>\n",
              "      <th>same_comp</th>\n",
              "      <th>shortest_path</th>\n",
              "      <th>weight_in</th>\n",
              "      <th>weight_out</th>\n",
              "      <th>weight_f1</th>\n",
              "      <th>weight_f2</th>\n",
              "      <th>weight_f3</th>\n",
              "      <th>weight_f4</th>\n",
              "      <th>page_rank_s</th>\n",
              "      <th>page_rank_d</th>\n",
              "      <th>katz_s</th>\n",
              "      <th>katz_d</th>\n",
              "      <th>hubs_s</th>\n",
              "      <th>hubs_d</th>\n",
              "      <th>authorities_s</th>\n",
              "      <th>authorities_d</th>\n",
              "      <th>svd_u_s_1</th>\n",
              "      <th>svd_u_s_2</th>\n",
              "      <th>svd_u_s_3</th>\n",
              "      <th>svd_u_s_4</th>\n",
              "      <th>svd_u_s_5</th>\n",
              "      <th>svd_u_s_6</th>\n",
              "      <th>svd_u_d_1</th>\n",
              "      <th>svd_u_d_2</th>\n",
              "      <th>svd_u_d_3</th>\n",
              "      <th>svd_u_d_4</th>\n",
              "      <th>svd_u_d_5</th>\n",
              "      <th>svd_u_d_6</th>\n",
              "      <th>svd_v_s_1</th>\n",
              "      <th>svd_v_s_2</th>\n",
              "      <th>svd_v_s_3</th>\n",
              "      <th>svd_v_s_4</th>\n",
              "      <th>svd_v_s_5</th>\n",
              "      <th>svd_v_s_6</th>\n",
              "      <th>svd_v_d_1</th>\n",
              "      <th>svd_v_d_2</th>\n",
              "      <th>svd_v_d_3</th>\n",
              "      <th>svd_v_d_4</th>\n",
              "      <th>svd_v_d_5</th>\n",
              "      <th>svd_v_d_6</th>\n",
              "    </tr>\n",
              "  </thead>\n",
              "  <tbody>\n",
              "    <tr>\n",
              "      <th>0</th>\n",
              "      <td>273084</td>\n",
              "      <td>1505602</td>\n",
              "      <td>1</td>\n",
              "      <td>11</td>\n",
              "      <td>15</td>\n",
              "      <td>6</td>\n",
              "      <td>8</td>\n",
              "      <td>0</td>\n",
              "      <td>0</td>\n",
              "      <td>0</td>\n",
              "      <td>0.000000</td>\n",
              "      <td>0.000000</td>\n",
              "      <td>0.000000</td>\n",
              "      <td>0.000000</td>\n",
              "      <td>0</td>\n",
              "      <td>1</td>\n",
              "      <td>4</td>\n",
              "      <td>0.377964</td>\n",
              "      <td>0.250000</td>\n",
              "      <td>0.627964</td>\n",
              "      <td>0.094491</td>\n",
              "      <td>1.005929</td>\n",
              "      <td>0.877964</td>\n",
              "      <td>2.045290e-06</td>\n",
              "      <td>3.459963e-07</td>\n",
              "      <td>0.000773</td>\n",
              "      <td>0.000756</td>\n",
              "      <td>1.943132e-13</td>\n",
              "      <td>1.941103e-13</td>\n",
              "      <td>9.226338e-16</td>\n",
              "      <td>2.231877e-15</td>\n",
              "      <td>-1.666334e-13</td>\n",
              "      <td>4.613820e-13</td>\n",
              "      <td>1.043041e-05</td>\n",
              "      <td>6.678033e-13</td>\n",
              "      <td>2.451105e-13</td>\n",
              "      <td>3.584945e-12</td>\n",
              "      <td>-2.038018e-11</td>\n",
              "      <td>5.397910e-13</td>\n",
              "      <td>1.068943e-06</td>\n",
              "      <td>1.192461e-12</td>\n",
              "      <td>2.279488e-12</td>\n",
              "      <td>3.581202e-12</td>\n",
              "      <td>-7.216151e-13</td>\n",
              "      <td>3.926263e-13</td>\n",
              "      <td>1.983700e-06</td>\n",
              "      <td>1.545089e-13</td>\n",
              "      <td>8.108438e-13</td>\n",
              "      <td>1.719704e-14</td>\n",
              "      <td>-1.355369e-12</td>\n",
              "      <td>4.675320e-13</td>\n",
              "      <td>1.128586e-06</td>\n",
              "      <td>6.616718e-14</td>\n",
              "      <td>9.771079e-13</td>\n",
              "      <td>4.160011e-14</td>\n",
              "    </tr>\n",
              "    <tr>\n",
              "      <th>1</th>\n",
              "      <td>1814022</td>\n",
              "      <td>1791177</td>\n",
              "      <td>1</td>\n",
              "      <td>1</td>\n",
              "      <td>1</td>\n",
              "      <td>2</td>\n",
              "      <td>4</td>\n",
              "      <td>0</td>\n",
              "      <td>0</td>\n",
              "      <td>0</td>\n",
              "      <td>0.000000</td>\n",
              "      <td>0.000000</td>\n",
              "      <td>0.000000</td>\n",
              "      <td>0.000000</td>\n",
              "      <td>1</td>\n",
              "      <td>1</td>\n",
              "      <td>-1</td>\n",
              "      <td>0.707107</td>\n",
              "      <td>1.000000</td>\n",
              "      <td>1.707107</td>\n",
              "      <td>0.707107</td>\n",
              "      <td>2.414214</td>\n",
              "      <td>2.707107</td>\n",
              "      <td>2.848986e-07</td>\n",
              "      <td>8.815667e-07</td>\n",
              "      <td>0.000735</td>\n",
              "      <td>0.000739</td>\n",
              "      <td>1.269882e-25</td>\n",
              "      <td>5.132992e-22</td>\n",
              "      <td>-4.228372e-25</td>\n",
              "      <td>1.769218e-23</td>\n",
              "      <td>2.664749e-20</td>\n",
              "      <td>-1.157780e-20</td>\n",
              "      <td>5.054768e-21</td>\n",
              "      <td>-4.121226e-21</td>\n",
              "      <td>-6.844900e-21</td>\n",
              "      <td>-2.419884e-21</td>\n",
              "      <td>-2.345005e-19</td>\n",
              "      <td>3.794328e-19</td>\n",
              "      <td>1.201924e-15</td>\n",
              "      <td>1.979214e-18</td>\n",
              "      <td>2.475750e-19</td>\n",
              "      <td>1.240339e-19</td>\n",
              "      <td>-2.375419e-21</td>\n",
              "      <td>3.780707e-21</td>\n",
              "      <td>1.166711e-17</td>\n",
              "      <td>1.891645e-20</td>\n",
              "      <td>1.978105e-21</td>\n",
              "      <td>8.812075e-22</td>\n",
              "      <td>4.100889e-22</td>\n",
              "      <td>-1.109874e-22</td>\n",
              "      <td>-7.564718e-22</td>\n",
              "      <td>1.294405e-22</td>\n",
              "      <td>-1.703874e-21</td>\n",
              "      <td>-1.242423e-21</td>\n",
              "    </tr>\n",
              "    <tr>\n",
              "      <th>2</th>\n",
              "      <td>826445</td>\n",
              "      <td>1364513</td>\n",
              "      <td>1</td>\n",
              "      <td>9</td>\n",
              "      <td>11</td>\n",
              "      <td>7</td>\n",
              "      <td>12</td>\n",
              "      <td>5</td>\n",
              "      <td>8</td>\n",
              "      <td>0</td>\n",
              "      <td>0.533333</td>\n",
              "      <td>0.238095</td>\n",
              "      <td>0.696311</td>\n",
              "      <td>6.349752</td>\n",
              "      <td>1</td>\n",
              "      <td>1</td>\n",
              "      <td>2</td>\n",
              "      <td>0.353553</td>\n",
              "      <td>0.288675</td>\n",
              "      <td>0.642229</td>\n",
              "      <td>0.102062</td>\n",
              "      <td>0.995782</td>\n",
              "      <td>0.930904</td>\n",
              "      <td>4.125339e-07</td>\n",
              "      <td>3.670567e-07</td>\n",
              "      <td>0.000767</td>\n",
              "      <td>0.000759</td>\n",
              "      <td>5.111827e-18</td>\n",
              "      <td>4.366027e-17</td>\n",
              "      <td>1.470239e-18</td>\n",
              "      <td>7.401076e-19</td>\n",
              "      <td>-1.496567e-15</td>\n",
              "      <td>1.305161e-09</td>\n",
              "      <td>6.575124e-12</td>\n",
              "      <td>1.439959e-16</td>\n",
              "      <td>1.157901e-11</td>\n",
              "      <td>9.443999e-17</td>\n",
              "      <td>-1.093941e-14</td>\n",
              "      <td>1.904798e-09</td>\n",
              "      <td>1.301123e-11</td>\n",
              "      <td>3.456752e-16</td>\n",
              "      <td>1.169048e-11</td>\n",
              "      <td>8.056866e-16</td>\n",
              "      <td>-9.158861e-16</td>\n",
              "      <td>3.320511e-09</td>\n",
              "      <td>1.542778e-11</td>\n",
              "      <td>1.787406e-16</td>\n",
              "      <td>1.205198e-12</td>\n",
              "      <td>2.740117e-17</td>\n",
              "      <td>-5.886752e-16</td>\n",
              "      <td>1.802078e-09</td>\n",
              "      <td>2.204444e-11</td>\n",
              "      <td>1.555496e-16</td>\n",
              "      <td>1.273806e-12</td>\n",
              "      <td>1.378817e-17</td>\n",
              "    </tr>\n",
              "    <tr>\n",
              "      <th>3</th>\n",
              "      <td>944692</td>\n",
              "      <td>559417</td>\n",
              "      <td>1</td>\n",
              "      <td>8</td>\n",
              "      <td>4</td>\n",
              "      <td>4</td>\n",
              "      <td>0</td>\n",
              "      <td>0</td>\n",
              "      <td>0</td>\n",
              "      <td>0</td>\n",
              "      <td>0.000000</td>\n",
              "      <td>0.000000</td>\n",
              "      <td>0.000000</td>\n",
              "      <td>0.000000</td>\n",
              "      <td>0</td>\n",
              "      <td>1</td>\n",
              "      <td>7</td>\n",
              "      <td>0.447214</td>\n",
              "      <td>0.447214</td>\n",
              "      <td>0.894427</td>\n",
              "      <td>0.200000</td>\n",
              "      <td>1.341641</td>\n",
              "      <td>1.341641</td>\n",
              "      <td>4.157247e-07</td>\n",
              "      <td>4.305786e-07</td>\n",
              "      <td>0.000765</td>\n",
              "      <td>0.000747</td>\n",
              "      <td>4.139790e-17</td>\n",
              "      <td>-0.000000e+00</td>\n",
              "      <td>1.300593e-11</td>\n",
              "      <td>2.189555e-15</td>\n",
              "      <td>-2.715901e-13</td>\n",
              "      <td>1.596690e-11</td>\n",
              "      <td>6.804195e-11</td>\n",
              "      <td>3.135976e-14</td>\n",
              "      <td>3.712109e-13</td>\n",
              "      <td>7.639383e-16</td>\n",
              "      <td>-5.758625e-20</td>\n",
              "      <td>1.193430e-20</td>\n",
              "      <td>-1.261849e-19</td>\n",
              "      <td>4.548044e-20</td>\n",
              "      <td>-2.548690e-19</td>\n",
              "      <td>-2.305486e-19</td>\n",
              "      <td>-1.760238e-11</td>\n",
              "      <td>3.160858e-10</td>\n",
              "      <td>8.484276e-08</td>\n",
              "      <td>4.211469e-10</td>\n",
              "      <td>3.800009e-10</td>\n",
              "      <td>2.424184e-10</td>\n",
              "      <td>-5.288898e-13</td>\n",
              "      <td>5.425534e-13</td>\n",
              "      <td>1.850888e-11</td>\n",
              "      <td>1.384282e-12</td>\n",
              "      <td>4.168514e-12</td>\n",
              "      <td>4.081128e-14</td>\n",
              "    </tr>\n",
              "    <tr>\n",
              "      <th>4</th>\n",
              "      <td>1814537</td>\n",
              "      <td>613441</td>\n",
              "      <td>1</td>\n",
              "      <td>9</td>\n",
              "      <td>24</td>\n",
              "      <td>18</td>\n",
              "      <td>21</td>\n",
              "      <td>0</td>\n",
              "      <td>0</td>\n",
              "      <td>0</td>\n",
              "      <td>0.000000</td>\n",
              "      <td>0.000000</td>\n",
              "      <td>0.000000</td>\n",
              "      <td>0.000000</td>\n",
              "      <td>1</td>\n",
              "      <td>1</td>\n",
              "      <td>5</td>\n",
              "      <td>0.229416</td>\n",
              "      <td>0.200000</td>\n",
              "      <td>0.429416</td>\n",
              "      <td>0.045883</td>\n",
              "      <td>0.658831</td>\n",
              "      <td>0.629416</td>\n",
              "      <td>6.228469e-07</td>\n",
              "      <td>2.121543e-06</td>\n",
              "      <td>0.000766</td>\n",
              "      <td>0.000804</td>\n",
              "      <td>4.023255e-15</td>\n",
              "      <td>4.931377e-14</td>\n",
              "      <td>1.272032e-15</td>\n",
              "      <td>7.589346e-15</td>\n",
              "      <td>-1.122041e-10</td>\n",
              "      <td>1.215834e-10</td>\n",
              "      <td>5.107618e-10</td>\n",
              "      <td>1.554413e-12</td>\n",
              "      <td>1.532345e-11</td>\n",
              "      <td>7.422604e-14</td>\n",
              "      <td>-1.391821e-10</td>\n",
              "      <td>2.144762e-11</td>\n",
              "      <td>2.764876e-10</td>\n",
              "      <td>3.858866e-11</td>\n",
              "      <td>4.866720e-11</td>\n",
              "      <td>9.098049e-13</td>\n",
              "      <td>-4.543506e-12</td>\n",
              "      <td>1.113034e-11</td>\n",
              "      <td>9.458169e-11</td>\n",
              "      <td>8.173488e-13</td>\n",
              "      <td>1.271341e-12</td>\n",
              "      <td>2.370950e-14</td>\n",
              "      <td>-1.350728e-11</td>\n",
              "      <td>7.361995e-12</td>\n",
              "      <td>9.126301e-10</td>\n",
              "      <td>3.804457e-12</td>\n",
              "      <td>7.956920e-12</td>\n",
              "      <td>1.414584e-13</td>\n",
              "    </tr>\n",
              "  </tbody>\n",
              "</table>\n",
              "</div>"
            ],
            "text/plain": [
              "   source_node  destination_node  ...     svd_v_d_5     svd_v_d_6\n",
              "0       273084           1505602  ...  9.771079e-13  4.160011e-14\n",
              "1      1814022           1791177  ... -1.703874e-21 -1.242423e-21\n",
              "2       826445           1364513  ...  1.273806e-12  1.378817e-17\n",
              "3       944692            559417  ...  4.168514e-12  4.081128e-14\n",
              "4      1814537            613441  ...  7.956920e-12  1.414584e-13\n",
              "\n",
              "[5 rows x 55 columns]"
            ]
          },
          "execution_count": 32,
          "metadata": {},
          "output_type": "execute_result"
        }
      ]
    },
    {
      "cell_type": "markdown",
      "metadata": {
        "id": "RmuycxFCSCOO"
      },
      "source": [
        "### 4.4.2 Preferential Attachment\n",
        "\n",
        "Preferential Attachment: Users with many friends tend to create more connections in the future. This is due to the fact that in some social networks, like in finance, the rich get richer. We estimate how ”rich” our two vertices are by calculating the multiplication between the number of friends (|Γ(x)|) or followers each vertex has. It may be noted that the similarity index does not require any node neighbor information; therefore, this similarity index has the lowest computational complexity.\n",
        "\n",
        "http://be.amazd.com/link-prediction/"
      ]
    },
    {
      "cell_type": "code",
      "metadata": {
        "id": "_AHEwkBHSPi2"
      },
      "source": [
        "df_final_train['Preferential_Attachment'] = df_final_train.num_followers_s * df_final_train.num_followers_d\n",
        "df_final_test['Preferential_Attachment'] = df_final_test.num_followers_s * df_final_test.num_followers_d\n",
        "\n",
        "\n",
        "hdf = HDFStore('/content/drive/MyDrive/data_raw/storage_sample_stage4.h5')\n",
        "hdf.put('/content/drive/MyDrive/data_raw/train_df',df_final_train, format='table', data_columns=True)\n",
        "hdf.put('/content/drive/MyDrive/data_raw/test_df',df_final_test, format='table', data_columns=True)\n",
        "hdf.close()"
      ],
      "execution_count": null,
      "outputs": []
    },
    {
      "cell_type": "code",
      "metadata": {
        "colab": {
          "base_uri": "https://localhost:8080/",
          "height": 307
        },
        "id": "zHeHzbgKT7MX",
        "outputId": "443a2844-31b9-41fe-ca2e-ce850a277860"
      },
      "source": [
        "df_final_train.head()"
      ],
      "execution_count": null,
      "outputs": [
        {
          "data": {
            "text/html": [
              "<div>\n",
              "<style scoped>\n",
              "    .dataframe tbody tr th:only-of-type {\n",
              "        vertical-align: middle;\n",
              "    }\n",
              "\n",
              "    .dataframe tbody tr th {\n",
              "        vertical-align: top;\n",
              "    }\n",
              "\n",
              "    .dataframe thead th {\n",
              "        text-align: right;\n",
              "    }\n",
              "</style>\n",
              "<table border=\"1\" class=\"dataframe\">\n",
              "  <thead>\n",
              "    <tr style=\"text-align: right;\">\n",
              "      <th></th>\n",
              "      <th>source_node</th>\n",
              "      <th>destination_node</th>\n",
              "      <th>indicator_link</th>\n",
              "      <th>num_followers_s</th>\n",
              "      <th>num_followers_d</th>\n",
              "      <th>num_followees_s</th>\n",
              "      <th>num_followees_d</th>\n",
              "      <th>inter_followers</th>\n",
              "      <th>inter_followees</th>\n",
              "      <th>jaccard_followers</th>\n",
              "      <th>jaccard_followees</th>\n",
              "      <th>cosine_followers</th>\n",
              "      <th>cosine_followees</th>\n",
              "      <th>adar_index</th>\n",
              "      <th>follows_back</th>\n",
              "      <th>same_comp</th>\n",
              "      <th>shortest_path</th>\n",
              "      <th>weight_in</th>\n",
              "      <th>weight_out</th>\n",
              "      <th>weight_f1</th>\n",
              "      <th>weight_f2</th>\n",
              "      <th>weight_f3</th>\n",
              "      <th>weight_f4</th>\n",
              "      <th>page_rank_s</th>\n",
              "      <th>page_rank_d</th>\n",
              "      <th>katz_s</th>\n",
              "      <th>katz_d</th>\n",
              "      <th>hubs_s</th>\n",
              "      <th>hubs_d</th>\n",
              "      <th>authorities_s</th>\n",
              "      <th>authorities_d</th>\n",
              "      <th>svd_u_s_1</th>\n",
              "      <th>svd_u_s_2</th>\n",
              "      <th>svd_u_s_3</th>\n",
              "      <th>svd_u_s_4</th>\n",
              "      <th>svd_u_s_5</th>\n",
              "      <th>svd_u_s_6</th>\n",
              "      <th>svd_u_d_1</th>\n",
              "      <th>svd_u_d_2</th>\n",
              "      <th>svd_u_d_3</th>\n",
              "      <th>svd_u_d_4</th>\n",
              "      <th>svd_u_d_5</th>\n",
              "      <th>svd_u_d_6</th>\n",
              "      <th>svd_v_s_1</th>\n",
              "      <th>svd_v_s_2</th>\n",
              "      <th>svd_v_s_3</th>\n",
              "      <th>svd_v_s_4</th>\n",
              "      <th>svd_v_s_5</th>\n",
              "      <th>svd_v_s_6</th>\n",
              "      <th>svd_v_d_1</th>\n",
              "      <th>svd_v_d_2</th>\n",
              "      <th>svd_v_d_3</th>\n",
              "      <th>svd_v_d_4</th>\n",
              "      <th>svd_v_d_5</th>\n",
              "      <th>svd_v_d_6</th>\n",
              "      <th>Preferential_Attachment</th>\n",
              "    </tr>\n",
              "  </thead>\n",
              "  <tbody>\n",
              "    <tr>\n",
              "      <th>0</th>\n",
              "      <td>273084</td>\n",
              "      <td>1505602</td>\n",
              "      <td>1</td>\n",
              "      <td>11</td>\n",
              "      <td>15</td>\n",
              "      <td>6</td>\n",
              "      <td>8</td>\n",
              "      <td>0</td>\n",
              "      <td>0</td>\n",
              "      <td>0</td>\n",
              "      <td>0.000000</td>\n",
              "      <td>0.000000</td>\n",
              "      <td>0.000000</td>\n",
              "      <td>0.000000</td>\n",
              "      <td>0</td>\n",
              "      <td>1</td>\n",
              "      <td>4</td>\n",
              "      <td>0.377964</td>\n",
              "      <td>0.250000</td>\n",
              "      <td>0.627964</td>\n",
              "      <td>0.094491</td>\n",
              "      <td>1.005929</td>\n",
              "      <td>0.877964</td>\n",
              "      <td>2.045290e-06</td>\n",
              "      <td>3.459963e-07</td>\n",
              "      <td>0.000773</td>\n",
              "      <td>0.000756</td>\n",
              "      <td>1.943132e-13</td>\n",
              "      <td>1.941103e-13</td>\n",
              "      <td>9.226338e-16</td>\n",
              "      <td>2.231877e-15</td>\n",
              "      <td>-1.666334e-13</td>\n",
              "      <td>4.613820e-13</td>\n",
              "      <td>1.043041e-05</td>\n",
              "      <td>6.678033e-13</td>\n",
              "      <td>2.451105e-13</td>\n",
              "      <td>3.584945e-12</td>\n",
              "      <td>-2.038018e-11</td>\n",
              "      <td>5.397910e-13</td>\n",
              "      <td>1.068943e-06</td>\n",
              "      <td>1.192461e-12</td>\n",
              "      <td>2.279488e-12</td>\n",
              "      <td>3.581202e-12</td>\n",
              "      <td>-7.216151e-13</td>\n",
              "      <td>3.926263e-13</td>\n",
              "      <td>1.983700e-06</td>\n",
              "      <td>1.545089e-13</td>\n",
              "      <td>8.108438e-13</td>\n",
              "      <td>1.719704e-14</td>\n",
              "      <td>-1.355369e-12</td>\n",
              "      <td>4.675320e-13</td>\n",
              "      <td>1.128586e-06</td>\n",
              "      <td>6.616718e-14</td>\n",
              "      <td>9.771079e-13</td>\n",
              "      <td>4.160011e-14</td>\n",
              "      <td>165</td>\n",
              "    </tr>\n",
              "    <tr>\n",
              "      <th>1</th>\n",
              "      <td>1814022</td>\n",
              "      <td>1791177</td>\n",
              "      <td>1</td>\n",
              "      <td>1</td>\n",
              "      <td>1</td>\n",
              "      <td>2</td>\n",
              "      <td>4</td>\n",
              "      <td>0</td>\n",
              "      <td>0</td>\n",
              "      <td>0</td>\n",
              "      <td>0.000000</td>\n",
              "      <td>0.000000</td>\n",
              "      <td>0.000000</td>\n",
              "      <td>0.000000</td>\n",
              "      <td>1</td>\n",
              "      <td>1</td>\n",
              "      <td>-1</td>\n",
              "      <td>0.707107</td>\n",
              "      <td>1.000000</td>\n",
              "      <td>1.707107</td>\n",
              "      <td>0.707107</td>\n",
              "      <td>2.414214</td>\n",
              "      <td>2.707107</td>\n",
              "      <td>2.848986e-07</td>\n",
              "      <td>8.815667e-07</td>\n",
              "      <td>0.000735</td>\n",
              "      <td>0.000739</td>\n",
              "      <td>1.269882e-25</td>\n",
              "      <td>5.132992e-22</td>\n",
              "      <td>-4.228372e-25</td>\n",
              "      <td>1.769218e-23</td>\n",
              "      <td>2.664749e-20</td>\n",
              "      <td>-1.157780e-20</td>\n",
              "      <td>5.054768e-21</td>\n",
              "      <td>-4.121226e-21</td>\n",
              "      <td>-6.844900e-21</td>\n",
              "      <td>-2.419884e-21</td>\n",
              "      <td>-2.345005e-19</td>\n",
              "      <td>3.794328e-19</td>\n",
              "      <td>1.201924e-15</td>\n",
              "      <td>1.979214e-18</td>\n",
              "      <td>2.475750e-19</td>\n",
              "      <td>1.240339e-19</td>\n",
              "      <td>-2.375419e-21</td>\n",
              "      <td>3.780707e-21</td>\n",
              "      <td>1.166711e-17</td>\n",
              "      <td>1.891645e-20</td>\n",
              "      <td>1.978105e-21</td>\n",
              "      <td>8.812075e-22</td>\n",
              "      <td>4.100889e-22</td>\n",
              "      <td>-1.109874e-22</td>\n",
              "      <td>-7.564718e-22</td>\n",
              "      <td>1.294405e-22</td>\n",
              "      <td>-1.703874e-21</td>\n",
              "      <td>-1.242423e-21</td>\n",
              "      <td>1</td>\n",
              "    </tr>\n",
              "    <tr>\n",
              "      <th>2</th>\n",
              "      <td>826445</td>\n",
              "      <td>1364513</td>\n",
              "      <td>1</td>\n",
              "      <td>9</td>\n",
              "      <td>11</td>\n",
              "      <td>7</td>\n",
              "      <td>12</td>\n",
              "      <td>5</td>\n",
              "      <td>8</td>\n",
              "      <td>0</td>\n",
              "      <td>0.533333</td>\n",
              "      <td>0.238095</td>\n",
              "      <td>0.696311</td>\n",
              "      <td>6.349752</td>\n",
              "      <td>1</td>\n",
              "      <td>1</td>\n",
              "      <td>2</td>\n",
              "      <td>0.353553</td>\n",
              "      <td>0.288675</td>\n",
              "      <td>0.642229</td>\n",
              "      <td>0.102062</td>\n",
              "      <td>0.995782</td>\n",
              "      <td>0.930904</td>\n",
              "      <td>4.125339e-07</td>\n",
              "      <td>3.670567e-07</td>\n",
              "      <td>0.000767</td>\n",
              "      <td>0.000759</td>\n",
              "      <td>5.111827e-18</td>\n",
              "      <td>4.366027e-17</td>\n",
              "      <td>1.470239e-18</td>\n",
              "      <td>7.401076e-19</td>\n",
              "      <td>-1.496567e-15</td>\n",
              "      <td>1.305161e-09</td>\n",
              "      <td>6.575124e-12</td>\n",
              "      <td>1.439959e-16</td>\n",
              "      <td>1.157901e-11</td>\n",
              "      <td>9.443999e-17</td>\n",
              "      <td>-1.093941e-14</td>\n",
              "      <td>1.904798e-09</td>\n",
              "      <td>1.301123e-11</td>\n",
              "      <td>3.456752e-16</td>\n",
              "      <td>1.169048e-11</td>\n",
              "      <td>8.056866e-16</td>\n",
              "      <td>-9.158861e-16</td>\n",
              "      <td>3.320511e-09</td>\n",
              "      <td>1.542778e-11</td>\n",
              "      <td>1.787406e-16</td>\n",
              "      <td>1.205198e-12</td>\n",
              "      <td>2.740117e-17</td>\n",
              "      <td>-5.886752e-16</td>\n",
              "      <td>1.802078e-09</td>\n",
              "      <td>2.204444e-11</td>\n",
              "      <td>1.555496e-16</td>\n",
              "      <td>1.273806e-12</td>\n",
              "      <td>1.378817e-17</td>\n",
              "      <td>99</td>\n",
              "    </tr>\n",
              "    <tr>\n",
              "      <th>3</th>\n",
              "      <td>944692</td>\n",
              "      <td>559417</td>\n",
              "      <td>1</td>\n",
              "      <td>8</td>\n",
              "      <td>4</td>\n",
              "      <td>4</td>\n",
              "      <td>0</td>\n",
              "      <td>0</td>\n",
              "      <td>0</td>\n",
              "      <td>0</td>\n",
              "      <td>0.000000</td>\n",
              "      <td>0.000000</td>\n",
              "      <td>0.000000</td>\n",
              "      <td>0.000000</td>\n",
              "      <td>0</td>\n",
              "      <td>1</td>\n",
              "      <td>7</td>\n",
              "      <td>0.447214</td>\n",
              "      <td>0.447214</td>\n",
              "      <td>0.894427</td>\n",
              "      <td>0.200000</td>\n",
              "      <td>1.341641</td>\n",
              "      <td>1.341641</td>\n",
              "      <td>4.157247e-07</td>\n",
              "      <td>4.305786e-07</td>\n",
              "      <td>0.000765</td>\n",
              "      <td>0.000747</td>\n",
              "      <td>4.139790e-17</td>\n",
              "      <td>-0.000000e+00</td>\n",
              "      <td>1.300593e-11</td>\n",
              "      <td>2.189555e-15</td>\n",
              "      <td>-2.715901e-13</td>\n",
              "      <td>1.596690e-11</td>\n",
              "      <td>6.804195e-11</td>\n",
              "      <td>3.135976e-14</td>\n",
              "      <td>3.712109e-13</td>\n",
              "      <td>7.639383e-16</td>\n",
              "      <td>-5.758625e-20</td>\n",
              "      <td>1.193430e-20</td>\n",
              "      <td>-1.261849e-19</td>\n",
              "      <td>4.548044e-20</td>\n",
              "      <td>-2.548690e-19</td>\n",
              "      <td>-2.305486e-19</td>\n",
              "      <td>-1.760238e-11</td>\n",
              "      <td>3.160858e-10</td>\n",
              "      <td>8.484276e-08</td>\n",
              "      <td>4.211469e-10</td>\n",
              "      <td>3.800009e-10</td>\n",
              "      <td>2.424184e-10</td>\n",
              "      <td>-5.288898e-13</td>\n",
              "      <td>5.425534e-13</td>\n",
              "      <td>1.850888e-11</td>\n",
              "      <td>1.384282e-12</td>\n",
              "      <td>4.168514e-12</td>\n",
              "      <td>4.081128e-14</td>\n",
              "      <td>32</td>\n",
              "    </tr>\n",
              "    <tr>\n",
              "      <th>4</th>\n",
              "      <td>1814537</td>\n",
              "      <td>613441</td>\n",
              "      <td>1</td>\n",
              "      <td>9</td>\n",
              "      <td>24</td>\n",
              "      <td>18</td>\n",
              "      <td>21</td>\n",
              "      <td>0</td>\n",
              "      <td>0</td>\n",
              "      <td>0</td>\n",
              "      <td>0.000000</td>\n",
              "      <td>0.000000</td>\n",
              "      <td>0.000000</td>\n",
              "      <td>0.000000</td>\n",
              "      <td>1</td>\n",
              "      <td>1</td>\n",
              "      <td>5</td>\n",
              "      <td>0.229416</td>\n",
              "      <td>0.200000</td>\n",
              "      <td>0.429416</td>\n",
              "      <td>0.045883</td>\n",
              "      <td>0.658831</td>\n",
              "      <td>0.629416</td>\n",
              "      <td>6.228469e-07</td>\n",
              "      <td>2.121543e-06</td>\n",
              "      <td>0.000766</td>\n",
              "      <td>0.000804</td>\n",
              "      <td>4.023255e-15</td>\n",
              "      <td>4.931377e-14</td>\n",
              "      <td>1.272032e-15</td>\n",
              "      <td>7.589346e-15</td>\n",
              "      <td>-1.122041e-10</td>\n",
              "      <td>1.215834e-10</td>\n",
              "      <td>5.107618e-10</td>\n",
              "      <td>1.554413e-12</td>\n",
              "      <td>1.532345e-11</td>\n",
              "      <td>7.422604e-14</td>\n",
              "      <td>-1.391821e-10</td>\n",
              "      <td>2.144762e-11</td>\n",
              "      <td>2.764876e-10</td>\n",
              "      <td>3.858866e-11</td>\n",
              "      <td>4.866720e-11</td>\n",
              "      <td>9.098049e-13</td>\n",
              "      <td>-4.543506e-12</td>\n",
              "      <td>1.113034e-11</td>\n",
              "      <td>9.458169e-11</td>\n",
              "      <td>8.173488e-13</td>\n",
              "      <td>1.271341e-12</td>\n",
              "      <td>2.370950e-14</td>\n",
              "      <td>-1.350728e-11</td>\n",
              "      <td>7.361995e-12</td>\n",
              "      <td>9.126301e-10</td>\n",
              "      <td>3.804457e-12</td>\n",
              "      <td>7.956920e-12</td>\n",
              "      <td>1.414584e-13</td>\n",
              "      <td>216</td>\n",
              "    </tr>\n",
              "  </tbody>\n",
              "</table>\n",
              "</div>"
            ],
            "text/plain": [
              "   source_node  destination_node  ...     svd_v_d_6  Preferential_Attachment\n",
              "0       273084           1505602  ...  4.160011e-14                      165\n",
              "1      1814022           1791177  ... -1.242423e-21                        1\n",
              "2       826445           1364513  ...  1.378817e-17                       99\n",
              "3       944692            559417  ...  4.081128e-14                       32\n",
              "4      1814537            613441  ...  1.414584e-13                      216\n",
              "\n",
              "[5 rows x 56 columns]"
            ]
          },
          "execution_count": 37,
          "metadata": {},
          "output_type": "execute_result"
        }
      ]
    },
    {
      "cell_type": "markdown",
      "metadata": {
        "id": "FUcon2eu81yf"
      },
      "source": [
        "# 5. Modeling"
      ]
    },
    {
      "cell_type": "code",
      "metadata": {
        "id": "xMHRdl-s8wzA"
      },
      "source": [
        "#Importing Libraries\n",
        "import warnings\n",
        "warnings.filterwarnings(\"ignore\")\n",
        "\n",
        "import csv\n",
        "import pandas as pd#pandas to create small dataframes \n",
        "import datetime #Convert to unix time\n",
        "import time #Convert to unix time\n",
        "# if numpy is not installed already : pip3 install numpy\n",
        "import numpy as np#Do aritmetic operations on arrays\n",
        "# matplotlib: used to plot graphs\n",
        "import matplotlib\n",
        "import matplotlib.pylab as plt\n",
        "import seaborn as sns#Plots\n",
        "from matplotlib import rcParams#Size of plots  \n",
        "from sklearn.cluster import MiniBatchKMeans, KMeans#Clustering\n",
        "import math\n",
        "import pickle\n",
        "import os\n",
        "# to install xgboost: pip3 install xgboost\n",
        "import xgboost as xgb\n",
        "\n",
        "import warnings\n",
        "import networkx as nx\n",
        "import pdb\n",
        "import pickle\n",
        "from pandas import HDFStore,DataFrame\n",
        "from pandas import read_hdf\n",
        "from scipy.sparse.linalg import svds, eigs\n",
        "import gc\n",
        "from tqdm import tqdm\n",
        "from sklearn.ensemble import RandomForestClassifier\n",
        "from sklearn.metrics import f1_score"
      ],
      "execution_count": null,
      "outputs": []
    },
    {
      "cell_type": "code",
      "metadata": {
        "id": "-agwdQNK9NZZ"
      },
      "source": [
        "# note: test data means also cross validation also\n",
        "df_final_train = pd.read_hdf('/content/drive/MyDrive/data_raw/storage_sample_stage4.h5', '/content/drive/MyDrive/data_raw/train_df',mode='r')\n",
        "df_final_test = pd.read_hdf('/content/drive/MyDrive/data_raw/storage_sample_stage4.h5', '/content/drive/MyDrive/data_raw/test_df',mode='r')"
      ],
      "execution_count": null,
      "outputs": []
    },
    {
      "cell_type": "code",
      "metadata": {
        "colab": {
          "base_uri": "https://localhost:8080/"
        },
        "id": "UsDS14iD9dQe",
        "outputId": "9f37df7c-2cf6-4eb5-9ab3-f27a08e621cd"
      },
      "source": [
        "df_final_train.columns"
      ],
      "execution_count": null,
      "outputs": [
        {
          "output_type": "execute_result",
          "data": {
            "text/plain": [
              "Index(['source_node', 'destination_node', 'indicator_link', 'num_followers_s',\n",
              "       'num_followers_d', 'num_followees_s', 'num_followees_d',\n",
              "       'inter_followers', 'inter_followees', 'jaccard_followers',\n",
              "       'jaccard_followees', 'cosine_followers', 'cosine_followees',\n",
              "       'adar_index', 'follows_back', 'same_comp', 'shortest_path', 'weight_in',\n",
              "       'weight_out', 'weight_f1', 'weight_f2', 'weight_f3', 'weight_f4',\n",
              "       'page_rank_s', 'page_rank_d', 'katz_s', 'katz_d', 'hubs_s', 'hubs_d',\n",
              "       'authorities_s', 'authorities_d', 'svd_u_s_1', 'svd_u_s_2', 'svd_u_s_3',\n",
              "       'svd_u_s_4', 'svd_u_s_5', 'svd_u_s_6', 'svd_u_d_1', 'svd_u_d_2',\n",
              "       'svd_u_d_3', 'svd_u_d_4', 'svd_u_d_5', 'svd_u_d_6', 'svd_v_s_1',\n",
              "       'svd_v_s_2', 'svd_v_s_3', 'svd_v_s_4', 'svd_v_s_5', 'svd_v_s_6',\n",
              "       'svd_v_d_1', 'svd_v_d_2', 'svd_v_d_3', 'svd_v_d_4', 'svd_v_d_5',\n",
              "       'svd_v_d_6', 'Preferential_Attachment'],\n",
              "      dtype='object')"
            ]
          },
          "metadata": {},
          "execution_count": 5
        }
      ]
    },
    {
      "cell_type": "code",
      "metadata": {
        "id": "-jBCV26i-sjM"
      },
      "source": [
        "y_train = df_final_train.indicator_link\n",
        "y_test = df_final_test.indicator_link"
      ],
      "execution_count": null,
      "outputs": []
    },
    {
      "cell_type": "code",
      "metadata": {
        "id": "sdTvOJUO-uIx"
      },
      "source": [
        "df_final_train.drop(['source_node', 'destination_node','indicator_link'],axis=1,inplace=True)\n",
        "df_final_test.drop(['source_node', 'destination_node','indicator_link'],axis=1,inplace=True)"
      ],
      "execution_count": null,
      "outputs": []
    },
    {
      "cell_type": "code",
      "metadata": {
        "colab": {
          "base_uri": "https://localhost:8080/",
          "height": 307
        },
        "id": "NZEM3iUF-0LU",
        "outputId": "ba2fc5f4-275b-4e29-f584-72c4966eefa6"
      },
      "source": [
        "df_final_train.head(5)"
      ],
      "execution_count": null,
      "outputs": [
        {
          "output_type": "execute_result",
          "data": {
            "text/html": [
              "<div>\n",
              "<style scoped>\n",
              "    .dataframe tbody tr th:only-of-type {\n",
              "        vertical-align: middle;\n",
              "    }\n",
              "\n",
              "    .dataframe tbody tr th {\n",
              "        vertical-align: top;\n",
              "    }\n",
              "\n",
              "    .dataframe thead th {\n",
              "        text-align: right;\n",
              "    }\n",
              "</style>\n",
              "<table border=\"1\" class=\"dataframe\">\n",
              "  <thead>\n",
              "    <tr style=\"text-align: right;\">\n",
              "      <th></th>\n",
              "      <th>num_followers_s</th>\n",
              "      <th>num_followers_d</th>\n",
              "      <th>num_followees_s</th>\n",
              "      <th>num_followees_d</th>\n",
              "      <th>inter_followers</th>\n",
              "      <th>inter_followees</th>\n",
              "      <th>jaccard_followers</th>\n",
              "      <th>jaccard_followees</th>\n",
              "      <th>cosine_followers</th>\n",
              "      <th>cosine_followees</th>\n",
              "      <th>adar_index</th>\n",
              "      <th>follows_back</th>\n",
              "      <th>same_comp</th>\n",
              "      <th>shortest_path</th>\n",
              "      <th>weight_in</th>\n",
              "      <th>weight_out</th>\n",
              "      <th>weight_f1</th>\n",
              "      <th>weight_f2</th>\n",
              "      <th>weight_f3</th>\n",
              "      <th>weight_f4</th>\n",
              "      <th>page_rank_s</th>\n",
              "      <th>page_rank_d</th>\n",
              "      <th>katz_s</th>\n",
              "      <th>katz_d</th>\n",
              "      <th>hubs_s</th>\n",
              "      <th>hubs_d</th>\n",
              "      <th>authorities_s</th>\n",
              "      <th>authorities_d</th>\n",
              "      <th>svd_u_s_1</th>\n",
              "      <th>svd_u_s_2</th>\n",
              "      <th>svd_u_s_3</th>\n",
              "      <th>svd_u_s_4</th>\n",
              "      <th>svd_u_s_5</th>\n",
              "      <th>svd_u_s_6</th>\n",
              "      <th>svd_u_d_1</th>\n",
              "      <th>svd_u_d_2</th>\n",
              "      <th>svd_u_d_3</th>\n",
              "      <th>svd_u_d_4</th>\n",
              "      <th>svd_u_d_5</th>\n",
              "      <th>svd_u_d_6</th>\n",
              "      <th>svd_v_s_1</th>\n",
              "      <th>svd_v_s_2</th>\n",
              "      <th>svd_v_s_3</th>\n",
              "      <th>svd_v_s_4</th>\n",
              "      <th>svd_v_s_5</th>\n",
              "      <th>svd_v_s_6</th>\n",
              "      <th>svd_v_d_1</th>\n",
              "      <th>svd_v_d_2</th>\n",
              "      <th>svd_v_d_3</th>\n",
              "      <th>svd_v_d_4</th>\n",
              "      <th>svd_v_d_5</th>\n",
              "      <th>svd_v_d_6</th>\n",
              "      <th>Preferential_Attachment</th>\n",
              "    </tr>\n",
              "  </thead>\n",
              "  <tbody>\n",
              "    <tr>\n",
              "      <th>0</th>\n",
              "      <td>11</td>\n",
              "      <td>15</td>\n",
              "      <td>6</td>\n",
              "      <td>8</td>\n",
              "      <td>0</td>\n",
              "      <td>0</td>\n",
              "      <td>0</td>\n",
              "      <td>0.000000</td>\n",
              "      <td>0.000000</td>\n",
              "      <td>0.000000</td>\n",
              "      <td>0.000000</td>\n",
              "      <td>0</td>\n",
              "      <td>1</td>\n",
              "      <td>4</td>\n",
              "      <td>0.377964</td>\n",
              "      <td>0.250000</td>\n",
              "      <td>0.627964</td>\n",
              "      <td>0.094491</td>\n",
              "      <td>1.005929</td>\n",
              "      <td>0.877964</td>\n",
              "      <td>2.045290e-06</td>\n",
              "      <td>3.459963e-07</td>\n",
              "      <td>0.000773</td>\n",
              "      <td>0.000756</td>\n",
              "      <td>1.943132e-13</td>\n",
              "      <td>1.941103e-13</td>\n",
              "      <td>9.226338e-16</td>\n",
              "      <td>2.231877e-15</td>\n",
              "      <td>-1.666334e-13</td>\n",
              "      <td>4.613820e-13</td>\n",
              "      <td>1.043041e-05</td>\n",
              "      <td>6.678033e-13</td>\n",
              "      <td>2.451105e-13</td>\n",
              "      <td>3.584945e-12</td>\n",
              "      <td>-2.038018e-11</td>\n",
              "      <td>5.397910e-13</td>\n",
              "      <td>1.068943e-06</td>\n",
              "      <td>1.192461e-12</td>\n",
              "      <td>2.279488e-12</td>\n",
              "      <td>3.581202e-12</td>\n",
              "      <td>-7.216151e-13</td>\n",
              "      <td>3.926263e-13</td>\n",
              "      <td>1.983700e-06</td>\n",
              "      <td>1.545089e-13</td>\n",
              "      <td>8.108438e-13</td>\n",
              "      <td>1.719704e-14</td>\n",
              "      <td>-1.355369e-12</td>\n",
              "      <td>4.675320e-13</td>\n",
              "      <td>1.128586e-06</td>\n",
              "      <td>6.616718e-14</td>\n",
              "      <td>9.771079e-13</td>\n",
              "      <td>4.160011e-14</td>\n",
              "      <td>165</td>\n",
              "    </tr>\n",
              "    <tr>\n",
              "      <th>1</th>\n",
              "      <td>1</td>\n",
              "      <td>1</td>\n",
              "      <td>2</td>\n",
              "      <td>4</td>\n",
              "      <td>0</td>\n",
              "      <td>0</td>\n",
              "      <td>0</td>\n",
              "      <td>0.000000</td>\n",
              "      <td>0.000000</td>\n",
              "      <td>0.000000</td>\n",
              "      <td>0.000000</td>\n",
              "      <td>1</td>\n",
              "      <td>1</td>\n",
              "      <td>-1</td>\n",
              "      <td>0.707107</td>\n",
              "      <td>1.000000</td>\n",
              "      <td>1.707107</td>\n",
              "      <td>0.707107</td>\n",
              "      <td>2.414214</td>\n",
              "      <td>2.707107</td>\n",
              "      <td>2.848986e-07</td>\n",
              "      <td>8.815667e-07</td>\n",
              "      <td>0.000735</td>\n",
              "      <td>0.000739</td>\n",
              "      <td>1.269882e-25</td>\n",
              "      <td>5.132992e-22</td>\n",
              "      <td>-4.228372e-25</td>\n",
              "      <td>1.769218e-23</td>\n",
              "      <td>2.664749e-20</td>\n",
              "      <td>-1.157780e-20</td>\n",
              "      <td>5.054768e-21</td>\n",
              "      <td>-4.121226e-21</td>\n",
              "      <td>-6.844900e-21</td>\n",
              "      <td>-2.419884e-21</td>\n",
              "      <td>-2.345005e-19</td>\n",
              "      <td>3.794328e-19</td>\n",
              "      <td>1.201924e-15</td>\n",
              "      <td>1.979214e-18</td>\n",
              "      <td>2.475750e-19</td>\n",
              "      <td>1.240339e-19</td>\n",
              "      <td>-2.375419e-21</td>\n",
              "      <td>3.780707e-21</td>\n",
              "      <td>1.166711e-17</td>\n",
              "      <td>1.891645e-20</td>\n",
              "      <td>1.978105e-21</td>\n",
              "      <td>8.812075e-22</td>\n",
              "      <td>4.100889e-22</td>\n",
              "      <td>-1.109874e-22</td>\n",
              "      <td>-7.564718e-22</td>\n",
              "      <td>1.294405e-22</td>\n",
              "      <td>-1.703874e-21</td>\n",
              "      <td>-1.242423e-21</td>\n",
              "      <td>1</td>\n",
              "    </tr>\n",
              "    <tr>\n",
              "      <th>2</th>\n",
              "      <td>9</td>\n",
              "      <td>11</td>\n",
              "      <td>7</td>\n",
              "      <td>12</td>\n",
              "      <td>5</td>\n",
              "      <td>8</td>\n",
              "      <td>0</td>\n",
              "      <td>0.533333</td>\n",
              "      <td>0.238095</td>\n",
              "      <td>0.696311</td>\n",
              "      <td>6.349752</td>\n",
              "      <td>1</td>\n",
              "      <td>1</td>\n",
              "      <td>2</td>\n",
              "      <td>0.353553</td>\n",
              "      <td>0.288675</td>\n",
              "      <td>0.642229</td>\n",
              "      <td>0.102062</td>\n",
              "      <td>0.995782</td>\n",
              "      <td>0.930904</td>\n",
              "      <td>4.125339e-07</td>\n",
              "      <td>3.670567e-07</td>\n",
              "      <td>0.000767</td>\n",
              "      <td>0.000759</td>\n",
              "      <td>5.111827e-18</td>\n",
              "      <td>4.366027e-17</td>\n",
              "      <td>1.470239e-18</td>\n",
              "      <td>7.401076e-19</td>\n",
              "      <td>-1.496567e-15</td>\n",
              "      <td>1.305161e-09</td>\n",
              "      <td>6.575124e-12</td>\n",
              "      <td>1.439959e-16</td>\n",
              "      <td>1.157901e-11</td>\n",
              "      <td>9.443999e-17</td>\n",
              "      <td>-1.093941e-14</td>\n",
              "      <td>1.904798e-09</td>\n",
              "      <td>1.301123e-11</td>\n",
              "      <td>3.456752e-16</td>\n",
              "      <td>1.169048e-11</td>\n",
              "      <td>8.056866e-16</td>\n",
              "      <td>-9.158861e-16</td>\n",
              "      <td>3.320511e-09</td>\n",
              "      <td>1.542778e-11</td>\n",
              "      <td>1.787406e-16</td>\n",
              "      <td>1.205198e-12</td>\n",
              "      <td>2.740117e-17</td>\n",
              "      <td>-5.886752e-16</td>\n",
              "      <td>1.802078e-09</td>\n",
              "      <td>2.204444e-11</td>\n",
              "      <td>1.555496e-16</td>\n",
              "      <td>1.273806e-12</td>\n",
              "      <td>1.378817e-17</td>\n",
              "      <td>99</td>\n",
              "    </tr>\n",
              "    <tr>\n",
              "      <th>3</th>\n",
              "      <td>8</td>\n",
              "      <td>4</td>\n",
              "      <td>4</td>\n",
              "      <td>0</td>\n",
              "      <td>0</td>\n",
              "      <td>0</td>\n",
              "      <td>0</td>\n",
              "      <td>0.000000</td>\n",
              "      <td>0.000000</td>\n",
              "      <td>0.000000</td>\n",
              "      <td>0.000000</td>\n",
              "      <td>0</td>\n",
              "      <td>1</td>\n",
              "      <td>7</td>\n",
              "      <td>0.447214</td>\n",
              "      <td>0.447214</td>\n",
              "      <td>0.894427</td>\n",
              "      <td>0.200000</td>\n",
              "      <td>1.341641</td>\n",
              "      <td>1.341641</td>\n",
              "      <td>4.157247e-07</td>\n",
              "      <td>4.305786e-07</td>\n",
              "      <td>0.000765</td>\n",
              "      <td>0.000747</td>\n",
              "      <td>4.139790e-17</td>\n",
              "      <td>-0.000000e+00</td>\n",
              "      <td>1.300593e-11</td>\n",
              "      <td>2.189555e-15</td>\n",
              "      <td>-2.715901e-13</td>\n",
              "      <td>1.596690e-11</td>\n",
              "      <td>6.804195e-11</td>\n",
              "      <td>3.135976e-14</td>\n",
              "      <td>3.712109e-13</td>\n",
              "      <td>7.639383e-16</td>\n",
              "      <td>-5.758625e-20</td>\n",
              "      <td>1.193430e-20</td>\n",
              "      <td>-1.261849e-19</td>\n",
              "      <td>4.548044e-20</td>\n",
              "      <td>-2.548690e-19</td>\n",
              "      <td>-2.305486e-19</td>\n",
              "      <td>-1.760238e-11</td>\n",
              "      <td>3.160858e-10</td>\n",
              "      <td>8.484276e-08</td>\n",
              "      <td>4.211469e-10</td>\n",
              "      <td>3.800009e-10</td>\n",
              "      <td>2.424184e-10</td>\n",
              "      <td>-5.288898e-13</td>\n",
              "      <td>5.425534e-13</td>\n",
              "      <td>1.850888e-11</td>\n",
              "      <td>1.384282e-12</td>\n",
              "      <td>4.168514e-12</td>\n",
              "      <td>4.081128e-14</td>\n",
              "      <td>32</td>\n",
              "    </tr>\n",
              "    <tr>\n",
              "      <th>4</th>\n",
              "      <td>9</td>\n",
              "      <td>24</td>\n",
              "      <td>18</td>\n",
              "      <td>21</td>\n",
              "      <td>0</td>\n",
              "      <td>0</td>\n",
              "      <td>0</td>\n",
              "      <td>0.000000</td>\n",
              "      <td>0.000000</td>\n",
              "      <td>0.000000</td>\n",
              "      <td>0.000000</td>\n",
              "      <td>1</td>\n",
              "      <td>1</td>\n",
              "      <td>5</td>\n",
              "      <td>0.229416</td>\n",
              "      <td>0.200000</td>\n",
              "      <td>0.429416</td>\n",
              "      <td>0.045883</td>\n",
              "      <td>0.658831</td>\n",
              "      <td>0.629416</td>\n",
              "      <td>6.228469e-07</td>\n",
              "      <td>2.121543e-06</td>\n",
              "      <td>0.000766</td>\n",
              "      <td>0.000804</td>\n",
              "      <td>4.023255e-15</td>\n",
              "      <td>4.931377e-14</td>\n",
              "      <td>1.272032e-15</td>\n",
              "      <td>7.589346e-15</td>\n",
              "      <td>-1.122041e-10</td>\n",
              "      <td>1.215834e-10</td>\n",
              "      <td>5.107618e-10</td>\n",
              "      <td>1.554413e-12</td>\n",
              "      <td>1.532345e-11</td>\n",
              "      <td>7.422604e-14</td>\n",
              "      <td>-1.391821e-10</td>\n",
              "      <td>2.144762e-11</td>\n",
              "      <td>2.764876e-10</td>\n",
              "      <td>3.858866e-11</td>\n",
              "      <td>4.866720e-11</td>\n",
              "      <td>9.098049e-13</td>\n",
              "      <td>-4.543506e-12</td>\n",
              "      <td>1.113034e-11</td>\n",
              "      <td>9.458169e-11</td>\n",
              "      <td>8.173488e-13</td>\n",
              "      <td>1.271341e-12</td>\n",
              "      <td>2.370950e-14</td>\n",
              "      <td>-1.350728e-11</td>\n",
              "      <td>7.361995e-12</td>\n",
              "      <td>9.126301e-10</td>\n",
              "      <td>3.804457e-12</td>\n",
              "      <td>7.956920e-12</td>\n",
              "      <td>1.414584e-13</td>\n",
              "      <td>216</td>\n",
              "    </tr>\n",
              "  </tbody>\n",
              "</table>\n",
              "</div>"
            ],
            "text/plain": [
              "   num_followers_s  num_followers_d  ...     svd_v_d_6  Preferential_Attachment\n",
              "0               11               15  ...  4.160011e-14                      165\n",
              "1                1                1  ... -1.242423e-21                        1\n",
              "2                9               11  ...  1.378817e-17                       99\n",
              "3                8                4  ...  4.081128e-14                       32\n",
              "4                9               24  ...  1.414584e-13                      216\n",
              "\n",
              "[5 rows x 53 columns]"
            ]
          },
          "metadata": {},
          "execution_count": 8
        }
      ]
    },
    {
      "cell_type": "markdown",
      "metadata": {
        "id": "KpxfpXqZ_G2x"
      },
      "source": [
        "## 5.1 Hyperparameter Tuning\n",
        "\n",
        "we are using **Random Forest** as a model because:\n",
        "<ol>\n",
        "<li>the number of features is reasonable(not large)</li>\n",
        "<li> taking take care of nonlinearity automatically</li>\n",
        "</ol>"
      ]
    },
    {
      "cell_type": "code",
      "metadata": {
        "colab": {
          "base_uri": "https://localhost:8080/",
          "height": 396
        },
        "id": "2A3irC2d_O17",
        "outputId": "ab77a65d-3005-4330-b098-f092977d74a8"
      },
      "source": [
        "# hyperparameter tuning for the estimators\n",
        "estimators = [10,50,100,250,450]\n",
        "train_scores = []\n",
        "test_scores = [] # also CV\n",
        "for i in estimators:\n",
        "    clf = RandomForestClassifier(bootstrap=True, class_weight=None, criterion='gini',\n",
        "            max_depth=5, max_features='auto', max_leaf_nodes=None,\n",
        "            min_impurity_decrease=0.0, min_impurity_split=None,\n",
        "            min_samples_leaf=52, min_samples_split=120,\n",
        "            min_weight_fraction_leaf=0.0, n_estimators=i, n_jobs=-1,random_state=25,verbose=0,warm_start=False)\n",
        "    clf.fit(df_final_train,y_train)\n",
        "    train_sc = f1_score(y_train,clf.predict(df_final_train))\n",
        "    test_sc = f1_score(y_test,clf.predict(df_final_test))\n",
        "    test_scores.append(test_sc)\n",
        "    train_scores.append(train_sc)\n",
        "    print('Estimators = ',i,'Train Score',train_sc,'test Score',test_sc)\n",
        "plt.plot(estimators,train_scores,label='Train Score')\n",
        "plt.plot(estimators,test_scores,label='Test Score')\n",
        "plt.xlabel('Estimators')\n",
        "plt.ylabel('Score')\n",
        "plt.title('Estimators vs score at depth of 5')"
      ],
      "execution_count": null,
      "outputs": [
        {
          "name": "stdout",
          "output_type": "stream",
          "text": [
            "Estimators =  10 Train Score 0.9203206633246611 test Score 0.9203967446592065\n",
            "Estimators =  50 Train Score 0.9194858977442665 test Score 0.9157721934587701\n",
            "Estimators =  100 Train Score 0.9208268289872079 test Score 0.9198940330515958\n",
            "Estimators =  250 Train Score 0.9198659545502147 test Score 0.9190029843218024\n",
            "Estimators =  450 Train Score 0.9213671453560842 test Score 0.9201530504982551\n"
          ]
        },
        {
          "data": {
            "text/plain": [
              "Text(0.5, 1.0, 'Estimators vs score at depth of 5')"
            ]
          },
          "execution_count": 44,
          "metadata": {},
          "output_type": "execute_result"
        },
        {
          "data": {
            "image/png": "[encoded data removed]",
            "text/plain": [
              "<Figure size 432x288 with 1 Axes>"
            ]
          },
          "metadata": {},
          "output_type": "display_data"
        }
      ]
    },
    {
      "cell_type": "code",
      "metadata": {
        "colab": {
          "base_uri": "https://localhost:8080/",
          "height": 446
        },
        "id": "Wy64PxvCBbIt",
        "outputId": "71ccf8c5-2ccd-4e90-e2cf-89176deecb1d"
      },
      "source": [
        "# hyperparameter tuning for the depth(depth of the base learners)\n",
        "depths = [3,9,11,15,20,35,50,70,130]\n",
        "train_scores = []\n",
        "test_scores = []\n",
        "for i in depths:\n",
        "    clf = RandomForestClassifier(bootstrap=True, class_weight=None, criterion='gini',\n",
        "            max_depth=i, max_features='auto', max_leaf_nodes=None,\n",
        "            min_impurity_decrease=0.0, min_impurity_split=None,\n",
        "            min_samples_leaf=52, min_samples_split=120,\n",
        "            min_weight_fraction_leaf=0.0, n_estimators=100, n_jobs=-1,random_state=25,verbose=0,warm_start=False)\n",
        "    clf.fit(df_final_train,y_train)\n",
        "    train_sc = f1_score(y_train,clf.predict(df_final_train))\n",
        "    test_sc = f1_score(y_test,clf.predict(df_final_test))\n",
        "    test_scores.append(test_sc)\n",
        "    train_scores.append(train_sc)\n",
        "    print('depth = ',i,'Train Score',train_sc,'test Score',test_sc)\n",
        "plt.plot(depths,train_scores,label='Train Score')\n",
        "plt.plot(depths,test_scores,label='Test Score')\n",
        "plt.xlabel('Depth')\n",
        "plt.ylabel('Score')\n",
        "plt.title('Depth vs score at depth of 5 at estimators = 100')\n",
        "plt.show()"
      ],
      "execution_count": null,
      "outputs": [
        {
          "name": "stdout",
          "output_type": "stream",
          "text": [
            "depth =  3 Train Score 0.8732596188805956 test Score 0.8596903270702854\n",
            "depth =  9 Train Score 0.9555752175970699 test Score 0.9261534550692709\n",
            "depth =  11 Train Score 0.9605344043276915 test Score 0.9279065831782027\n",
            "depth =  15 Train Score 0.9645831632236467 test Score 0.9281548474347054\n",
            "depth =  20 Train Score 0.9659284323817482 test Score 0.9297867848849484\n",
            "depth =  35 Train Score 0.9657921024198316 test Score 0.927147271726707\n",
            "depth =  50 Train Score 0.9657921024198316 test Score 0.927147271726707\n",
            "depth =  70 Train Score 0.9657921024198316 test Score 0.927147271726707\n",
            "depth =  130 Train Score 0.9657921024198316 test Score 0.927147271726707\n"
          ]
        },
        {
          "data": {
            "image/png": "[encoded data removed]",
            "text/plain": [
              "<Figure size 432x288 with 1 Axes>"
            ]
          },
          "metadata": {},
          "output_type": "display_data"
        }
      ]
    },
    {
      "cell_type": "code",
      "metadata": {
        "id": "UltdfT3CCuJD"
      },
      "source": [
        "# hyperparameter tuning... (Randomized Search cross validate)\n",
        "\n",
        "from sklearn.metrics import f1_score\n",
        "from sklearn.ensemble import RandomForestClassifier\n",
        "from sklearn.metrics import f1_score\n",
        "from sklearn.model_selection import RandomizedSearchCV\n",
        "from scipy.stats import randint as sp_randint\n",
        "from scipy.stats import uniform\n",
        "\n",
        "param_dist = {\"n_estimators\":sp_randint(90,115),\n",
        "              \"max_depth\": sp_randint(5,20),\n",
        "              \"min_samples_split\": sp_randint(110,190),\n",
        "              \"min_samples_leaf\": sp_randint(25,65)}\n",
        "\n",
        "clf = RandomForestClassifier(random_state=25,n_jobs=-1)\n",
        "\n",
        "rf_random = RandomizedSearchCV(clf, param_distributions=param_dist,\n",
        "                                   n_iter=5,cv=10,scoring='f1',random_state=25)\n",
        "\n",
        "rf_random.fit(df_final_train,y_train)\n",
        "print('mean test scores',rf_random.cv_results_['mean_test_score'])\n"
      ],
      "execution_count": null,
      "outputs": []
    },
    {
      "cell_type": "code",
      "metadata": {
        "colab": {
          "base_uri": "https://localhost:8080/"
        },
        "id": "2XCjuF4DGho7",
        "outputId": "508d98dc-56f1-4012-cabe-1863a829e237"
      },
      "source": [
        "print('mean test scores',rf_random.cv_results_['mean_test_score'])"
      ],
      "execution_count": null,
      "outputs": [
        {
          "name": "stdout",
          "output_type": "stream",
          "text": [
            "mean test scores [0.95514676 0.96292175 0.96336278 0.9636046  0.95735291]\n"
          ]
        }
      ]
    },
    {
      "cell_type": "code",
      "metadata": {
        "colab": {
          "base_uri": "https://localhost:8080/"
        },
        "id": "i1ix3clYGw0L",
        "outputId": "53f7dbe8-840e-48bd-d17e-41619c35c581"
      },
      "source": [
        "print(rf_random.best_estimator_)"
      ],
      "execution_count": null,
      "outputs": [
        {
          "name": "stdout",
          "output_type": "stream",
          "text": [
            "RandomForestClassifier(bootstrap=True, ccp_alpha=0.0, class_weight=None,\n",
            "                       criterion='gini', max_depth=12, max_features='auto',\n",
            "                       max_leaf_nodes=None, max_samples=None,\n",
            "                       min_impurity_decrease=0.0, min_impurity_split=None,\n",
            "                       min_samples_leaf=28, min_samples_split=165,\n",
            "                       min_weight_fraction_leaf=0.0, n_estimators=93, n_jobs=-1,\n",
            "                       oob_score=False, random_state=25, verbose=0,\n",
            "                       warm_start=False)\n"
          ]
        }
      ]
    },
    {
      "cell_type": "code",
      "metadata": {
        "id": "fgxATgc4G1vy"
      },
      "source": [
        "clf = RandomForestClassifier(bootstrap=True, ccp_alpha=0.0, class_weight=None,\n",
        "                       criterion='gini', max_depth=12, max_features='auto',\n",
        "                       max_leaf_nodes=None, max_samples=None,\n",
        "                       min_impurity_decrease=0.0, min_impurity_split=None,\n",
        "                       min_samples_leaf=28, min_samples_split=165,\n",
        "                       min_weight_fraction_leaf=0.0, n_estimators=93, n_jobs=-1,\n",
        "                       oob_score=False, random_state=25, verbose=0,\n",
        "                       warm_start=False)"
      ],
      "execution_count": null,
      "outputs": []
    },
    {
      "cell_type": "code",
      "metadata": {
        "id": "Kx_dptxwHHiK"
      },
      "source": [
        "clf.fit(df_final_train,y_train)\n",
        "y_train_pred = clf.predict(df_final_train)\n",
        "y_test_pred = clf.predict(df_final_test)"
      ],
      "execution_count": null,
      "outputs": []
    },
    {
      "cell_type": "markdown",
      "metadata": {
        "id": "anCJ1eViHX9p"
      },
      "source": [
        "## 5.2 Performance Matrices"
      ]
    },
    {
      "cell_type": "code",
      "metadata": {
        "colab": {
          "base_uri": "https://localhost:8080/"
        },
        "id": "NOAV3nahHP0t",
        "outputId": "a5760238-ca63-4ea1-c81b-a92405e4b83c"
      },
      "source": [
        "# f1 score\n",
        "from sklearn.metrics import f1_score\n",
        "print('Train f1 score',f1_score(y_train,y_train_pred))\n",
        "print('Test f1 score',f1_score(y_test,y_test_pred))"
      ],
      "execution_count": null,
      "outputs": [
        {
          "name": "stdout",
          "output_type": "stream",
          "text": [
            "Train f1 score 0.9643856809877146\n",
            "Test f1 score 0.9255157253973622\n"
          ]
        }
      ]
    },
    {
      "cell_type": "code",
      "metadata": {
        "colab": {
          "base_uri": "https://localhost:8080/",
          "height": 606
        },
        "id": "qxajWfNcHq_D",
        "outputId": "edbe4650-c35c-4fe5-f4a8-853ae2b122fe"
      },
      "source": [
        "# confusion metrix\n",
        "\n",
        "from sklearn.metrics import confusion_matrix\n",
        "def plot_confusion_matrix(test_y, predict_y):\n",
        "    C = confusion_matrix(test_y, predict_y)\n",
        "    \n",
        "    A =(((C.T)/(C.sum(axis=1))).T)\n",
        "    \n",
        "    B =(C/C.sum(axis=0))\n",
        "    plt.figure(figsize=(20,4))\n",
        "    \n",
        "    labels = [0,1]\n",
        "    # representing A in heatmap format\n",
        "    cmap=sns.light_palette(\"blue\")\n",
        "    plt.subplot(1, 3, 1)\n",
        "    sns.heatmap(C, annot=True, cmap=cmap, fmt=\".3f\", xticklabels=labels, yticklabels=labels)\n",
        "    plt.xlabel('Predicted Class')\n",
        "    plt.ylabel('Original Class')\n",
        "    plt.title(\"Confusion matrix\")\n",
        "    \n",
        "    plt.subplot(1, 3, 2)\n",
        "    sns.heatmap(B, annot=True, cmap=cmap, fmt=\".3f\", xticklabels=labels, yticklabels=labels)\n",
        "    plt.xlabel('Predicted Class')\n",
        "    plt.ylabel('Original Class')\n",
        "    plt.title(\"Precision matrix\")\n",
        "    \n",
        "    plt.subplot(1, 3, 3)\n",
        "    # representing B in heatmap format\n",
        "    sns.heatmap(A, annot=True, cmap=cmap, fmt=\".3f\", xticklabels=labels, yticklabels=labels)\n",
        "    plt.xlabel('Predicted Class')\n",
        "    plt.ylabel('Original Class')\n",
        "    plt.title(\"Recall matrix\")\n",
        "    \n",
        "    plt.show()\n",
        "\n",
        "print('Train confusion_matrix')\n",
        "plot_confusion_matrix(y_train,y_train_pred)\n",
        "print('Test confusion_matrix')\n",
        "plot_confusion_matrix(y_test,y_test_pred)"
      ],
      "execution_count": null,
      "outputs": [
        {
          "name": "stdout",
          "output_type": "stream",
          "text": [
            "Train confusion_matrix\n"
          ]
        },
        {
          "data": {
            "image/png": "[encoded data removed]",
            "text/plain": [
              "<Figure size 1440x288 with 6 Axes>"
            ]
          },
          "metadata": {},
          "output_type": "display_data"
        },
        {
          "name": "stdout",
          "output_type": "stream",
          "text": [
            "Test confusion_matrix\n"
          ]
        },
        {
          "data": {
            "image/png": "[encoded data removed]",
            "text/plain": [
              "<Figure size 1440x288 with 6 Axes>"
            ]
          },
          "metadata": {},
          "output_type": "display_data"
        }
      ]
    },
    {
      "cell_type": "code",
      "metadata": {
        "colab": {
          "base_uri": "https://localhost:8080/",
          "height": 295
        },
        "id": "bEXqXrGKIDP3",
        "outputId": "0b9981f1-380a-4404-a13c-92b2df7177a4"
      },
      "source": [
        "# ROC-AUC mertrix\n",
        "\n",
        "from sklearn.metrics import roc_curve, auc\n",
        "fpr,tpr,ths = roc_curve(y_test,y_test_pred)\n",
        "auc_sc = auc(fpr, tpr)\n",
        "plt.plot(fpr, tpr, color='navy',label='ROC curve (area = %0.2f)' % auc_sc)\n",
        "plt.xlabel('False Positive Rate')\n",
        "plt.ylabel('True Positive Rate')\n",
        "plt.title('Receiver operating characteristic with test data')\n",
        "plt.legend()\n",
        "plt.show()"
      ],
      "execution_count": null,
      "outputs": [
        {
          "data": {
            "image/png": "[encoded data removed]",
            "text/plain": [
              "<Figure size 432x288 with 1 Axes>"
            ]
          },
          "metadata": {},
          "output_type": "display_data"
        }
      ]
    },
    {
      "cell_type": "markdown",
      "metadata": {
        "id": "fRkPKnJmLm9K"
      },
      "source": [
        "## 5.3 feature importance"
      ]
    },
    {
      "cell_type": "code",
      "metadata": {
        "colab": {
          "base_uri": "https://localhost:8080/",
          "height": 730
        },
        "id": "aVM-5mOVLmFN",
        "outputId": "542f91d0-af74-40fb-a3da-eb9df0614d57"
      },
      "source": [
        "features = df_final_train.columns\n",
        "importances = clf.feature_importances_\n",
        "indices = (np.argsort(importances))[-25:]\n",
        "plt.figure(figsize=(10,12))\n",
        "plt.title('Feature Importances')\n",
        "plt.barh(range(len(indices)), importances[indices], color='r', align='center')\n",
        "plt.yticks(range(len(indices)), [features[i] for i in indices])\n",
        "plt.xlabel('Relative Importance')\n",
        "plt.show()"
      ],
      "execution_count": null,
      "outputs": [
        {
          "data": {
            "image/png": "[encoded data removed]",
            "text/plain": [
              "<Figure size 720x864 with 1 Axes>"
            ]
          },
          "metadata": {},
          "output_type": "display_data"
        }
      ]
    },
    {
      "cell_type": "markdown",
      "metadata": {
        "id": "cqVJKJ6jjiIy"
      },
      "source": [
        "# 6. Using XGBoot Model (With Hyperparameter Tuning)\n",
        "\n",
        "credit: https://www.analyticsvidhya.com/blog/2016/03/complete-guide-parameter-tuning-xgboost-with-codes-python/#h2_4"
      ]
    },
    {
      "cell_type": "code",
      "metadata": {
        "id": "eQd0gUDYjuoC"
      },
      "source": [
        "import xgboost as xgb\n",
        "from sklearn import metrics   #Additional scklearn functions\n",
        "#from sklearn.grid_search import GridSearchCV   #Perforing grid search\n",
        "from sklearn.model_selection import cross_validate, learning_curve, GridSearchCV\n",
        "import matplotlib.pylab as plt\n",
        "%matplotlib inline\n",
        "from matplotlib.pylab import rcParams\n",
        "rcParams['figure.figsize'] = 12, 4"
      ],
      "execution_count": null,
      "outputs": []
    },
    {
      "cell_type": "code",
      "metadata": {
        "id": "aVl5x77BjtuD"
      },
      "source": [
        "# note: test data means also cross validation also\n",
        "df_final_train = pd.read_hdf('/content/drive/MyDrive/data_raw/storage_sample_stage4.h5', '/content/drive/MyDrive/data_raw/train_df',mode='r')\n",
        "df_final_test = pd.read_hdf('/content/drive/MyDrive/data_raw/storage_sample_stage4.h5', '/content/drive/MyDrive/data_raw/test_df',mode='r')"
      ],
      "execution_count": null,
      "outputs": []
    },
    {
      "cell_type": "code",
      "metadata": {
        "id": "7PdPiJIumMD3"
      },
      "source": [
        "y_train = df_final_train.indicator_link\n",
        "y_test = df_final_test.indicator_link"
      ],
      "execution_count": null,
      "outputs": []
    },
    {
      "cell_type": "code",
      "metadata": {
        "id": "ZWiStqAUmTzf"
      },
      "source": [
        "df_final_train.drop(['source_node', 'destination_node','indicator_link'],axis=1,inplace=True)\n",
        "df_final_test.drop(['source_node', 'destination_node','indicator_link'],axis=1,inplace=True)"
      ],
      "execution_count": null,
      "outputs": []
    },
    {
      "cell_type": "code",
      "metadata": {
        "colab": {
          "base_uri": "https://localhost:8080/",
          "height": 307
        },
        "id": "E8hFcyYcmXoM",
        "outputId": "90e2f462-f3d7-4788-d5ff-823f55d284cb"
      },
      "source": [
        "df_final_train.head(5)"
      ],
      "execution_count": null,
      "outputs": [
        {
          "output_type": "execute_result",
          "data": {
            "text/html": [
              "<div>\n",
              "<style scoped>\n",
              "    .dataframe tbody tr th:only-of-type {\n",
              "        vertical-align: middle;\n",
              "    }\n",
              "\n",
              "    .dataframe tbody tr th {\n",
              "        vertical-align: top;\n",
              "    }\n",
              "\n",
              "    .dataframe thead th {\n",
              "        text-align: right;\n",
              "    }\n",
              "</style>\n",
              "<table border=\"1\" class=\"dataframe\">\n",
              "  <thead>\n",
              "    <tr style=\"text-align: right;\">\n",
              "      <th></th>\n",
              "      <th>num_followers_s</th>\n",
              "      <th>num_followers_d</th>\n",
              "      <th>num_followees_s</th>\n",
              "      <th>num_followees_d</th>\n",
              "      <th>inter_followers</th>\n",
              "      <th>inter_followees</th>\n",
              "      <th>jaccard_followers</th>\n",
              "      <th>jaccard_followees</th>\n",
              "      <th>cosine_followers</th>\n",
              "      <th>cosine_followees</th>\n",
              "      <th>adar_index</th>\n",
              "      <th>follows_back</th>\n",
              "      <th>same_comp</th>\n",
              "      <th>shortest_path</th>\n",
              "      <th>weight_in</th>\n",
              "      <th>weight_out</th>\n",
              "      <th>weight_f1</th>\n",
              "      <th>weight_f2</th>\n",
              "      <th>weight_f3</th>\n",
              "      <th>weight_f4</th>\n",
              "      <th>page_rank_s</th>\n",
              "      <th>page_rank_d</th>\n",
              "      <th>katz_s</th>\n",
              "      <th>katz_d</th>\n",
              "      <th>hubs_s</th>\n",
              "      <th>hubs_d</th>\n",
              "      <th>authorities_s</th>\n",
              "      <th>authorities_d</th>\n",
              "      <th>svd_u_s_1</th>\n",
              "      <th>svd_u_s_2</th>\n",
              "      <th>svd_u_s_3</th>\n",
              "      <th>svd_u_s_4</th>\n",
              "      <th>svd_u_s_5</th>\n",
              "      <th>svd_u_s_6</th>\n",
              "      <th>svd_u_d_1</th>\n",
              "      <th>svd_u_d_2</th>\n",
              "      <th>svd_u_d_3</th>\n",
              "      <th>svd_u_d_4</th>\n",
              "      <th>svd_u_d_5</th>\n",
              "      <th>svd_u_d_6</th>\n",
              "      <th>svd_v_s_1</th>\n",
              "      <th>svd_v_s_2</th>\n",
              "      <th>svd_v_s_3</th>\n",
              "      <th>svd_v_s_4</th>\n",
              "      <th>svd_v_s_5</th>\n",
              "      <th>svd_v_s_6</th>\n",
              "      <th>svd_v_d_1</th>\n",
              "      <th>svd_v_d_2</th>\n",
              "      <th>svd_v_d_3</th>\n",
              "      <th>svd_v_d_4</th>\n",
              "      <th>svd_v_d_5</th>\n",
              "      <th>svd_v_d_6</th>\n",
              "      <th>Preferential_Attachment</th>\n",
              "    </tr>\n",
              "  </thead>\n",
              "  <tbody>\n",
              "    <tr>\n",
              "      <th>0</th>\n",
              "      <td>11</td>\n",
              "      <td>15</td>\n",
              "      <td>6</td>\n",
              "      <td>8</td>\n",
              "      <td>0</td>\n",
              "      <td>0</td>\n",
              "      <td>0</td>\n",
              "      <td>0.000000</td>\n",
              "      <td>0.000000</td>\n",
              "      <td>0.000000</td>\n",
              "      <td>0.000000</td>\n",
              "      <td>0</td>\n",
              "      <td>1</td>\n",
              "      <td>4</td>\n",
              "      <td>0.377964</td>\n",
              "      <td>0.250000</td>\n",
              "      <td>0.627964</td>\n",
              "      <td>0.094491</td>\n",
              "      <td>1.005929</td>\n",
              "      <td>0.877964</td>\n",
              "      <td>2.045290e-06</td>\n",
              "      <td>3.459963e-07</td>\n",
              "      <td>0.000773</td>\n",
              "      <td>0.000756</td>\n",
              "      <td>1.943132e-13</td>\n",
              "      <td>1.941103e-13</td>\n",
              "      <td>9.226338e-16</td>\n",
              "      <td>2.231877e-15</td>\n",
              "      <td>-1.666334e-13</td>\n",
              "      <td>4.613820e-13</td>\n",
              "      <td>1.043041e-05</td>\n",
              "      <td>6.678033e-13</td>\n",
              "      <td>2.451105e-13</td>\n",
              "      <td>3.584945e-12</td>\n",
              "      <td>-2.038018e-11</td>\n",
              "      <td>5.397910e-13</td>\n",
              "      <td>1.068943e-06</td>\n",
              "      <td>1.192461e-12</td>\n",
              "      <td>2.279488e-12</td>\n",
              "      <td>3.581202e-12</td>\n",
              "      <td>-7.216151e-13</td>\n",
              "      <td>3.926263e-13</td>\n",
              "      <td>1.983700e-06</td>\n",
              "      <td>1.545089e-13</td>\n",
              "      <td>8.108438e-13</td>\n",
              "      <td>1.719704e-14</td>\n",
              "      <td>-1.355369e-12</td>\n",
              "      <td>4.675320e-13</td>\n",
              "      <td>1.128586e-06</td>\n",
              "      <td>6.616718e-14</td>\n",
              "      <td>9.771079e-13</td>\n",
              "      <td>4.160011e-14</td>\n",
              "      <td>165</td>\n",
              "    </tr>\n",
              "    <tr>\n",
              "      <th>1</th>\n",
              "      <td>1</td>\n",
              "      <td>1</td>\n",
              "      <td>2</td>\n",
              "      <td>4</td>\n",
              "      <td>0</td>\n",
              "      <td>0</td>\n",
              "      <td>0</td>\n",
              "      <td>0.000000</td>\n",
              "      <td>0.000000</td>\n",
              "      <td>0.000000</td>\n",
              "      <td>0.000000</td>\n",
              "      <td>1</td>\n",
              "      <td>1</td>\n",
              "      <td>-1</td>\n",
              "      <td>0.707107</td>\n",
              "      <td>1.000000</td>\n",
              "      <td>1.707107</td>\n",
              "      <td>0.707107</td>\n",
              "      <td>2.414214</td>\n",
              "      <td>2.707107</td>\n",
              "      <td>2.848986e-07</td>\n",
              "      <td>8.815667e-07</td>\n",
              "      <td>0.000735</td>\n",
              "      <td>0.000739</td>\n",
              "      <td>1.269882e-25</td>\n",
              "      <td>5.132992e-22</td>\n",
              "      <td>-4.228372e-25</td>\n",
              "      <td>1.769218e-23</td>\n",
              "      <td>2.664749e-20</td>\n",
              "      <td>-1.157780e-20</td>\n",
              "      <td>5.054768e-21</td>\n",
              "      <td>-4.121226e-21</td>\n",
              "      <td>-6.844900e-21</td>\n",
              "      <td>-2.419884e-21</td>\n",
              "      <td>-2.345005e-19</td>\n",
              "      <td>3.794328e-19</td>\n",
              "      <td>1.201924e-15</td>\n",
              "      <td>1.979214e-18</td>\n",
              "      <td>2.475750e-19</td>\n",
              "      <td>1.240339e-19</td>\n",
              "      <td>-2.375419e-21</td>\n",
              "      <td>3.780707e-21</td>\n",
              "      <td>1.166711e-17</td>\n",
              "      <td>1.891645e-20</td>\n",
              "      <td>1.978105e-21</td>\n",
              "      <td>8.812075e-22</td>\n",
              "      <td>4.100889e-22</td>\n",
              "      <td>-1.109874e-22</td>\n",
              "      <td>-7.564718e-22</td>\n",
              "      <td>1.294405e-22</td>\n",
              "      <td>-1.703874e-21</td>\n",
              "      <td>-1.242423e-21</td>\n",
              "      <td>1</td>\n",
              "    </tr>\n",
              "    <tr>\n",
              "      <th>2</th>\n",
              "      <td>9</td>\n",
              "      <td>11</td>\n",
              "      <td>7</td>\n",
              "      <td>12</td>\n",
              "      <td>5</td>\n",
              "      <td>8</td>\n",
              "      <td>0</td>\n",
              "      <td>0.533333</td>\n",
              "      <td>0.238095</td>\n",
              "      <td>0.696311</td>\n",
              "      <td>6.349752</td>\n",
              "      <td>1</td>\n",
              "      <td>1</td>\n",
              "      <td>2</td>\n",
              "      <td>0.353553</td>\n",
              "      <td>0.288675</td>\n",
              "      <td>0.642229</td>\n",
              "      <td>0.102062</td>\n",
              "      <td>0.995782</td>\n",
              "      <td>0.930904</td>\n",
              "      <td>4.125339e-07</td>\n",
              "      <td>3.670567e-07</td>\n",
              "      <td>0.000767</td>\n",
              "      <td>0.000759</td>\n",
              "      <td>5.111827e-18</td>\n",
              "      <td>4.366027e-17</td>\n",
              "      <td>1.470239e-18</td>\n",
              "      <td>7.401076e-19</td>\n",
              "      <td>-1.496567e-15</td>\n",
              "      <td>1.305161e-09</td>\n",
              "      <td>6.575124e-12</td>\n",
              "      <td>1.439959e-16</td>\n",
              "      <td>1.157901e-11</td>\n",
              "      <td>9.443999e-17</td>\n",
              "      <td>-1.093941e-14</td>\n",
              "      <td>1.904798e-09</td>\n",
              "      <td>1.301123e-11</td>\n",
              "      <td>3.456752e-16</td>\n",
              "      <td>1.169048e-11</td>\n",
              "      <td>8.056866e-16</td>\n",
              "      <td>-9.158861e-16</td>\n",
              "      <td>3.320511e-09</td>\n",
              "      <td>1.542778e-11</td>\n",
              "      <td>1.787406e-16</td>\n",
              "      <td>1.205198e-12</td>\n",
              "      <td>2.740117e-17</td>\n",
              "      <td>-5.886752e-16</td>\n",
              "      <td>1.802078e-09</td>\n",
              "      <td>2.204444e-11</td>\n",
              "      <td>1.555496e-16</td>\n",
              "      <td>1.273806e-12</td>\n",
              "      <td>1.378817e-17</td>\n",
              "      <td>99</td>\n",
              "    </tr>\n",
              "    <tr>\n",
              "      <th>3</th>\n",
              "      <td>8</td>\n",
              "      <td>4</td>\n",
              "      <td>4</td>\n",
              "      <td>0</td>\n",
              "      <td>0</td>\n",
              "      <td>0</td>\n",
              "      <td>0</td>\n",
              "      <td>0.000000</td>\n",
              "      <td>0.000000</td>\n",
              "      <td>0.000000</td>\n",
              "      <td>0.000000</td>\n",
              "      <td>0</td>\n",
              "      <td>1</td>\n",
              "      <td>7</td>\n",
              "      <td>0.447214</td>\n",
              "      <td>0.447214</td>\n",
              "      <td>0.894427</td>\n",
              "      <td>0.200000</td>\n",
              "      <td>1.341641</td>\n",
              "      <td>1.341641</td>\n",
              "      <td>4.157247e-07</td>\n",
              "      <td>4.305786e-07</td>\n",
              "      <td>0.000765</td>\n",
              "      <td>0.000747</td>\n",
              "      <td>4.139790e-17</td>\n",
              "      <td>-0.000000e+00</td>\n",
              "      <td>1.300593e-11</td>\n",
              "      <td>2.189555e-15</td>\n",
              "      <td>-2.715901e-13</td>\n",
              "      <td>1.596690e-11</td>\n",
              "      <td>6.804195e-11</td>\n",
              "      <td>3.135976e-14</td>\n",
              "      <td>3.712109e-13</td>\n",
              "      <td>7.639383e-16</td>\n",
              "      <td>-5.758625e-20</td>\n",
              "      <td>1.193430e-20</td>\n",
              "      <td>-1.261849e-19</td>\n",
              "      <td>4.548044e-20</td>\n",
              "      <td>-2.548690e-19</td>\n",
              "      <td>-2.305486e-19</td>\n",
              "      <td>-1.760238e-11</td>\n",
              "      <td>3.160858e-10</td>\n",
              "      <td>8.484276e-08</td>\n",
              "      <td>4.211469e-10</td>\n",
              "      <td>3.800009e-10</td>\n",
              "      <td>2.424184e-10</td>\n",
              "      <td>-5.288898e-13</td>\n",
              "      <td>5.425534e-13</td>\n",
              "      <td>1.850888e-11</td>\n",
              "      <td>1.384282e-12</td>\n",
              "      <td>4.168514e-12</td>\n",
              "      <td>4.081128e-14</td>\n",
              "      <td>32</td>\n",
              "    </tr>\n",
              "    <tr>\n",
              "      <th>4</th>\n",
              "      <td>9</td>\n",
              "      <td>24</td>\n",
              "      <td>18</td>\n",
              "      <td>21</td>\n",
              "      <td>0</td>\n",
              "      <td>0</td>\n",
              "      <td>0</td>\n",
              "      <td>0.000000</td>\n",
              "      <td>0.000000</td>\n",
              "      <td>0.000000</td>\n",
              "      <td>0.000000</td>\n",
              "      <td>1</td>\n",
              "      <td>1</td>\n",
              "      <td>5</td>\n",
              "      <td>0.229416</td>\n",
              "      <td>0.200000</td>\n",
              "      <td>0.429416</td>\n",
              "      <td>0.045883</td>\n",
              "      <td>0.658831</td>\n",
              "      <td>0.629416</td>\n",
              "      <td>6.228469e-07</td>\n",
              "      <td>2.121543e-06</td>\n",
              "      <td>0.000766</td>\n",
              "      <td>0.000804</td>\n",
              "      <td>4.023255e-15</td>\n",
              "      <td>4.931377e-14</td>\n",
              "      <td>1.272032e-15</td>\n",
              "      <td>7.589346e-15</td>\n",
              "      <td>-1.122041e-10</td>\n",
              "      <td>1.215834e-10</td>\n",
              "      <td>5.107618e-10</td>\n",
              "      <td>1.554413e-12</td>\n",
              "      <td>1.532345e-11</td>\n",
              "      <td>7.422604e-14</td>\n",
              "      <td>-1.391821e-10</td>\n",
              "      <td>2.144762e-11</td>\n",
              "      <td>2.764876e-10</td>\n",
              "      <td>3.858866e-11</td>\n",
              "      <td>4.866720e-11</td>\n",
              "      <td>9.098049e-13</td>\n",
              "      <td>-4.543506e-12</td>\n",
              "      <td>1.113034e-11</td>\n",
              "      <td>9.458169e-11</td>\n",
              "      <td>8.173488e-13</td>\n",
              "      <td>1.271341e-12</td>\n",
              "      <td>2.370950e-14</td>\n",
              "      <td>-1.350728e-11</td>\n",
              "      <td>7.361995e-12</td>\n",
              "      <td>9.126301e-10</td>\n",
              "      <td>3.804457e-12</td>\n",
              "      <td>7.956920e-12</td>\n",
              "      <td>1.414584e-13</td>\n",
              "      <td>216</td>\n",
              "    </tr>\n",
              "  </tbody>\n",
              "</table>\n",
              "</div>"
            ],
            "text/plain": [
              "   num_followers_s  num_followers_d  ...     svd_v_d_6  Preferential_Attachment\n",
              "0               11               15  ...  4.160011e-14                      165\n",
              "1                1                1  ... -1.242423e-21                        1\n",
              "2                9               11  ...  1.378817e-17                       99\n",
              "3                8                4  ...  4.081128e-14                       32\n",
              "4                9               24  ...  1.414584e-13                      216\n",
              "\n",
              "[5 rows x 53 columns]"
            ]
          },
          "metadata": {},
          "execution_count": 8
        }
      ]
    },
    {
      "cell_type": "code",
      "metadata": {
        "id": "Grk7b4ASkrVN"
      },
      "source": [
        "#  create XGBoost models , perform cross-validation and plot features importance\n",
        "# also Model Report like Accuracy and AUC Score for trian data\n",
        "\n",
        "def modelfit(alg, dtrain, y_train,useTrainCV=True, cv_folds=5, early_stopping_rounds=50):\n",
        "    \n",
        "    if useTrainCV:\n",
        "        xgb_param = alg.get_xgb_params()\n",
        "        xgtrain = xgb.DMatrix(dtrain.values, label=y_train.values)\n",
        "        cvresult = xgb.cv(xgb_param, xgtrain, num_boost_round=alg.get_params()['n_estimators'], nfold=cv_folds,\n",
        "            metrics='auc', early_stopping_rounds=early_stopping_rounds)\n",
        "        alg.set_params(n_estimators=cvresult.shape[0])\n",
        "    \n",
        "    #Fit the algorithm on the data\n",
        "    alg.fit(dtrain, y_train, eval_metric='auc')\n",
        "        \n",
        "    #Predict training set:\n",
        "    dtrain_predictions = alg.predict(dtrain)\n",
        "    dtrain_predprob = alg.predict_proba(dtrain)[:,1]\n",
        "        \n",
        "    #Print model report:\n",
        "    print(\"\\nModel Report\")\n",
        "    print(\"Accuracy : %.4g\" % metrics.accuracy_score(y_train.values, dtrain_predictions))\n",
        "    print(\"AUC Score (Train): %f\" % metrics.roc_auc_score(y_train, dtrain_predprob))\n",
        "                    \n",
        "    #feat_imp = pd.Series(alg.booster().get_fscore()).sort_values(ascending=False)\n",
        "    #feat_imp.plot(kind='bar', title='Feature Importances')\n",
        "    #plt.ylabel('Feature Importance Score')\n",
        "    \n",
        "    features = dtrain.columns\n",
        "    importances = alg.feature_importances_\n",
        "    indices = (np.argsort(importances))[-25:]\n",
        "    plt.figure(figsize=(10,12))\n",
        "    plt.title('Feature Importances')\n",
        "    plt.barh(range(len(indices)), importances[indices], color='r', align='center')\n",
        "    plt.yticks(range(len(indices)), [features[i] for i in indices])\n",
        "    plt.xlabel('Relative Importance')\n",
        "    plt.show()"
      ],
      "execution_count": null,
      "outputs": []
    },
    {
      "cell_type": "markdown",
      "metadata": {
        "id": "uzVlxV4_yRxx"
      },
      "source": [
        "## 6.1 Without tunning"
      ]
    },
    {
      "cell_type": "code",
      "metadata": {
        "colab": {
          "base_uri": "https://localhost:8080/",
          "height": 798
        },
        "id": "awTrsV11lT-8",
        "outputId": "fe778f4c-06af-4cac-f890-ebaa5c6e36fb"
      },
      "source": [
        "\n",
        "# %%time\n",
        "xgb1 = xgb.XGBClassifier(\n",
        " learning_rate =0.1,\n",
        " n_estimators=1000,\n",
        " max_depth=5,\n",
        " min_child_weight=1,\n",
        " gamma=0,\n",
        " subsample=0.8,\n",
        " colsample_bytree=0.8,\n",
        " objective= 'binary:logistic',\n",
        " nthread=4,\n",
        " scale_pos_weight=1,\n",
        " seed=27)\n",
        "\n",
        "\n",
        "modelfit(xgb1, df_final_train, y_train)"
      ],
      "execution_count": null,
      "outputs": [
        {
          "output_type": "stream",
          "name": "stdout",
          "text": [
            "\n",
            "Model Report\n",
            "Accuracy : 0.9999\n",
            "AUC Score (Train): 1.000000\n"
          ]
        },
        {
          "output_type": "display_data",
          "data": {
            "image/png": "[encoded data removed]",
            "text/plain": [
              "<Figure size 720x864 with 1 Axes>"
            ]
          },
          "metadata": {
            "needs_background": "light"
          }
        }
      ]
    },
    {
      "cell_type": "code",
      "metadata": {
        "id": "hBaljiWKcDOd"
      },
      "source": [
        "y_train_pred1 = xgb1.predict(df_final_train)\n",
        "y_test_pred1 = xgb1.predict(df_final_test)"
      ],
      "execution_count": null,
      "outputs": []
    },
    {
      "cell_type": "code",
      "metadata": {
        "colab": {
          "base_uri": "https://localhost:8080/"
        },
        "id": "PlGgavKmcbj6",
        "outputId": "edb54bad-3ba6-4c90-e4b1-a5aaa8b1d136"
      },
      "source": [
        "#f1 score\n",
        "print('Train f1 score',f1_score(y_train,y_train_pred))\n",
        "print('Test f1 score',f1_score(y_test,y_test_pred))"
      ],
      "execution_count": null,
      "outputs": [
        {
          "output_type": "stream",
          "name": "stdout",
          "text": [
            "Train f1 score 0.9773574555834341\n",
            "Test f1 score 0.9343707713125846\n"
          ]
        }
      ]
    },
    {
      "cell_type": "code",
      "metadata": {
        "colab": {
          "base_uri": "https://localhost:8080/",
          "height": 606
        },
        "id": "1vCwWuZfc1Dr",
        "outputId": "227ea8bc-4987-4223-e2b9-fcbf0b0ce1e1"
      },
      "source": [
        "print('Train confusion_matrix')\n",
        "plot_confusion_matrix(y_train,y_train_pred1)\n",
        "print('Test confusion_matrix')\n",
        "plot_confusion_matrix(y_test,y_test_pred1)"
      ],
      "execution_count": null,
      "outputs": [
        {
          "output_type": "stream",
          "name": "stdout",
          "text": [
            "Train confusion_matrix\n"
          ]
        },
        {
          "output_type": "display_data",
          "data": {
            "image/png": "[encoded data removed]",
            "text/plain": [
              "<Figure size 1440x288 with 6 Axes>"
            ]
          },
          "metadata": {
            "needs_background": "light"
          }
        },
        {
          "output_type": "stream",
          "name": "stdout",
          "text": [
            "Test confusion_matrix\n"
          ]
        },
        {
          "output_type": "display_data",
          "data": {
            "image/png": "[encoded data removed]",
            "text/plain": [
              "<Figure size 1440x288 with 6 Axes>"
            ]
          },
          "metadata": {
            "needs_background": "light"
          }
        }
      ]
    },
    {
      "cell_type": "markdown",
      "metadata": {
        "id": "CUPfaG4Azwzy"
      },
      "source": [
        "## 6.2 Tune max_depth and min_child_weight\n",
        "\n",
        "**We tune these first as they will have the highest impact on model outcome**"
      ]
    },
    {
      "cell_type": "code",
      "metadata": {
        "id": "ErUD5qtv0D-i"
      },
      "source": [
        "param_test1 = {\n",
        " 'max_depth':[4,5,6],\n",
        " 'min_child_weight':[4,5,6]\n",
        "}\n",
        "\n",
        "gsearch1 = GridSearchCV(estimator = xgb.XGBClassifier( learning_rate =0.1, n_estimators=140, max_depth=5,\n",
        " min_child_weight=1, gamma=0, subsample=0.8, colsample_bytree=0.8,\n",
        " objective= 'binary:logistic', nthread=4, scale_pos_weight=1, seed=27), \n",
        " param_grid = param_test1, scoring='roc_auc',n_jobs=4,iid=False, cv=5)\n",
        "\n",
        "gsearch1.fit(df_final_train, y_train)\n",
        "\n"
      ],
      "execution_count": null,
      "outputs": []
    },
    {
      "cell_type": "code",
      "metadata": {
        "colab": {
          "base_uri": "https://localhost:8080/"
        },
        "id": "_qJoKf-RNwq1",
        "outputId": "60963dc1-34ef-4a88-f2b4-313ff9709ba8"
      },
      "source": [
        "gsearch1.cv_results_, gsearch1.best_params_, gsearch1.best_score_"
      ],
      "execution_count": null,
      "outputs": [
        {
          "data": {
            "text/plain": [
              "({'mean_fit_time': array([117.60209055, 118.65480461, 118.19331827, 144.68628225,\n",
              "         142.90851202, 142.84110146, 170.47189317, 169.23256326,\n",
              "         141.34667325]),\n",
              "  'mean_score_time': array([0.3678843 , 0.40350976, 0.43002129, 0.45034356, 0.47057018,\n",
              "         0.44773183, 0.53685918, 0.53038602, 0.37908483]),\n",
              "  'mean_test_score': array([0.997723  , 0.997673  , 0.9977135 , 0.99815544, 0.99815569,\n",
              "         0.99815859, 0.99842931, 0.99841561, 0.99843368]),\n",
              "  'param_max_depth': masked_array(data=[4, 4, 4, 5, 5, 5, 6, 6, 6],\n",
              "               mask=[False, False, False, False, False, False, False, False,\n",
              "                     False],\n",
              "         fill_value='?',\n",
              "              dtype=object),\n",
              "  'param_min_child_weight': masked_array(data=[4, 5, 6, 4, 5, 6, 4, 5, 6],\n",
              "               mask=[False, False, False, False, False, False, False, False,\n",
              "                     False],\n",
              "         fill_value='?',\n",
              "              dtype=object),\n",
              "  'params': [{'max_depth': 4, 'min_child_weight': 4},\n",
              "   {'max_depth': 4, 'min_child_weight': 5},\n",
              "   {'max_depth': 4, 'min_child_weight': 6},\n",
              "   {'max_depth': 5, 'min_child_weight': 4},\n",
              "   {'max_depth': 5, 'min_child_weight': 5},\n",
              "   {'max_depth': 5, 'min_child_weight': 6},\n",
              "   {'max_depth': 6, 'min_child_weight': 4},\n",
              "   {'max_depth': 6, 'min_child_weight': 5},\n",
              "   {'max_depth': 6, 'min_child_weight': 6}],\n",
              "  'rank_test_score': array([7, 9, 8, 6, 5, 4, 2, 3, 1], dtype=int32),\n",
              "  'split0_test_score': array([0.99763375, 0.99758741, 0.99769539, 0.99811046, 0.99814042,\n",
              "         0.99809884, 0.99844133, 0.99845551, 0.99842335]),\n",
              "  'split1_test_score': array([0.99796575, 0.9979544 , 0.99801513, 0.99828264, 0.99832077,\n",
              "         0.99837918, 0.99855688, 0.99858192, 0.99857043]),\n",
              "  'split2_test_score': array([0.9976281 , 0.99757775, 0.99752485, 0.99802174, 0.99799644,\n",
              "         0.9980358 , 0.99833765, 0.99831761, 0.99834653]),\n",
              "  'split3_test_score': array([0.99767007, 0.99754715, 0.99762247, 0.99814874, 0.99808311,\n",
              "         0.9980867 , 0.99839552, 0.99836252, 0.99838112]),\n",
              "  'split4_test_score': array([0.99771736, 0.99769831, 0.99770968, 0.99821361, 0.9982377 ,\n",
              "         0.99819246, 0.99841516, 0.99836047, 0.99844697]),\n",
              "  'std_fit_time': array([ 1.33938985,  1.12529121,  0.63399161,  1.11225854,  0.7568961 ,\n",
              "          0.5141672 ,  1.27495125,  0.51488581, 38.39471211]),\n",
              "  'std_score_time': array([0.08092045, 0.07737869, 0.02633599, 0.05101733, 0.02137794,\n",
              "         0.06750434, 0.03796725, 0.04252115, 0.1937885 ]),\n",
              "  'std_test_score': array([1.25484084e-04, 1.49706145e-04, 1.64436216e-04, 8.88908485e-05,\n",
              "         1.13876471e-04, 1.21345452e-04, 7.23358342e-05, 9.45654911e-05,\n",
              "         7.66053199e-05])},\n",
              " {'max_depth': 6, 'min_child_weight': 6},\n",
              " 0.9984336808222734)"
            ]
          },
          "execution_count": 15,
          "metadata": {},
          "output_type": "execute_result"
        }
      ]
    },
    {
      "cell_type": "code",
      "metadata": {
        "id": "-95Xw0o4Xf_n",
        "colab": {
          "base_uri": "https://localhost:8080/"
        },
        "outputId": "43b03eb7-dac2-4eb7-dc87-d3d609f39e1c"
      },
      "source": [
        "param_test2 = {\n",
        " 'max_depth':[7,8,9,10],\n",
        " 'min_child_weight':[7,8,9,10]\n",
        "}\n",
        "\n",
        "gsearch2 = GridSearchCV(estimator = xgb.XGBClassifier( learning_rate =0.1, n_estimators=140, max_depth=5,\n",
        " min_child_weight=1, gamma=0, subsample=0.8, colsample_bytree=0.8,\n",
        " objective= 'binary:logistic', nthread=4, scale_pos_weight=1, seed=27), \n",
        " param_grid = param_test2, scoring='roc_auc',n_jobs=4,iid=False, cv=5)\n",
        "\n",
        "gsearch2.fit(df_final_train, y_train)"
      ],
      "execution_count": null,
      "outputs": [
        {
          "output_type": "execute_result",
          "data": {
            "text/plain": [
              "GridSearchCV(cv=5, error_score=nan,\n",
              "             estimator=XGBClassifier(base_score=0.5, booster='gbtree',\n",
              "                                     colsample_bylevel=1, colsample_bynode=1,\n",
              "                                     colsample_bytree=0.8, gamma=0,\n",
              "                                     learning_rate=0.1, max_delta_step=0,\n",
              "                                     max_depth=5, min_child_weight=1,\n",
              "                                     missing=None, n_estimators=140, n_jobs=1,\n",
              "                                     nthread=4, objective='binary:logistic',\n",
              "                                     random_state=0, reg_alpha=0, reg_lambda=1,\n",
              "                                     scale_pos_weight=1, seed=27, silent=None,\n",
              "                                     subsample=0.8, verbosity=1),\n",
              "             iid=False, n_jobs=4,\n",
              "             param_grid={'max_depth': [7, 8, 9, 10],\n",
              "                         'min_child_weight': [7, 8, 9, 10]},\n",
              "             pre_dispatch='2*n_jobs', refit=True, return_train_score=False,\n",
              "             scoring='roc_auc', verbose=0)"
            ]
          },
          "metadata": {},
          "execution_count": 11
        }
      ]
    },
    {
      "cell_type": "code",
      "metadata": {
        "colab": {
          "base_uri": "https://localhost:8080/"
        },
        "id": "NbUBNUFApnG_",
        "outputId": "d3d8d4d9-000a-46b5-de91-e498ebde4a5b"
      },
      "source": [
        "gsearch2.cv_results_, gsearch2.best_params_, gsearch2.best_score_"
      ],
      "execution_count": null,
      "outputs": [
        {
          "output_type": "execute_result",
          "data": {
            "text/plain": [
              "({'mean_fit_time': array([190.01221142, 189.71799364, 188.70190296, 190.01420493,\n",
              "         211.67293115, 209.28460903, 208.68195667, 209.08327169,\n",
              "         232.82802982, 231.60584469, 231.22857075, 228.7414125 ,\n",
              "         253.53730559, 250.17140412, 246.88511853, 245.1337965 ]),\n",
              "  'mean_score_time': array([0.47819114, 0.59449501, 0.57177587, 0.56907306, 0.58422222,\n",
              "         0.5228219 , 0.64780364, 0.62401037, 0.6523047 , 0.6479568 ,\n",
              "         0.62581573, 0.59366679, 0.66875148, 0.72328477, 0.65081887,\n",
              "         0.46226873]),\n",
              "  'mean_test_score': array([0.99860249, 0.99859173, 0.99858253, 0.998579  , 0.99870812,\n",
              "         0.99869966, 0.99870612, 0.9987187 , 0.9988146 , 0.99879329,\n",
              "         0.99879076, 0.99880361, 0.99884058, 0.99883316, 0.99882518,\n",
              "         0.99882768]),\n",
              "  'param_max_depth': masked_array(data=[7, 7, 7, 7, 8, 8, 8, 8, 9, 9, 9, 9, 10, 10, 10, 10],\n",
              "               mask=[False, False, False, False, False, False, False, False,\n",
              "                     False, False, False, False, False, False, False, False],\n",
              "         fill_value='?',\n",
              "              dtype=object),\n",
              "  'param_min_child_weight': masked_array(data=[7, 8, 9, 10, 7, 8, 9, 10, 7, 8, 9, 10, 7, 8, 9, 10],\n",
              "               mask=[False, False, False, False, False, False, False, False,\n",
              "                     False, False, False, False, False, False, False, False],\n",
              "         fill_value='?',\n",
              "              dtype=object),\n",
              "  'params': [{'max_depth': 7, 'min_child_weight': 7},\n",
              "   {'max_depth': 7, 'min_child_weight': 8},\n",
              "   {'max_depth': 7, 'min_child_weight': 9},\n",
              "   {'max_depth': 7, 'min_child_weight': 10},\n",
              "   {'max_depth': 8, 'min_child_weight': 7},\n",
              "   {'max_depth': 8, 'min_child_weight': 8},\n",
              "   {'max_depth': 8, 'min_child_weight': 9},\n",
              "   {'max_depth': 8, 'min_child_weight': 10},\n",
              "   {'max_depth': 9, 'min_child_weight': 7},\n",
              "   {'max_depth': 9, 'min_child_weight': 8},\n",
              "   {'max_depth': 9, 'min_child_weight': 9},\n",
              "   {'max_depth': 9, 'min_child_weight': 10},\n",
              "   {'max_depth': 10, 'min_child_weight': 7},\n",
              "   {'max_depth': 10, 'min_child_weight': 8},\n",
              "   {'max_depth': 10, 'min_child_weight': 9},\n",
              "   {'max_depth': 10, 'min_child_weight': 10}],\n",
              "  'rank_test_score': array([13, 14, 15, 16, 10, 12, 11,  9,  5,  7,  8,  6,  1,  2,  4,  3],\n",
              "        dtype=int32),\n",
              "  'split0_test_score': array([0.99867118, 0.99859187, 0.9986314 , 0.99855889, 0.99873375,\n",
              "         0.99880394, 0.99875569, 0.9988093 , 0.99891499, 0.99887343,\n",
              "         0.99887554, 0.99886046, 0.99888722, 0.9989068 , 0.9989361 ,\n",
              "         0.99891144]),\n",
              "  'split1_test_score': array([0.99868255, 0.99875196, 0.99870859, 0.99870251, 0.99878671,\n",
              "         0.9988815 , 0.99884386, 0.99878508, 0.9988783 , 0.99885294,\n",
              "         0.99887363, 0.99890921, 0.99892997, 0.99893009, 0.9989532 ,\n",
              "         0.9989456 ]),\n",
              "  'split2_test_score': array([0.99851084, 0.99846096, 0.99850945, 0.99852589, 0.99869389,\n",
              "         0.99853527, 0.99858938, 0.99867442, 0.99873695, 0.99870526,\n",
              "         0.99870031, 0.99874874, 0.99882076, 0.99877633, 0.99871953,\n",
              "         0.99873023]),\n",
              "  'split3_test_score': array([0.99855078, 0.99854463, 0.99853125, 0.99854093, 0.99864573,\n",
              "         0.99862447, 0.99863822, 0.99863164, 0.99874258, 0.99877349,\n",
              "         0.99872654, 0.99874453, 0.99878296, 0.99877696, 0.99872712,\n",
              "         0.99874689]),\n",
              "  'split4_test_score': array([0.99859709, 0.99860924, 0.99853198, 0.99856677, 0.99868052,\n",
              "         0.99865312, 0.99870343, 0.99869307, 0.99880015, 0.99876132,\n",
              "         0.99877777, 0.99875511, 0.99878198, 0.9987756 , 0.99878993,\n",
              "         0.99880425]),\n",
              "  'std_fit_time': array([1.25914606, 0.95043507, 1.05470003, 0.98958034, 0.55664356,\n",
              "         0.51643333, 1.42700112, 1.40093977, 0.88988979, 0.73196166,\n",
              "         0.94544285, 1.00201524, 1.07110831, 2.01242346, 0.37216083,\n",
              "         1.11313214]),\n",
              "  'std_score_time': array([0.0826783 , 0.04178102, 0.06273134, 0.04072448, 0.06828372,\n",
              "         0.06559654, 0.02947114, 0.04463669, 0.03244208, 0.0378343 ,\n",
              "         0.06216438, 0.03814173, 0.05317847, 0.03804794, 0.07282745,\n",
              "         0.21927585]),\n",
              "  'std_test_score': array([6.66805004e-05, 9.51840765e-05, 7.59023652e-05, 6.33706169e-05,\n",
              "         4.83529510e-05, 1.25526610e-04, 8.90789995e-05, 6.75453830e-05,\n",
              "         7.14998186e-05, 6.18757650e-05, 7.28400093e-05, 6.81708607e-05,\n",
              "         5.88439972e-05, 7.00290304e-05, 1.00710961e-04, 8.65952401e-05])},\n",
              " {'max_depth': 10, 'min_child_weight': 7},\n",
              " 0.9988405810647784)"
            ]
          },
          "metadata": {},
          "execution_count": 13
        }
      ]
    },
    {
      "cell_type": "markdown",
      "metadata": {
        "id": "nswHwVKRsORq"
      },
      "source": [
        "## 6.3 Tunning gamma"
      ]
    },
    {
      "cell_type": "code",
      "metadata": {
        "colab": {
          "base_uri": "https://localhost:8080/"
        },
        "id": "GbZ0svqxsTyP",
        "outputId": "2476745b-b2ab-48d7-bb06-0bad97429bea"
      },
      "source": [
        "param_test3 = {\n",
        "  'gamma':[i/10.0 for i in range(0,5)]\n",
        "}\n",
        "\n",
        "gsearch3 = GridSearchCV(estimator = xgb.XGBClassifier( learning_rate =0.1, n_estimators=140, max_depth=10,\n",
        " min_child_weight=7, gamma=0, subsample=0.8, colsample_bytree=0.8,\n",
        " objective= 'binary:logistic', nthread=4, scale_pos_weight=1, seed=27), \n",
        " param_grid = param_test3, scoring='roc_auc',n_jobs=4,iid=False, cv=5)\n",
        "\n",
        "gsearch3.fit(df_final_train, y_train)"
      ],
      "execution_count": null,
      "outputs": [
        {
          "output_type": "execute_result",
          "data": {
            "text/plain": [
              "GridSearchCV(cv=5, error_score=nan,\n",
              "             estimator=XGBClassifier(base_score=0.5, booster='gbtree',\n",
              "                                     colsample_bylevel=1, colsample_bynode=1,\n",
              "                                     colsample_bytree=0.8, gamma=0,\n",
              "                                     learning_rate=0.1, max_delta_step=0,\n",
              "                                     max_depth=10, min_child_weight=7,\n",
              "                                     missing=None, n_estimators=140, n_jobs=1,\n",
              "                                     nthread=4, objective='binary:logistic',\n",
              "                                     random_state=0, reg_alpha=0, reg_lambda=1,\n",
              "                                     scale_pos_weight=1, seed=27, silent=None,\n",
              "                                     subsample=0.8, verbosity=1),\n",
              "             iid=False, n_jobs=4,\n",
              "             param_grid={'gamma': [0.0, 0.1, 0.2, 0.3, 0.4]},\n",
              "             pre_dispatch='2*n_jobs', refit=True, return_train_score=False,\n",
              "             scoring='roc_auc', verbose=0)"
            ]
          },
          "metadata": {},
          "execution_count": 14
        }
      ]
    },
    {
      "cell_type": "code",
      "metadata": {
        "colab": {
          "base_uri": "https://localhost:8080/"
        },
        "id": "W-Q_zcL1_DTM",
        "outputId": "21d1406f-0058-4b3b-aacc-7bfd41428ce9"
      },
      "source": [
        "gsearch3.cv_results_, gsearch3.best_params_, gsearch3.best_score_"
      ],
      "execution_count": null,
      "outputs": [
        {
          "output_type": "execute_result",
          "data": {
            "text/plain": [
              "({'mean_fit_time': array([250.97332397, 249.98664575, 250.1692214 , 252.30742087,\n",
              "         214.72053881]),\n",
              "  'mean_score_time': array([0.65590968, 0.66591325, 0.72731447, 0.71328616, 0.48147211]),\n",
              "  'mean_test_score': array([0.99884058, 0.99883509, 0.99885611, 0.99885151, 0.99885203]),\n",
              "  'param_gamma': masked_array(data=[0.0, 0.1, 0.2, 0.3, 0.4],\n",
              "               mask=[False, False, False, False, False],\n",
              "         fill_value='?',\n",
              "              dtype=object),\n",
              "  'params': [{'gamma': 0.0},\n",
              "   {'gamma': 0.1},\n",
              "   {'gamma': 0.2},\n",
              "   {'gamma': 0.3},\n",
              "   {'gamma': 0.4}],\n",
              "  'rank_test_score': array([4, 5, 1, 3, 2], dtype=int32),\n",
              "  'split0_test_score': array([0.99888722, 0.99891632, 0.99896333, 0.99893916, 0.99891845]),\n",
              "  'split1_test_score': array([0.99892997, 0.99893262, 0.99892547, 0.99892148, 0.99887488]),\n",
              "  'split2_test_score': array([0.99882076, 0.99876029, 0.99877668, 0.99879803, 0.99883816]),\n",
              "  'split3_test_score': array([0.99878296, 0.9987447 , 0.99878812, 0.99877783, 0.99880861]),\n",
              "  'split4_test_score': array([0.99878198, 0.9988215 , 0.99882694, 0.99882106, 0.99882003]),\n",
              "  'std_fit_time': array([ 1.63787664,  1.22407542,  0.92317352,  0.83935684, 75.67417367]),\n",
              "  'std_score_time': array([0.08762766, 0.04323703, 0.03478159, 0.07677621, 0.22982691]),\n",
              "  'std_test_score': array([5.88439972e-05, 7.75379243e-05, 7.49515051e-05, 6.60212256e-05,\n",
              "         4.00881612e-05])},\n",
              " {'gamma': 0.2},\n",
              " 0.9988561096359699)"
            ]
          },
          "metadata": {},
          "execution_count": 15
        }
      ]
    },
    {
      "cell_type": "markdown",
      "metadata": {
        "id": "qxYFhnDSjC6m"
      },
      "source": [
        "## 6.4 Tune subsample and colsample_bytree"
      ]
    },
    {
      "cell_type": "code",
      "metadata": {
        "colab": {
          "base_uri": "https://localhost:8080/"
        },
        "id": "S5JfhWm2jjdq",
        "outputId": "f41e0f4b-17c3-49a5-a27f-7473b47277d3"
      },
      "source": [
        "param_test4 = {\n",
        " 'subsample':[i/100.0 for i in range(75,85,3)],\n",
        " 'colsample_bytree':[i/100.0 for i in range(75,85,3)]\n",
        "}\n",
        "\n",
        "gsearch4 = GridSearchCV(estimator = xgb.XGBClassifier( learning_rate =0.1, n_estimators=140, max_depth=10,\n",
        " min_child_weight=7, gamma=0.2, subsample=0.8, colsample_bytree=0.8,\n",
        " objective= 'binary:logistic', nthread=4, scale_pos_weight=1, seed=27), \n",
        " param_grid = param_test4, scoring='roc_auc',n_jobs=4,iid=False, cv=5)\n",
        "\n",
        "gsearch4.fit(df_final_train, y_train)"
      ],
      "execution_count": null,
      "outputs": [
        {
          "output_type": "execute_result",
          "data": {
            "text/plain": [
              "GridSearchCV(cv=5, error_score=nan,\n",
              "             estimator=XGBClassifier(base_score=0.5, booster='gbtree',\n",
              "                                     colsample_bylevel=1, colsample_bynode=1,\n",
              "                                     colsample_bytree=0.8, gamma=0.2,\n",
              "                                     learning_rate=0.1, max_delta_step=0,\n",
              "                                     max_depth=10, min_child_weight=7,\n",
              "                                     missing=None, n_estimators=140, n_jobs=1,\n",
              "                                     nthread=4, objective='binary:logistic',\n",
              "                                     random_state=0, reg_alpha=0, reg_lambda=1,\n",
              "                                     scale_pos_weight=1, seed=27, silent=None,\n",
              "                                     subsample=0.8, verbosity=1),\n",
              "             iid=False, n_jobs=4,\n",
              "             param_grid={'colsample_bytree': [0.75, 0.78, 0.81, 0.84],\n",
              "                         'subsample': [0.75, 0.78, 0.81, 0.84]},\n",
              "             pre_dispatch='2*n_jobs', refit=True, return_train_score=False,\n",
              "             scoring='roc_auc', verbose=0)"
            ]
          },
          "metadata": {},
          "execution_count": 16
        }
      ]
    },
    {
      "cell_type": "code",
      "metadata": {
        "colab": {
          "base_uri": "https://localhost:8080/"
        },
        "id": "5Ok46MaZ3s3N",
        "outputId": "444036b9-18a6-4d61-b4ef-559f909594e7"
      },
      "source": [
        "gsearch4.cv_results_, gsearch4.best_params_, gsearch4.best_score_"
      ],
      "execution_count": null,
      "outputs": [
        {
          "output_type": "execute_result",
          "data": {
            "text/plain": [
              "({'mean_fit_time': array([235.570473  , 236.23596563, 239.04924269, 239.93095174,\n",
              "         244.4130547 , 244.6220418 , 246.75687461, 248.38518929,\n",
              "         248.87230654, 248.65668945, 251.13647399, 250.75480199,\n",
              "         256.37255545, 259.66866598, 262.91221271, 260.29757671]),\n",
              "  'mean_score_time': array([0.66089964, 0.68318667, 0.72992539, 0.71064763, 0.7072299 ,\n",
              "         0.72435651, 0.70141058, 0.71850119, 0.70679121, 0.72508807,\n",
              "         0.692837  , 0.68924966, 0.71037035, 0.71885371, 0.70118976,\n",
              "         0.49447203]),\n",
              "  'mean_test_score': array([0.99882545, 0.99884775, 0.99884611, 0.99882668, 0.99883563,\n",
              "         0.99883718, 0.99882577, 0.99883051, 0.99885578, 0.99885512,\n",
              "         0.99883256, 0.99883066, 0.998847  , 0.99886345, 0.99882621,\n",
              "         0.99884178]),\n",
              "  'param_colsample_bytree': masked_array(data=[0.75, 0.75, 0.75, 0.75, 0.78, 0.78, 0.78, 0.78, 0.81,\n",
              "                     0.81, 0.81, 0.81, 0.84, 0.84, 0.84, 0.84],\n",
              "               mask=[False, False, False, False, False, False, False, False,\n",
              "                     False, False, False, False, False, False, False, False],\n",
              "         fill_value='?',\n",
              "              dtype=object),\n",
              "  'param_subsample': masked_array(data=[0.75, 0.78, 0.81, 0.84, 0.75, 0.78, 0.81, 0.84, 0.75,\n",
              "                     0.78, 0.81, 0.84, 0.75, 0.78, 0.81, 0.84],\n",
              "               mask=[False, False, False, False, False, False, False, False,\n",
              "                     False, False, False, False, False, False, False, False],\n",
              "         fill_value='?',\n",
              "              dtype=object),\n",
              "  'params': [{'colsample_bytree': 0.75, 'subsample': 0.75},\n",
              "   {'colsample_bytree': 0.75, 'subsample': 0.78},\n",
              "   {'colsample_bytree': 0.75, 'subsample': 0.81},\n",
              "   {'colsample_bytree': 0.75, 'subsample': 0.84},\n",
              "   {'colsample_bytree': 0.78, 'subsample': 0.75},\n",
              "   {'colsample_bytree': 0.78, 'subsample': 0.78},\n",
              "   {'colsample_bytree': 0.78, 'subsample': 0.81},\n",
              "   {'colsample_bytree': 0.78, 'subsample': 0.84},\n",
              "   {'colsample_bytree': 0.81, 'subsample': 0.75},\n",
              "   {'colsample_bytree': 0.81, 'subsample': 0.78},\n",
              "   {'colsample_bytree': 0.81, 'subsample': 0.81},\n",
              "   {'colsample_bytree': 0.81, 'subsample': 0.84},\n",
              "   {'colsample_bytree': 0.84, 'subsample': 0.75},\n",
              "   {'colsample_bytree': 0.84, 'subsample': 0.78},\n",
              "   {'colsample_bytree': 0.84, 'subsample': 0.81},\n",
              "   {'colsample_bytree': 0.84, 'subsample': 0.84}],\n",
              "  'rank_test_score': array([16,  4,  6, 13,  9,  8, 15, 12,  2,  3, 10, 11,  5,  1, 14,  7],\n",
              "        dtype=int32),\n",
              "  'split0_test_score': array([0.99890391, 0.99890771, 0.998951  , 0.99890333, 0.99891537,\n",
              "         0.99893287, 0.99888616, 0.9988519 , 0.99897579, 0.99897445,\n",
              "         0.99892064, 0.99893876, 0.99894704, 0.99900124, 0.9989028 ,\n",
              "         0.9988752 ]),\n",
              "  'split1_test_score': array([0.99892041, 0.99896431, 0.99893264, 0.99891231, 0.99896949,\n",
              "         0.99886904, 0.99892516, 0.99895915, 0.99895486, 0.99891288,\n",
              "         0.99891837, 0.99889635, 0.99893611, 0.99892501, 0.99888847,\n",
              "         0.99892959]),\n",
              "  'split2_test_score': array([0.99873726, 0.99878784, 0.99875973, 0.9987415 , 0.99876926,\n",
              "         0.99874124, 0.99873966, 0.99874217, 0.99879392, 0.998781  ,\n",
              "         0.99878302, 0.99874563, 0.9987514 , 0.99879118, 0.99878012,\n",
              "         0.99875256]),\n",
              "  'split3_test_score': array([0.99879541, 0.9987661 , 0.99878853, 0.99875659, 0.99874517,\n",
              "         0.99880727, 0.99876456, 0.99875773, 0.9987591 , 0.99876515,\n",
              "         0.99873439, 0.99874375, 0.99876436, 0.99879386, 0.99879016,\n",
              "         0.99882191]),\n",
              "  'split4_test_score': array([0.99877023, 0.99881276, 0.99879866, 0.99881965, 0.99877885,\n",
              "         0.99883548, 0.99881329, 0.9988416 , 0.99879522, 0.99884212,\n",
              "         0.99880638, 0.99882882, 0.99883606, 0.99880593, 0.99876951,\n",
              "         0.99882964]),\n",
              "  'std_fit_time': array([1.05006278, 0.62752355, 0.94982149, 0.7057435 , 0.83274872,\n",
              "         1.08995659, 1.00805253, 0.99725892, 1.35251187, 0.61041441,\n",
              "         1.10939438, 0.93965748, 1.58634177, 1.27357034, 1.78601057,\n",
              "         4.44422799]),\n",
              "  'std_score_time': array([0.08190264, 0.04859313, 0.05361496, 0.02467282, 0.03017387,\n",
              "         0.02745619, 0.04377079, 0.01775504, 0.03637449, 0.02706265,\n",
              "         0.03166257, 0.05440702, 0.01673737, 0.02956686, 0.04382859,\n",
              "         0.21549397]),\n",
              "  'std_test_score': array([7.33523238e-05, 7.57125673e-05, 7.93942006e-05, 7.13089520e-05,\n",
              "         8.95430523e-05, 6.36766706e-05, 7.04885551e-05, 7.77557997e-05,\n",
              "         9.06192008e-05, 7.91604926e-05, 7.46972932e-05, 7.84693888e-05,\n",
              "         8.25064163e-05, 8.50299657e-05, 5.72392884e-05, 5.88724536e-05])},\n",
              " {'colsample_bytree': 0.84, 'subsample': 0.78},\n",
              " 0.9988634469216034)"
            ]
          },
          "metadata": {},
          "execution_count": 17
        }
      ]
    },
    {
      "cell_type": "markdown",
      "metadata": {
        "id": "v-jsnceB4ujQ"
      },
      "source": [
        "## 6.5 Tuning Regularization Parameters"
      ]
    },
    {
      "cell_type": "code",
      "metadata": {
        "colab": {
          "base_uri": "https://localhost:8080/"
        },
        "id": "Q7fMPoVM4IMT",
        "outputId": "374f8ca0-9da2-4879-dc47-f0836ae3bcb8"
      },
      "source": [
        "param_test5 = {\n",
        "  'reg_alpha':[1e-5, 1e-2, 0.1, 1, 10]\n",
        "}\n",
        "\n",
        "gsearch5 = GridSearchCV(estimator = xgb.XGBClassifier( learning_rate =0.1, n_estimators=140, max_depth=10,\n",
        " min_child_weight=7, gamma=0.2, subsample=0.78, colsample_bytree=0.84,\n",
        " objective= 'binary:logistic', nthread=4, scale_pos_weight=1, seed=27), \n",
        " param_grid = param_test5, scoring='roc_auc',n_jobs=4,iid=False, cv=5)\n",
        "\n",
        "gsearch5.fit(df_final_train, y_train)"
      ],
      "execution_count": null,
      "outputs": [
        {
          "output_type": "execute_result",
          "data": {
            "text/plain": [
              "GridSearchCV(cv=5, error_score=nan,\n",
              "             estimator=XGBClassifier(base_score=0.5, booster='gbtree',\n",
              "                                     colsample_bylevel=1, colsample_bynode=1,\n",
              "                                     colsample_bytree=0.84, gamma=0.2,\n",
              "                                     learning_rate=0.1, max_delta_step=0,\n",
              "                                     max_depth=10, min_child_weight=7,\n",
              "                                     missing=None, n_estimators=140, n_jobs=1,\n",
              "                                     nthread=4, objective='binary:logistic',\n",
              "                                     random_state=0, reg_alpha=0, reg_lambda=1,\n",
              "                                     scale_pos_weight=1, seed=27, silent=None,\n",
              "                                     subsample=0.78, verbosity=1),\n",
              "             iid=False, n_jobs=4,\n",
              "             param_grid={'reg_alpha': [1e-05, 0.01, 0.1, 1, 10]},\n",
              "             pre_dispatch='2*n_jobs', refit=True, return_train_score=False,\n",
              "             scoring='roc_auc', verbose=0)"
            ]
          },
          "metadata": {},
          "execution_count": 18
        }
      ]
    },
    {
      "cell_type": "code",
      "metadata": {
        "colab": {
          "base_uri": "https://localhost:8080/"
        },
        "id": "vxFNcIAm_6Np",
        "outputId": "404b4cba-dab1-40bb-d5d7-09c59fa1a85f"
      },
      "source": [
        "gsearch5.cv_results_, gsearch5.best_params_, gsearch5.best_score_"
      ],
      "execution_count": null,
      "outputs": [
        {
          "output_type": "execute_result",
          "data": {
            "text/plain": [
              "({'mean_fit_time': array([258.62904606, 259.98172197, 258.49448886, 259.73904834,\n",
              "         218.62111206]),\n",
              "  'mean_score_time': array([0.62057791, 0.59407854, 0.64932775, 0.57510047, 0.44020553]),\n",
              "  'mean_test_score': array([0.99886344, 0.99886976, 0.99886911, 0.9988455 , 0.99864432]),\n",
              "  'param_reg_alpha': masked_array(data=[1e-05, 0.01, 0.1, 1, 10],\n",
              "               mask=[False, False, False, False, False],\n",
              "         fill_value='?',\n",
              "              dtype=object),\n",
              "  'params': [{'reg_alpha': 1e-05},\n",
              "   {'reg_alpha': 0.01},\n",
              "   {'reg_alpha': 0.1},\n",
              "   {'reg_alpha': 1},\n",
              "   {'reg_alpha': 10}],\n",
              "  'rank_test_score': array([3, 1, 2, 4, 5], dtype=int32),\n",
              "  'split0_test_score': array([0.99900124, 0.99892055, 0.998956  , 0.99889906, 0.99872347]),\n",
              "  'split1_test_score': array([0.998925  , 0.99901079, 0.99893381, 0.9989243 , 0.99877759]),\n",
              "  'split2_test_score': array([0.99879118, 0.99883658, 0.99880617, 0.99876391, 0.9985121 ]),\n",
              "  'split3_test_score': array([0.99879386, 0.99874325, 0.99880553, 0.99878941, 0.99856384]),\n",
              "  'split4_test_score': array([0.99880592, 0.99883762, 0.99884401, 0.99885081, 0.99864462]),\n",
              "  'std_fit_time': array([ 0.82810066,  0.58801869,  0.94134168,  1.03451157, 78.25178941]),\n",
              "  'std_score_time': array([0.08375152, 0.05881817, 0.07176867, 0.08290234, 0.20119613]),\n",
              "  'std_test_score': array([8.50298705e-05, 9.01200126e-05, 6.38289328e-05, 6.14973199e-05,\n",
              "         9.79652467e-05])},\n",
              " {'reg_alpha': 0.01},\n",
              " 0.9988697605789465)"
            ]
          },
          "metadata": {},
          "execution_count": 19
        }
      ]
    },
    {
      "cell_type": "code",
      "metadata": {
        "colab": {
          "base_uri": "https://localhost:8080/",
          "height": 798
        },
        "id": "bOr0irZQIFwu",
        "outputId": "6835b623-461e-420f-c119-96e3d645ff12"
      },
      "source": [
        "xgb3 = xgb.XGBClassifier(\n",
        " learning_rate =0.01, #Reducing Learning Rate\n",
        " n_estimators=140, \n",
        " max_depth=10,\n",
        " min_child_weight=7,\n",
        " gamma=0.2,\n",
        " subsample=0.78,\n",
        " colsample_bytree=0.84,\n",
        " reg_alpha=0.01,\n",
        " objective= 'binary:logistic',\n",
        " nthread=4,\n",
        " scale_pos_weight=1,\n",
        " seed=27)\n",
        "modelfit(xgb3, df_final_train, y_train)"
      ],
      "execution_count": null,
      "outputs": [
        {
          "output_type": "stream",
          "name": "stdout",
          "text": [
            "\n",
            "Model Report\n",
            "Accuracy : 0.9777\n",
            "AUC Score (Train): 0.997797\n"
          ]
        },
        {
          "output_type": "display_data",
          "data": {
            "image/png": "[encoded data removed]",
            "text/plain": [
              "<Figure size 720x864 with 1 Axes>"
            ]
          },
          "metadata": {
            "needs_background": "light"
          }
        }
      ]
    },
    {
      "cell_type": "code",
      "metadata": {
        "id": "2iVbx6NKJsqH"
      },
      "source": [
        "y_train_pred = xgb3.predict(df_final_train)\n",
        "y_test_pred = xgb3.predict(df_final_test)"
      ],
      "execution_count": null,
      "outputs": []
    },
    {
      "cell_type": "code",
      "metadata": {
        "colab": {
          "base_uri": "https://localhost:8080/"
        },
        "id": "G0CVvG9VPlmd",
        "outputId": "2f3d27ac-f603-4249-eef1-eb8a59b51c55"
      },
      "source": [
        "#f1 score\n",
        "print('Train f1 score',f1_score(y_train,y_train_pred))\n",
        "print('Test f1 score',f1_score(y_test,y_test_pred))"
      ],
      "execution_count": null,
      "outputs": [
        {
          "output_type": "stream",
          "name": "stdout",
          "text": [
            "Train f1 score 0.9773574555834341\n",
            "Test f1 score 0.9343707713125846\n"
          ]
        }
      ]
    },
    {
      "cell_type": "code",
      "metadata": {
        "id": "2yGMhcPlQDAb"
      },
      "source": [
        "def plot_confusion_matrix(test_y, predict_y):\n",
        "    C = confusion_matrix(test_y, predict_y)\n",
        "    \n",
        "    A =(((C.T)/(C.sum(axis=1))).T)\n",
        "    \n",
        "    B =(C/C.sum(axis=0))\n",
        "    plt.figure(figsize=(20,4))\n",
        "    \n",
        "    labels = [0,1]\n",
        "    # representing A in heatmap format\n",
        "    cmap=sns.light_palette(\"blue\")\n",
        "    plt.subplot(1, 3, 1)\n",
        "    sns.heatmap(C, annot=True, cmap=cmap, fmt=\".3f\", xticklabels=labels, yticklabels=labels)\n",
        "    plt.xlabel('Predicted Class')\n",
        "    plt.ylabel('Original Class')\n",
        "    plt.title(\"Confusion matrix\")\n",
        "    \n",
        "    plt.subplot(1, 3, 2)\n",
        "    sns.heatmap(B, annot=True, cmap=cmap, fmt=\".3f\", xticklabels=labels, yticklabels=labels)\n",
        "    plt.xlabel('Predicted Class')\n",
        "    plt.ylabel('Original Class')\n",
        "    plt.title(\"Precision matrix\")\n",
        "    \n",
        "    plt.subplot(1, 3, 3)\n",
        "    # representing B in heatmap format\n",
        "    sns.heatmap(A, annot=True, cmap=cmap, fmt=\".3f\", xticklabels=labels, yticklabels=labels)\n",
        "    plt.xlabel('Predicted Class')\n",
        "    plt.ylabel('Original Class')\n",
        "    plt.title(\"Recall matrix\")\n",
        "    \n",
        "    plt.show()"
      ],
      "execution_count": null,
      "outputs": []
    },
    {
      "cell_type": "code",
      "metadata": {
        "colab": {
          "base_uri": "https://localhost:8080/",
          "height": 606
        },
        "id": "qoUeZ5bOQSpk",
        "outputId": "378d44ba-bbcd-4abb-f04f-b511702fdffd"
      },
      "source": [
        "print('Train confusion_matrix')\n",
        "plot_confusion_matrix(y_train,y_train_pred)\n",
        "print('Test confusion_matrix')\n",
        "plot_confusion_matrix(y_test,y_test_pred)"
      ],
      "execution_count": null,
      "outputs": [
        {
          "output_type": "stream",
          "name": "stdout",
          "text": [
            "Train confusion_matrix\n"
          ]
        },
        {
          "output_type": "display_data",
          "data": {
            "image/png": "[encoded data removed]",
            "text/plain": [
              "<Figure size 1440x288 with 6 Axes>"
            ]
          },
          "metadata": {
            "needs_background": "light"
          }
        },
        {
          "output_type": "stream",
          "name": "stdout",
          "text": [
            "Test confusion_matrix\n"
          ]
        },
        {
          "output_type": "display_data",
          "data": {
            "image/png": "[encoded data removed]",
            "text/plain": [
              "<Figure size 1440x288 with 6 Axes>"
            ]
          },
          "metadata": {
            "needs_background": "light"
          }
        }
      ]
    },
    {
      "cell_type": "code",
      "metadata": {
        "colab": {
          "base_uri": "https://localhost:8080/",
          "height": 295
        },
        "id": "RWae7QdQQkCJ",
        "outputId": "50ef0bda-5fa4-4d26-b0d4-5fda9496309e"
      },
      "source": [
        "from sklearn.metrics import roc_curve, auc\n",
        "fpr,tpr,ths = roc_curve(y_test,y_test_pred)\n",
        "auc_sc = auc(fpr, tpr)\n",
        "plt.plot(fpr, tpr, color='navy',label='ROC curve (area = %0.2f)' % auc_sc)\n",
        "plt.xlabel('False Positive Rate')\n",
        "plt.ylabel('True Positive Rate')\n",
        "plt.title('Receiver operating characteristic with test data')\n",
        "plt.legend()\n",
        "plt.show()"
      ],
      "execution_count": null,
      "outputs": [
        {
          "output_type": "display_data",
          "data": {
            "image/png": "[encoded data removed]",
            "text/plain": [
              "<Figure size 864x288 with 1 Axes>"
            ]
          },
          "metadata": {
            "needs_background": "light"
          }
        }
      ]
    },
    {
      "cell_type": "code",
      "metadata": {
        "id": "kPLq7sEofFQp"
      },
      "source": [
        "#dump the model\n",
        "pickle.dump(xgb3, open(\"/content/drive/MyDrive/data_raw/xgb_fine_tuned_clf1_1.pickle.dat\", \"wb\"))"
      ],
      "execution_count": null,
      "outputs": []
    },
    {
      "cell_type": "markdown",
      "metadata": {
        "id": "zVPe10PvV7Ir"
      },
      "source": [
        "# **Conclusion**\n",
        "\n",
        "<ol>\n",
        "<li>The performance of XGBoost is better as compared with the Random Forest</li>\n",
        "<li>we could've engineer more features or creating ensemble of models, stacking, etc</li>\n",
        "<li>we have cold start problem thats why there's diffrence between test f1 score and trian f1 score</li>\n",
        "</ol>\n"
      ]
    },
    {
      "cell_type": "code",
      "metadata": {
        "colab": {
          "base_uri": "https://localhost:8080/"
        },
        "id": "-QPffqHEUqzb",
        "outputId": "8531dec2-7415-400e-b0a0-6707ccd9a0cc"
      },
      "source": [
        "from prettytable import PrettyTable\n",
        "    \n",
        "x = PrettyTable()\n",
        "\n",
        "x.field_names = [\"ALgorithm\", \"Train F1 Score\",\"Test F1 Score\", \"train - test precision&recall\"]\n",
        "\n",
        "x.add_row([\"Random Forest\", \"0.9643856809877146\",\"0.9255157253973622\", \"Medium Gap\"])\n",
        "x.add_row([\"XGBoost (without fine tuning)\", \"0.9773574555834341\",\"0.9343707713125846\", \"Big Gap\"])\n",
        "x.add_row([\"XGBoost (with fine tuning)\", \"0.9773574555834341\",\"0.9343707713125846\", \"Small Gap\"])\n",
        "print(x)"
      ],
      "execution_count": null,
      "outputs": [
        {
          "output_type": "stream",
          "name": "stdout",
          "text": [
            "+-------------------------------+--------------------+--------------------+-------------------------------+\n",
            "|           ALgorithm           |   Train F1 Score   |   Test F1 Score    | train - test precision&recall |\n",
            "+-------------------------------+--------------------+--------------------+-------------------------------+\n",
            "|         Random Forest         | 0.9643856809877146 | 0.9255157253973622 |           Medium Gap          |\n",
            "| XGBoost (without fine tuning) | 0.9773574555834341 | 0.9343707713125846 |            Big Gap            |\n",
            "|   XGBoost (with fine tuning)  | 0.9773574555834341 | 0.9343707713125846 |           Small Gap           |\n",
            "+-------------------------------+--------------------+--------------------+-------------------------------+\n"
          ]
        }
      ]
    }
  ]
}