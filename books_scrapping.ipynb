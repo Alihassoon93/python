{
  "nbformat": 4,
  "nbformat_minor": 0,
  "metadata": {
    "colab": {
      "name": "books_scrapping.ipynb",
      "provenance": [],
      "authorship_tag": "ABX9TyN+tB0n5NWzb3EYM7SaodcC"
    },
    "kernelspec": {
      "name": "python3",
      "display_name": "Python 3"
    },
    "language_info": {
      "name": "python"
    },
    "accelerator": "TPU"
  },
  "cells": [
    {
      "cell_type": "code",
      "metadata": {
        "id": "4O50hGKgVlvi"
      },
      "source": [
        "import re\n",
        "import requests\n",
        "import pandas as pd\n",
        "from bs4 import BeautifulSoup\n",
        "\n",
        "main_url = \"http://books.toscrape.com/index.html\"\n",
        "\n",
        "def getAndParseURL(url):\n",
        "    result = requests.get(url)\n",
        "    soup = BeautifulSoup(result.text, 'html.parser')\n",
        "    return(soup)\n",
        "\n",
        "\n",
        "def getBooksURLs(url):\n",
        "    soup = getAndParseURL(url)\n",
        "    # remove the index.html part of the base url before returning the results\n",
        "    return([\"/\".join(url.split(\"/\")[:-1]) + \"/\" + x.div.a.get('href') for x in soup.findAll(\"article\", class_ = \"product_pod\")])\n",
        "\n",
        "\n",
        "\n",
        "# store all the results into a list\n",
        "pages_urls = [main_url]\n",
        "\n",
        "soup = getAndParseURL(pages_urls[0])\n",
        "\n",
        "# while we get two matches, this means that the webpage contains a 'previous' and a 'next' button\n",
        "# if there is only one button, this means that we are either on the first page or on the last page\n",
        "# we stop when we get to the last page\n",
        "\n",
        "\n",
        "while len(soup.findAll(\"a\", href=re.compile(\"page\"))) == 2 or len(pages_urls) == 1:\n",
        "    \n",
        "    # get the new complete url by adding the fetched URL to the base URL (and removing the .html part of the base URL)\n",
        "    new_url = \"/\".join(pages_urls[-1].split(\"/\")[:-1]) + \"/\" + soup.findAll(\"a\", href=re.compile(\"page\"))[-1].get(\"href\")\n",
        "    \n",
        "    # add the URL to the list\n",
        "    pages_urls.append(new_url)\n",
        "    \n",
        "    # parse the next page\n",
        "    soup = getAndParseURL(new_url)\n",
        "    \n",
        "# print(str(len(pages_urls)) + \" fetched URLs\")\n",
        "# print(\"Some examples:\")\n",
        "# pages_urls[:5]\n",
        "\n",
        "booksURLs = []\n",
        "for page in pages_urls:\n",
        "    booksURLs.extend(getBooksURLs(page))\n",
        "\n",
        "\n",
        "# print(str(len(booksURLs)) + \" fetched URLs\")\n",
        "# print(\"Some examples:\")\n",
        "# booksURLs[:5]\n",
        "\n",
        "# scrape data for every book URL: PS.this may take some time cuz we are scrapping all the pages\n",
        "names = []\n",
        "categories = []\n",
        "for url in booksURLs:\n",
        "    soup = getAndParseURL(url)\n",
        "    # product name\n",
        "    names.append(soup.find(\"div\", class_ = re.compile(\"product_main\")).h1.text)\n",
        "    # product category\n",
        "    categories.append(soup.find(\"a\", href = re.compile(\"../category/books/\")).get(\"href\").split(\"/\")[3])\n",
        "\n",
        "\n",
        "# term and normalize categories & names \n",
        "\n",
        "trim_categories = []\n",
        "for value in categories:\n",
        "  result = value.replace(\"-\", \" \")\n",
        "  trimming = re.sub(r'[^A-Za-z- ]', '', result)\n",
        "  trim_categories.append(trimming)\n",
        "\n",
        "trim_names = []\n",
        "for value1 in names:\n",
        "  result1 = value1.lower()\n",
        "  trim_names.append(result1)\n",
        "\n",
        "\n",
        "# add data into pandas df\n",
        "scraped_dataNew = pd.DataFrame({'name': trim_names, \"product_category\": trim_categories}, index=None)\n",
        "\n",
        "\n",
        "# check if a certain book is in a certain category\n",
        "def in_stock(title,topic):\n",
        "  if ((scraped_dataNew['name'] == title) & (scraped_dataNew['product_category'] == topic)).any():\n",
        "    return True\n",
        "  else:\n",
        "    return False\n",
        "  \n"
      ],
      "execution_count": 1,
      "outputs": []
    },
    {
      "cell_type": "code",
      "metadata": {
        "colab": {
          "base_uri": "https://localhost:8080/",
          "height": 417
        },
        "id": "fTRESQ3ibAUR",
        "outputId": "5c7f0c91-b63c-4049-fa6b-df02376864bc"
      },
      "source": [
        "scraped_dataNew"
      ],
      "execution_count": 2,
      "outputs": [
        {
          "output_type": "execute_result",
          "data": {
            "text/html": [
              "<div>\n",
              "<style scoped>\n",
              "    .dataframe tbody tr th:only-of-type {\n",
              "        vertical-align: middle;\n",
              "    }\n",
              "\n",
              "    .dataframe tbody tr th {\n",
              "        vertical-align: top;\n",
              "    }\n",
              "\n",
              "    .dataframe thead th {\n",
              "        text-align: right;\n",
              "    }\n",
              "</style>\n",
              "<table border=\"1\" class=\"dataframe\">\n",
              "  <thead>\n",
              "    <tr style=\"text-align: right;\">\n",
              "      <th></th>\n",
              "      <th>name</th>\n",
              "      <th>product_category</th>\n",
              "    </tr>\n",
              "  </thead>\n",
              "  <tbody>\n",
              "    <tr>\n",
              "      <th>0</th>\n",
              "      <td>a light in the attic</td>\n",
              "      <td>poetry</td>\n",
              "    </tr>\n",
              "    <tr>\n",
              "      <th>1</th>\n",
              "      <td>tipping the velvet</td>\n",
              "      <td>historical fiction</td>\n",
              "    </tr>\n",
              "    <tr>\n",
              "      <th>2</th>\n",
              "      <td>soumission</td>\n",
              "      <td>fiction</td>\n",
              "    </tr>\n",
              "    <tr>\n",
              "      <th>3</th>\n",
              "      <td>sharp objects</td>\n",
              "      <td>mystery</td>\n",
              "    </tr>\n",
              "    <tr>\n",
              "      <th>4</th>\n",
              "      <td>sapiens: a brief history of humankind</td>\n",
              "      <td>history</td>\n",
              "    </tr>\n",
              "    <tr>\n",
              "      <th>...</th>\n",
              "      <td>...</td>\n",
              "      <td>...</td>\n",
              "    </tr>\n",
              "    <tr>\n",
              "      <th>995</th>\n",
              "      <td>alice in wonderland (alice's adventures in won...</td>\n",
              "      <td>classics</td>\n",
              "    </tr>\n",
              "    <tr>\n",
              "      <th>996</th>\n",
              "      <td>ajin: demi-human, volume 1 (ajin: demi-human #1)</td>\n",
              "      <td>sequential art</td>\n",
              "    </tr>\n",
              "    <tr>\n",
              "      <th>997</th>\n",
              "      <td>a spy's devotion (the regency spies of london #1)</td>\n",
              "      <td>historical fiction</td>\n",
              "    </tr>\n",
              "    <tr>\n",
              "      <th>998</th>\n",
              "      <td>1st to die (women's murder club #1)</td>\n",
              "      <td>mystery</td>\n",
              "    </tr>\n",
              "    <tr>\n",
              "      <th>999</th>\n",
              "      <td>1,000 places to see before you die</td>\n",
              "      <td>travel</td>\n",
              "    </tr>\n",
              "  </tbody>\n",
              "</table>\n",
              "<p>1000 rows × 2 columns</p>\n",
              "</div>"
            ],
            "text/plain": [
              "                                                  name    product_category\n",
              "0                                 a light in the attic              poetry\n",
              "1                                   tipping the velvet  historical fiction\n",
              "2                                           soumission             fiction\n",
              "3                                        sharp objects             mystery\n",
              "4                sapiens: a brief history of humankind             history\n",
              "..                                                 ...                 ...\n",
              "995  alice in wonderland (alice's adventures in won...            classics\n",
              "996   ajin: demi-human, volume 1 (ajin: demi-human #1)      sequential art\n",
              "997  a spy's devotion (the regency spies of london #1)  historical fiction\n",
              "998                1st to die (women's murder club #1)             mystery\n",
              "999                 1,000 places to see before you die              travel\n",
              "\n",
              "[1000 rows x 2 columns]"
            ]
          },
          "metadata": {
            "tags": []
          },
          "execution_count": 2
        }
      ]
    },
    {
      "cell_type": "code",
      "metadata": {
        "colab": {
          "base_uri": "https://localhost:8080/"
        },
        "id": "cVp1kgt4bDN1",
        "outputId": "754e8d79-1547-4fbb-8099-e8a9e23e1524"
      },
      "source": [
        "in_stock('sapiens: a brief history of humankind', 'history')"
      ],
      "execution_count": 3,
      "outputs": [
        {
          "output_type": "execute_result",
          "data": {
            "text/plain": [
              "True"
            ]
          },
          "metadata": {
            "tags": []
          },
          "execution_count": 3
        }
      ]
    }
  ]
}